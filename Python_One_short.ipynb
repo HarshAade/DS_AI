{
  "nbformat": 4,
  "nbformat_minor": 0,
  "metadata": {
    "colab": {
      "provenance": [],
      "authorship_tag": "ABX9TyMvIW0c8MmUCX6Wg50weT7v",
      "include_colab_link": true
    },
    "kernelspec": {
      "name": "python3",
      "display_name": "Python 3"
    },
    "language_info": {
      "name": "python"
    }
  },
  "cells": [
    {
      "cell_type": "markdown",
      "metadata": {
        "id": "view-in-github",
        "colab_type": "text"
      },
      "source": [
        "<a href=\"https://colab.research.google.com/github/HarshAade/DS_AI/blob/main/Python_One_short.ipynb\" target=\"_parent\"><img src=\"https://colab.research.google.com/assets/colab-badge.svg\" alt=\"Open In Colab\"/></a>"
      ]
    },
    {
      "cell_type": "markdown",
      "source": [
        "## *Data Type in Python*\n",
        "\n",
        "\n"
      ],
      "metadata": {
        "id": "F9XVKWD-xf9k"
      }
    },
    {
      "cell_type": "markdown",
      "source": [
        "*Variable in python are like container*"
      ],
      "metadata": {
        "id": "1_eT9A4xszna"
      }
    },
    {
      "cell_type": "code",
      "source": [
        "name = 'Harsh'      # Here name is variable\n",
        "print(name)         # Variable is printed by using prijnt statement"
      ],
      "metadata": {
        "colab": {
          "base_uri": "https://localhost:8080/"
        },
        "id": "CbY5ccOfs8L9",
        "outputId": "fee02939-4a9c-408b-e703-85bb0280322e"
      },
      "execution_count": null,
      "outputs": [
        {
          "output_type": "stream",
          "name": "stdout",
          "text": [
            "Harsh\n"
          ]
        }
      ]
    },
    {
      "cell_type": "code",
      "source": [
        "# Now lets Take user define value from the user and print it\n",
        "nam = input( 'Enter your name : ')\n",
        "print(nam)"
      ],
      "metadata": {
        "colab": {
          "base_uri": "https://localhost:8080/"
        },
        "id": "_WnJZlvks8Fh",
        "outputId": "941d5e7f-a3ee-4247-c37c-f1ce12e3288a"
      },
      "execution_count": null,
      "outputs": [
        {
          "output_type": "stream",
          "name": "stdout",
          "text": [
            "Enter your name : Harsh\n",
            "Harsh\n"
          ]
        }
      ]
    },
    {
      "cell_type": "code",
      "execution_count": null,
      "metadata": {
        "id": "wFQ_NvuB11nC",
        "colab": {
          "base_uri": "https://localhost:8080/"
        },
        "outputId": "0242dc32-6e09-4197-8db8-8dbdb7b56989"
      },
      "outputs": [
        {
          "output_type": "stream",
          "name": "stdout",
          "text": [
            "Enter your name : Harsh \n",
            "Hello Harsh \n"
          ]
        }
      ],
      "source": [
        "# Now lets print promopt in print function\n",
        "name = input( 'Enter your name : ')\n",
        "print('Hello', name)"
      ]
    },
    {
      "cell_type": "markdown",
      "source": [
        "*Data Type in python*\n",
        "   \n",
        "                              In pyhton we say\n",
        "    1} Integers    = 10        = Integres\n",
        "    2} Real number = 10.34     = float\n",
        "    3} Words       = \"Harsh\"   = string\n",
        "\n",
        "    In Python we can check data type using type commont"
      ],
      "metadata": {
        "id": "bUHlMZu7vDBp"
      }
    },
    {
      "cell_type": "code",
      "source": [
        "type(10)"
      ],
      "metadata": {
        "colab": {
          "base_uri": "https://localhost:8080/"
        },
        "id": "zfNGQ_25vmaC",
        "outputId": "8b1cc15b-5c65-4e1b-ee73-0d91ed698406"
      },
      "execution_count": null,
      "outputs": [
        {
          "output_type": "execute_result",
          "data": {
            "text/plain": [
              "int"
            ]
          },
          "metadata": {},
          "execution_count": 5
        }
      ]
    },
    {
      "cell_type": "code",
      "source": [
        "type(10.34)"
      ],
      "metadata": {
        "colab": {
          "base_uri": "https://localhost:8080/"
        },
        "id": "iBaDKoRKv6Pt",
        "outputId": "21faf089-1528-4bbb-80f8-a2948567ca52"
      },
      "execution_count": null,
      "outputs": [
        {
          "output_type": "execute_result",
          "data": {
            "text/plain": [
              "float"
            ]
          },
          "metadata": {},
          "execution_count": 6
        }
      ]
    },
    {
      "cell_type": "code",
      "source": [
        "type(\"Harsh\")"
      ],
      "metadata": {
        "colab": {
          "base_uri": "https://localhost:8080/"
        },
        "id": "9wy_vkNsv7X1",
        "outputId": "ba12c087-591b-4d75-ebb3-5262330db652"
      },
      "execution_count": null,
      "outputs": [
        {
          "output_type": "execute_result",
          "data": {
            "text/plain": [
              "str"
            ]
          },
          "metadata": {},
          "execution_count": 7
        }
      ]
    },
    {
      "cell_type": "markdown",
      "source": [
        "     String are the set of character which are enclosed in single or double\n",
        "     coat it can content combination of letter , number , symbol & even of\n",
        "     blank spaces  \n",
        "\n",
        "     There is one more data type\n",
        "       Boolen it take either True or False"
      ],
      "metadata": {
        "id": "VmJfqHB_wJ6i"
      }
    },
    {
      "cell_type": "code",
      "source": [
        "type(True)"
      ],
      "metadata": {
        "colab": {
          "base_uri": "https://localhost:8080/"
        },
        "id": "hV-A-gphv9Ff",
        "outputId": "9a7fa1c9-2486-47aa-8c21-0e30161f26a6"
      },
      "execution_count": null,
      "outputs": [
        {
          "output_type": "execute_result",
          "data": {
            "text/plain": [
              "bool"
            ]
          },
          "metadata": {},
          "execution_count": 8
        }
      ]
    },
    {
      "cell_type": "markdown",
      "source": [
        "*Type Casting*\n",
        "\n",
        "      Which means we can convert float to int , int to string like this"
      ],
      "metadata": {
        "id": "0c50s-xsxaB9"
      }
    },
    {
      "cell_type": "code",
      "source": [
        "float(10)"
      ],
      "metadata": {
        "colab": {
          "base_uri": "https://localhost:8080/"
        },
        "id": "-o-CSa3YxWc0",
        "outputId": "0d4e6d79-7545-46e8-a4df-ee9a2576b2f3"
      },
      "execution_count": null,
      "outputs": [
        {
          "output_type": "execute_result",
          "data": {
            "text/plain": [
              "10.0"
            ]
          },
          "metadata": {},
          "execution_count": 9
        }
      ]
    },
    {
      "cell_type": "code",
      "source": [
        "int(4.3)  # in this when we convert float to int we loss some value"
      ],
      "metadata": {
        "colab": {
          "base_uri": "https://localhost:8080/"
        },
        "id": "-Ns7rjrq1mOc",
        "outputId": "af985adf-a57e-4bcc-835d-6f1decd7fd91"
      },
      "execution_count": null,
      "outputs": [
        {
          "output_type": "execute_result",
          "data": {
            "text/plain": [
              "4"
            ]
          },
          "metadata": {},
          "execution_count": 10
        }
      ]
    },
    {
      "cell_type": "code",
      "source": [
        "str(10)"
      ],
      "metadata": {
        "colab": {
          "base_uri": "https://localhost:8080/",
          "height": 36
        },
        "id": "Hm1wdogU1qcr",
        "outputId": "d793a71b-37d5-4305-d46b-9c49e2962585"
      },
      "execution_count": null,
      "outputs": [
        {
          "output_type": "execute_result",
          "data": {
            "text/plain": [
              "'10'"
            ],
            "application/vnd.google.colaboratory.intrinsic+json": {
              "type": "string"
            }
          },
          "metadata": {},
          "execution_count": 13
        }
      ]
    },
    {
      "cell_type": "markdown",
      "source": [
        "    Boolen convertions:  \n",
        "      1} True  == int(True) or float(true)   ---- 1\n",
        "      2} False == int(false) or float(false) ---- 0\n",
        "      3} 1  == bool(1)  ---- True\n",
        "      4} 0  == bool(0)  ---- False    "
      ],
      "metadata": {
        "id": "iKaY1oWb2KZj"
      }
    },
    {
      "cell_type": "markdown",
      "source": [
        "*Some Example* :"
      ],
      "metadata": {
        "id": "g8bVZScL202V"
      }
    },
    {
      "cell_type": "code",
      "source": [
        "x = 3.5\n",
        "print(float(int(x)))"
      ],
      "metadata": {
        "colab": {
          "base_uri": "https://localhost:8080/"
        },
        "id": "Vfe-L8ve15As",
        "outputId": "95e20ba9-0c64-4a44-d2d6-152e19d76a2b"
      },
      "execution_count": null,
      "outputs": [
        {
          "output_type": "stream",
          "name": "stdout",
          "text": [
            "3.0\n"
          ]
        }
      ]
    },
    {
      "cell_type": "code",
      "source": [
        "name = Varma\n",
        "print(type(name))"
      ],
      "metadata": {
        "colab": {
          "base_uri": "https://localhost:8080/",
          "height": 176
        },
        "id": "tb-X9eo623_8",
        "outputId": "182f87f3-4c23-470c-8097-0f86edf22e50"
      },
      "execution_count": null,
      "outputs": [
        {
          "output_type": "error",
          "ename": "NameError",
          "evalue": "name 'Varma' is not defined",
          "traceback": [
            "\u001b[0;31m---------------------------------------------------------------------------\u001b[0m",
            "\u001b[0;31mNameError\u001b[0m                                 Traceback (most recent call last)",
            "\u001b[0;32m<ipython-input-15-ba50ca9146a3>\u001b[0m in \u001b[0;36m<cell line: 1>\u001b[0;34m()\u001b[0m\n\u001b[0;32m----> 1\u001b[0;31m \u001b[0mname\u001b[0m \u001b[0;34m=\u001b[0m \u001b[0mVarma\u001b[0m\u001b[0;34m\u001b[0m\u001b[0;34m\u001b[0m\u001b[0m\n\u001b[0m\u001b[1;32m      2\u001b[0m \u001b[0;34m\u001b[0m\u001b[0m\n\u001b[1;32m      3\u001b[0m \u001b[0mprint\u001b[0m\u001b[0;34m(\u001b[0m\u001b[0mtype\u001b[0m\u001b[0;34m(\u001b[0m\u001b[0mname\u001b[0m\u001b[0;34m)\u001b[0m\u001b[0;34m)\u001b[0m\u001b[0;34m\u001b[0m\u001b[0;34m\u001b[0m\u001b[0m\n",
            "\u001b[0;31mNameError\u001b[0m: name 'Varma' is not defined"
          ]
        }
      ]
    },
    {
      "cell_type": "markdown",
      "source": [
        "## *Arithmetic Operations*"
      ],
      "metadata": {
        "id": "LxEK3rBR3EST"
      }
    },
    {
      "cell_type": "code",
      "source": [
        "a = 10\n",
        "b = 2\n",
        "print('additon = ',a+b)\n",
        "print('subtraction = ',a-b)\n",
        "print('multiplication = ',a*b)\n",
        "print('division = ',a/b)\n",
        "print('modulus or remainder = ',a%b)\n",
        "print('exponential = ',a**b)\n",
        "print('floor division = ',a//b)\n",
        "#square and cube\n",
        "print('square = ',a**2)\n",
        "print('cube = ',a**3)"
      ],
      "metadata": {
        "id": "WqbM3Wki25_9",
        "colab": {
          "base_uri": "https://localhost:8080/"
        },
        "outputId": "390be937-89d4-4680-ff32-7b3557ef631b"
      },
      "execution_count": null,
      "outputs": [
        {
          "output_type": "stream",
          "name": "stdout",
          "text": [
            "additon =  12\n",
            "subtraction =  8\n",
            "multiplication =  20\n",
            "division =  5.0\n",
            "modulus or remainder =  0\n",
            "exponential =  100\n",
            "floor division =  5\n",
            "square =  100\n",
            "cube =  1000\n"
          ]
        }
      ]
    },
    {
      "cell_type": "markdown",
      "source": [
        "*Some Example* :"
      ],
      "metadata": {
        "id": "7mbHmDyd9PpY"
      }
    },
    {
      "cell_type": "code",
      "source": [
        "x = 3\n",
        "y = 2.5\n",
        "z = 5\n",
        "print(X + y / z)"
      ],
      "metadata": {
        "colab": {
          "base_uri": "https://localhost:8080/",
          "height": 176
        },
        "id": "tPbXh2Na8mHM",
        "outputId": "55bda38d-4604-4a20-dd4e-e5fdb99c80fc"
      },
      "execution_count": null,
      "outputs": [
        {
          "output_type": "error",
          "ename": "NameError",
          "evalue": "name 'X' is not defined",
          "traceback": [
            "\u001b[0;31m---------------------------------------------------------------------------\u001b[0m",
            "\u001b[0;31mNameError\u001b[0m                                 Traceback (most recent call last)",
            "\u001b[0;32m<ipython-input-20-6f1e229be3e4>\u001b[0m in \u001b[0;36m<cell line: 4>\u001b[0;34m()\u001b[0m\n\u001b[1;32m      2\u001b[0m \u001b[0my\u001b[0m \u001b[0;34m=\u001b[0m \u001b[0;36m2.5\u001b[0m\u001b[0;34m\u001b[0m\u001b[0;34m\u001b[0m\u001b[0m\n\u001b[1;32m      3\u001b[0m \u001b[0mz\u001b[0m \u001b[0;34m=\u001b[0m \u001b[0;36m5\u001b[0m\u001b[0;34m\u001b[0m\u001b[0;34m\u001b[0m\u001b[0m\n\u001b[0;32m----> 4\u001b[0;31m \u001b[0mprint\u001b[0m\u001b[0;34m(\u001b[0m\u001b[0mX\u001b[0m \u001b[0;34m+\u001b[0m \u001b[0my\u001b[0m \u001b[0;34m/\u001b[0m \u001b[0mz\u001b[0m\u001b[0;34m)\u001b[0m\u001b[0;34m\u001b[0m\u001b[0;34m\u001b[0m\u001b[0m\n\u001b[0m",
            "\u001b[0;31mNameError\u001b[0m: name 'X' is not defined"
          ]
        }
      ]
    },
    {
      "cell_type": "markdown",
      "source": [
        "[*Operator precedencet*](https://docs.python.org/3.7/reference/expressions.html#operator-precedence)\n",
        "\n",
        "    Follow the operator precedence rule in Python for more detail"
      ],
      "metadata": {
        "id": "Lj_WYa3w9cTi"
      }
    },
    {
      "cell_type": "code",
      "source": [
        "4 % (1 + 9)**2 - 60 // (7 + 2)"
      ],
      "metadata": {
        "colab": {
          "base_uri": "https://localhost:8080/"
        },
        "id": "di5jGd2K9Sej",
        "outputId": "11118fa5-9197-4a94-894d-43ca815ba4be"
      },
      "execution_count": null,
      "outputs": [
        {
          "output_type": "execute_result",
          "data": {
            "text/plain": [
              "-2"
            ]
          },
          "metadata": {},
          "execution_count": 21
        }
      ]
    },
    {
      "cell_type": "markdown",
      "source": [
        "## *String operation*"
      ],
      "metadata": {
        "id": "PYsuO9qw9_4U"
      }
    },
    {
      "cell_type": "markdown",
      "source": [
        "    # Strings are always enclosed either in single coat or double coat ' ', \" \"\n",
        "    # Charcater must always defined in single or double coat it must be single or combination\n",
        "    # Strings are immutable {immutable means = we cannot change element inside the object once created}"
      ],
      "metadata": {
        "id": "gyeok2d2F6sw"
      }
    },
    {
      "cell_type": "code",
      "source": [
        "a = 'H'\n",
        "b = \"Harsh\"\n",
        "print(a)\n",
        "print(b)"
      ],
      "metadata": {
        "colab": {
          "base_uri": "https://localhost:8080/"
        },
        "id": "fhBAKVd-9VYL",
        "outputId": "4a6626a0-23b7-45e1-f53a-f6a0718bae93"
      },
      "execution_count": null,
      "outputs": [
        {
          "output_type": "stream",
          "name": "stdout",
          "text": [
            "H\n",
            "Harsh\n"
          ]
        }
      ]
    },
    {
      "cell_type": "code",
      "source": [
        "# BY using len() function we can see the length of the string\n",
        "h = \"Harsh\"\n",
        "print(len(h))"
      ],
      "metadata": {
        "colab": {
          "base_uri": "https://localhost:8080/"
        },
        "id": "A9KklITOGdz9",
        "outputId": "0a06edd1-8627-40ff-fa57-a0f11bf4d98f"
      },
      "execution_count": null,
      "outputs": [
        {
          "output_type": "stream",
          "name": "stdout",
          "text": [
            "5\n"
          ]
        }
      ]
    },
    {
      "cell_type": "markdown",
      "source": [
        "     Acssing the element and it is also called as slicing"
      ],
      "metadata": {
        "id": "LVs0wLV8IQGK"
      }
    },
    {
      "cell_type": "code",
      "source": [
        "# String always store the element in index form and by uisng it we can access it\n",
        "# first location start 0\n",
        "v = 'Harsh Aade'\n",
        "v[0]"
      ],
      "metadata": {
        "colab": {
          "base_uri": "https://localhost:8080/",
          "height": 36
        },
        "id": "MHMHX0xaGyeb",
        "outputId": "9841f9d7-e922-45e4-e5f8-00c7d45f3852"
      },
      "execution_count": null,
      "outputs": [
        {
          "output_type": "execute_result",
          "data": {
            "text/plain": [
              "'H'"
            ],
            "application/vnd.google.colaboratory.intrinsic+json": {
              "type": "string"
            }
          },
          "metadata": {},
          "execution_count": 27
        }
      ]
    },
    {
      "cell_type": "code",
      "source": [
        "v[-1]"
      ],
      "metadata": {
        "colab": {
          "base_uri": "https://localhost:8080/",
          "height": 36
        },
        "id": "YRNVerkwHIVJ",
        "outputId": "2f2a4e9b-890a-42a8-9f0b-d69d598370bd"
      },
      "execution_count": null,
      "outputs": [
        {
          "output_type": "execute_result",
          "data": {
            "text/plain": [
              "'e'"
            ],
            "application/vnd.google.colaboratory.intrinsic+json": {
              "type": "string"
            }
          },
          "metadata": {},
          "execution_count": 28
        }
      ]
    },
    {
      "cell_type": "markdown",
      "source": [
        "     Start : stop : step\n",
        "       1} [::-1] = for printing complete string in reverse order\n",
        "       2} [::1]  = for printing complete string in the way as it is\n"
      ],
      "metadata": {
        "id": "5G02pkKuHrD4"
      }
    },
    {
      "cell_type": "code",
      "source": [
        "v[::-1]   # for reverse order of string"
      ],
      "metadata": {
        "colab": {
          "base_uri": "https://localhost:8080/",
          "height": 36
        },
        "id": "jkhRsttVHZqu",
        "outputId": "9c118acc-57e9-4747-ddbe-88a58b6b1f09"
      },
      "execution_count": null,
      "outputs": [
        {
          "output_type": "execute_result",
          "data": {
            "text/plain": [
              "'edaA hsraH'"
            ],
            "application/vnd.google.colaboratory.intrinsic+json": {
              "type": "string"
            }
          },
          "metadata": {},
          "execution_count": 29
        }
      ]
    },
    {
      "cell_type": "code",
      "source": [
        "v[::1]    # for complete string"
      ],
      "metadata": {
        "colab": {
          "base_uri": "https://localhost:8080/",
          "height": 36
        },
        "id": "b_IBAgEXHc5I",
        "outputId": "5325249a-3325-485f-8f08-38c219b7c0d1"
      },
      "execution_count": null,
      "outputs": [
        {
          "output_type": "execute_result",
          "data": {
            "text/plain": [
              "'Harsh Aade'"
            ],
            "application/vnd.google.colaboratory.intrinsic+json": {
              "type": "string"
            }
          },
          "metadata": {},
          "execution_count": 30
        }
      ]
    },
    {
      "cell_type": "code",
      "source": [
        "v[::2]"
      ],
      "metadata": {
        "colab": {
          "base_uri": "https://localhost:8080/",
          "height": 36
        },
        "id": "b4oqE036HgKJ",
        "outputId": "96e0d5b3-220d-41c4-ca7b-ea52990c4548"
      },
      "execution_count": null,
      "outputs": [
        {
          "output_type": "execute_result",
          "data": {
            "text/plain": [
              "'HrhAd'"
            ],
            "application/vnd.google.colaboratory.intrinsic+json": {
              "type": "string"
            }
          },
          "metadata": {},
          "execution_count": 33
        }
      ]
    },
    {
      "cell_type": "code",
      "source": [
        "# Slicing of sentence\n",
        "ha = \"my Name is harsh aade i am 4th year be student\"\n",
        "# here is the all possible option\n",
        "a=ha[0:10]\n",
        "b=ha[20:30]\n",
        "c=ha[30:]\n",
        "d=ha[::2]\n",
        "e=ha[::-1]\n",
        "print(a)\n",
        "print(b)\n",
        "print(c)\n",
        "print(d)\n",
        "print(e)"
      ],
      "metadata": {
        "colab": {
          "base_uri": "https://localhost:8080/"
        },
        "id": "u-JNJ57iOQJ6",
        "outputId": "daf3c895-d521-4b1d-a012-905f5a819ed3"
      },
      "execution_count": null,
      "outputs": [
        {
          "output_type": "stream",
          "name": "stdout",
          "text": [
            "my Name is\n",
            "e i am 4th\n",
            " year be student\n",
            "m aei as aeia t erb tdn\n",
            "tneduts eb raey ht4 ma i edaa hsrah si emaN ym\n"
          ]
        }
      ]
    },
    {
      "cell_type": "code",
      "source": [
        "# membership ; lets check the string or any word is there in tge sentence or not\n",
        "print('name' in ha)  # name is there but n is captial\n",
        "print('harsh' in ha)\n",
        "print('son' in ha)"
      ],
      "metadata": {
        "colab": {
          "base_uri": "https://localhost:8080/"
        },
        "id": "zi7FrXYrPfBJ",
        "outputId": "093a9b17-70fa-4b6c-a6cb-4be5fbf6f143"
      },
      "execution_count": null,
      "outputs": [
        {
          "output_type": "stream",
          "name": "stdout",
          "text": [
            "False\n",
            "True\n",
            "False\n"
          ]
        }
      ]
    },
    {
      "cell_type": "code",
      "source": [
        "# lets do string concatenation it is done by uisng + operator\n",
        "# The double coat is assign for gap between them\n",
        "                     # Space is also a charchter\n",
        "\n",
        "a = 'Harsh'\n",
        "b = 'Aade'\n",
        "print(a + \" \" + b)   # The double coat is assign for gap between them\n",
        "                     # Space is also a charchter"
      ],
      "metadata": {
        "colab": {
          "base_uri": "https://localhost:8080/"
        },
        "id": "6icTPBRdICCT",
        "outputId": "61308232-3d36-4402-a2cf-98c4e1253291"
      },
      "execution_count": null,
      "outputs": [
        {
          "output_type": "stream",
          "name": "stdout",
          "text": [
            "Harsh Aade\n"
          ]
        }
      ]
    },
    {
      "cell_type": "code",
      "source": [
        "# now lets join int and float in string by type casting\n",
        "# rstrip() function\n",
        "# lstrip() function\n",
        "# Channing\n",
        "# Lets count the function\n",
        "# lets do string concatenation it is done by uisng + operator\n",
        "# The double coat is assign for gap between them\n",
        "                     # Space is also a charchter\n",
        "age = 20\n",
        "salary = 10000.5\n",
        "print('My age is ' + str(age) + ' and my salary is ' + str(salary))"
      ],
      "metadata": {
        "colab": {
          "base_uri": "https://localhost:8080/"
        },
        "id": "9TkpxS5PKJHg",
        "outputId": "e8e033ca-da85-4427-c4eb-9ef7f9ae1789"
      },
      "execution_count": null,
      "outputs": [
        {
          "output_type": "stream",
          "name": "stdout",
          "text": [
            "My age is 20 and my salary is 10000.5\n"
          ]
        }
      ]
    },
    {
      "cell_type": "markdown",
      "source": [
        "*String method*"
      ],
      "metadata": {
        "id": "8afa0iiXTsh5"
      }
    },
    {
      "cell_type": "code",
      "source": [
        "s = \"Harsh is a good boy\"\n",
        "s.upper()"
      ],
      "metadata": {
        "colab": {
          "base_uri": "https://localhost:8080/",
          "height": 36
        },
        "id": "XfQxL1kBMdvt",
        "outputId": "3b0feaa7-cb2f-41f9-c78f-2ad52aefdf21"
      },
      "execution_count": null,
      "outputs": [
        {
          "output_type": "execute_result",
          "data": {
            "text/plain": [
              "'HARSH IS A GOOD BOY'"
            ],
            "application/vnd.google.colaboratory.intrinsic+json": {
              "type": "string"
            }
          },
          "metadata": {},
          "execution_count": 47
        }
      ]
    },
    {
      "cell_type": "code",
      "source": [
        "u = \"HARSH IS IN MUMBAI \"\n",
        "u.lower()"
      ],
      "metadata": {
        "colab": {
          "base_uri": "https://localhost:8080/",
          "height": 36
        },
        "id": "QgdT8rWiTzTa",
        "outputId": "93c0737f-ab5e-4667-bcbf-63e42f40365e"
      },
      "execution_count": null,
      "outputs": [
        {
          "output_type": "execute_result",
          "data": {
            "text/plain": [
              "'harsh is in mumbai '"
            ],
            "application/vnd.google.colaboratory.intrinsic+json": {
              "type": "string"
            }
          },
          "metadata": {},
          "execution_count": 48
        }
      ]
    },
    {
      "cell_type": "code",
      "source": [
        "# rstrip() function\n",
        "# lstrip() function\n",
        "# Channing\n",
        "# Lets count the function\n",
        "s = \"Harsh    \"\n",
        "print(s)\n",
        "s.rstrip()"
      ],
      "metadata": {
        "colab": {
          "base_uri": "https://localhost:8080/",
          "height": 53
        },
        "id": "z9czZ0OfT7Gs",
        "outputId": "aeb81a19-77ff-4fbe-feb7-e0a7b68e1916"
      },
      "execution_count": null,
      "outputs": [
        {
          "output_type": "stream",
          "name": "stdout",
          "text": [
            "Harsh    \n"
          ]
        },
        {
          "output_type": "execute_result",
          "data": {
            "text/plain": [
              "'Harsh'"
            ],
            "application/vnd.google.colaboratory.intrinsic+json": {
              "type": "string"
            }
          },
          "metadata": {},
          "execution_count": 49
        }
      ]
    },
    {
      "cell_type": "code",
      "source": [
        "h = \"Harsh\"\n",
        "h.replace('h','&')"
      ],
      "metadata": {
        "colab": {
          "base_uri": "https://localhost:8080/",
          "height": 36
        },
        "id": "dEf6hjC8VIhS",
        "outputId": "22009f23-45af-4c78-cec9-a35617646350"
      },
      "execution_count": null,
      "outputs": [
        {
          "output_type": "execute_result",
          "data": {
            "text/plain": [
              "'Hars&'"
            ],
            "application/vnd.google.colaboratory.intrinsic+json": {
              "type": "string"
            }
          },
          "metadata": {},
          "execution_count": 51
        }
      ]
    },
    {
      "cell_type": "code",
      "source": [
        "a = 'Harhs2'\n",
        "print(a.rstrip('2'))   # last charcharter as been removed"
      ],
      "metadata": {
        "colab": {
          "base_uri": "https://localhost:8080/"
        },
        "id": "WKWAZQNnVO4J",
        "outputId": "cc1b8f47-a026-4ad7-d532-38135131708d"
      },
      "execution_count": null,
      "outputs": [
        {
          "output_type": "stream",
          "name": "stdout",
          "text": [
            "Harhs\n"
          ]
        }
      ]
    },
    {
      "cell_type": "code",
      "source": [
        "# lstrip() function\n",
        "# Channing\n",
        "# Lets count the function\n",
        "b = \"    Harsh\"\n",
        "print(b)\n",
        "b.lstrip()"
      ],
      "metadata": {
        "colab": {
          "base_uri": "https://localhost:8080/",
          "height": 53
        },
        "id": "B-7pQtQzVZA3",
        "outputId": "c68b7361-b7ac-4537-8d04-7ded4ca979b5"
      },
      "execution_count": null,
      "outputs": [
        {
          "output_type": "stream",
          "name": "stdout",
          "text": [
            "    Harsh\n"
          ]
        },
        {
          "output_type": "execute_result",
          "data": {
            "text/plain": [
              "'Harsh'"
            ],
            "application/vnd.google.colaboratory.intrinsic+json": {
              "type": "string"
            }
          },
          "metadata": {},
          "execution_count": 58
        }
      ]
    },
    {
      "cell_type": "code",
      "source": [
        "# Channing\n",
        "# Lets count the function\n",
        "c = \"******HarsH######\"\n",
        "print(c)\n",
        "print(c.rstrip('#').lstrip('*'))"
      ],
      "metadata": {
        "colab": {
          "base_uri": "https://localhost:8080/"
        },
        "id": "k_wLpc_4WevY",
        "outputId": "01773633-b899-438e-db98-eb6804c5f56e"
      },
      "execution_count": null,
      "outputs": [
        {
          "output_type": "stream",
          "name": "stdout",
          "text": [
            "******HarsH######\n",
            "HarsH\n"
          ]
        }
      ]
    },
    {
      "cell_type": "code",
      "source": [
        "# Lets count the function\n",
        "s = \"harsh is 20 year old and in 4th year \"\n",
        "print(s.count('a'))      # from starting index 0\n",
        "print(s.count('a',8))    # form 8th index"
      ],
      "metadata": {
        "colab": {
          "base_uri": "https://localhost:8080/"
        },
        "id": "oUi8-NmfXQgc",
        "outputId": "d90aaea5-eb81-41c5-d509-9f3e05929fe3"
      },
      "execution_count": null,
      "outputs": [
        {
          "output_type": "stream",
          "name": "stdout",
          "text": [
            "4\n",
            "3\n"
          ]
        }
      ]
    },
    {
      "cell_type": "markdown",
      "source": [
        "      String Problem\n",
        "        Description\n",
        "           In a certain encrypted message which has information about the location(area,\n",
        "           city), the characters are jumbled such that the first character of the first word is followed by the first\n",
        "           character of the second word, then it is followed by the second character of the first word and so on.\n",
        "\n",
        "    In other words, let’s say the location is bandra,mumbai\n",
        "    The encrypted message says ‘bmaunmdbraai’.\n",
        "    \n",
        "    Sample Input:\n",
        "      bmaunmdbraai\n",
        "    Sample Output:\n",
        "     bandra,mumbai"
      ],
      "metadata": {
        "id": "M0P83mCzcm4i"
      }
    },
    {
      "cell_type": "code",
      "source": [
        "input_string = \"bmaunmdbraai\"\n",
        "m = input_string[::2]\n",
        "a = input_string[1::2]\n",
        "print(m +\",\"+a)"
      ],
      "metadata": {
        "colab": {
          "base_uri": "https://localhost:8080/"
        },
        "id": "5bq_w7MIZm3L",
        "outputId": "c32f38b5-0c51-4053-e4f0-fc49d2f0c837"
      },
      "execution_count": null,
      "outputs": [
        {
          "output_type": "stream",
          "name": "stdout",
          "text": [
            "bandra,mumbai\n"
          ]
        }
      ]
    },
    {
      "cell_type": "code",
      "source": [
        "#Consider the string given below and answer the following questions\n",
        "string = \"OQYWFClFhFGAvIWYwGKpmZhnJiyzTslSIhSwvOsqJMEphzmifTkyqOMNpnOtXZxmCfgDYqbaBHAUvIWhMnvwZnEMVDvmEfLrDoQnAZgQEgXQVnmSYkfedpAdhrtpOgORpYLRZYGWdhWYuqQssCUXtTzKRDAhpjUheOzUroZNzWFtZOVwIapzUYtbSbjYNErzQ\"\n",
        "string[46]"
      ],
      "metadata": {
        "colab": {
          "base_uri": "https://localhost:8080/",
          "height": 36
        },
        "id": "QocnDtbpd_XX",
        "outputId": "af929f06-7b57-45e2-e7d1-1870881073d1"
      },
      "execution_count": null,
      "outputs": [
        {
          "output_type": "execute_result",
          "data": {
            "text/plain": [
              "'m'"
            ],
            "application/vnd.google.colaboratory.intrinsic+json": {
              "type": "string"
            }
          },
          "metadata": {},
          "execution_count": 81
        }
      ]
    },
    {
      "cell_type": "markdown",
      "source": [
        "*Additional Reading*\n",
        "    If you want to learn more about the topics provided in this module, you can optimally use the following resources.\n",
        "\n",
        "[ Think Python](https://greenteapress.com/wp/think-python-2e/)\n",
        "\n",
        "[*The hitchhiker's guide to Python*](https://docs.python-guide.org/intro/learning/)\n",
        "\n",
        "[*A byte of Python*](https://python.swaroopch.com/)\n",
        "\n",
        "[*Jupyter magic commands*](https://ipython.readthedocs.io/en/stable/interactive/magics.html)\n",
        "\n",
        "\n",
        "\n",
        "\n",
        "*Advanced Level:*\n",
        "\n",
        "[*Problem-solving with algorithms*](https://runestone.academy/ns/books/published/pythonds/index.html)"
      ],
      "metadata": {
        "id": "KN5Ki9mzgiDr"
      }
    },
    {
      "cell_type": "markdown",
      "source": [
        "## *Data Structures in Python*"
      ],
      "metadata": {
        "id": "PB4OlWTihhIq"
      }
    },
    {
      "cell_type": "markdown",
      "source": [
        "*Tuple*\n",
        "\n",
        "    1} it is immutable it means the changes can't be made\n",
        "    2} it is also know as campound data type\n",
        "    3} they are coverd by round bares\n",
        "    4} in it mixed data types are allowed  \n",
        "    5} a tuple can be defined without using parenthesls also\n",
        "    6} indexing can be done on the tuple same like we learnd before indexing start from 0 they also support negetive indexing it is also called as reverse indexing\n",
        "    7} Slicing can be also perform on the tuple it means fetching set of element from the tuple\n",
        "    8} by using len function we can find total element in the tuple\n",
        "    9} Concatenating tuples can be done using + operator\n",
        "    10} Python built in function like sum(), min(), max() can be formed on it  \n",
        "    11} adding new value can be example\n",
        "        t = (\"USA\",4,3,\"Mumbai\",7.5)\n",
        "        t[3] = \"Amravarti\" ----error\n",
        "        new_t = t[0:3] + (\"Harsh\") + t[4:]\n",
        "        new_t   -- output : (\"Use\",4,3,\"Harsh\",7.5)\n",
        "    12} Python provide built in function sorted for tuple so by using it can sort it\n",
        "        #  Sorted function always return a list\n",
        "    13} tuple itself is also a object so we can store tuple inside tuple in sort we can say nested tuple to it\n",
        "    14} Packing and unpacking in tuple\n",
        "        example :\n",
        "          t = (1,2,3,4)      # Packing\n",
        "          (a,b,c,d) = t      # Unpacking\n",
        "          print(a)           # Output: 1\n",
        "    15} by using dir() we can view the attributes or methods of an objects\n",
        "\n",
        "          \n",
        "        \n",
        "\n",
        "\n",
        "\n"
      ],
      "metadata": {
        "id": "XqyV9WTrhz0a"
      }
    },
    {
      "cell_type": "markdown",
      "source": [
        "*Some example* :\n"
      ],
      "metadata": {
        "id": "XdMBuNDVwwSn"
      }
    },
    {
      "cell_type": "code",
      "source": [
        "t = (\"disco\", 12, 4.5)\n",
        "t[0][2]"
      ],
      "metadata": {
        "colab": {
          "base_uri": "https://localhost:8080/",
          "height": 36
        },
        "id": "I8uZSV50wxvH",
        "outputId": "c0a73e54-d7bd-49a9-fe04-52b80abebdc2"
      },
      "execution_count": null,
      "outputs": [
        {
          "output_type": "execute_result",
          "data": {
            "text/plain": [
              "'s'"
            ],
            "application/vnd.google.colaboratory.intrinsic+json": {
              "type": "string"
            }
          },
          "metadata": {},
          "execution_count": 1
        }
      ]
    },
    {
      "cell_type": "markdown",
      "source": [
        "*list*\n",
        "\n",
        "    1} it is mutable it means they are updated the changes can be made\n",
        "    2} it is also know as campound data type\n",
        "    3} lists are ordered sequnce of mixed data types\n",
        "    4} They are inclosed in square brackets\n",
        "    5} we can create list inside list and tuple inside list\n",
        "    6} in this we can acces through index and it can be acces through negetive indexing also\n",
        "    7} Slicing can also be taken place\n",
        "    8} membership can be acces\n",
        "    9} list concatanetion can be done\n",
        "    10} Changes can be made by using index number\n",
        "    11} by using extend() method we can add element but it will be inserted in last of element and all the element will be indivisulal\n",
        "       # extend(): Extend a list by adding elements at the end of the list\n",
        "    12} appned insert it by list form as it is given in the square bracket\n",
        "      # append(): Append an object to the end of a list\n",
        "    13} we can Delete element by using index and by using del comment we can delete a bunch of element also same like slicing\n",
        "    14} by using pop() method we can delete last element of the list\n",
        "    15} by using list we can remove element by using element name\n",
        "    16} by using sort() method we can sort the given list by default it will solve in asceding order if sort(revserse = True) then it will sort in descding order  \n",
        "       # sort() is method belonging to the list object\n",
        "       # sorted() is a function it is built in function in python  \n",
        "    17} Mutable means we can change the element of the list\n",
        "        # Shallow copy can be done\n",
        "          a = ['harsh','saroj','kishan']\n",
        "          b = a\n",
        "          a[0] = 'hello'\n",
        "          a & b both output same like\n",
        "            = ['hello','saroj','kishan']\n",
        "          so we will other trick  \n",
        "          a = ['harsh','saroj','kishan']\n",
        "          b = a[:]\n",
        "          a[0] = 'hello'\n",
        "          a = ['hello','saroj','kishan'] -- it will only change\n",
        "          b = ['harsh','saroj','kishan'] -- it will not change\n",
        "        \n",
        "\n",
        "\n"
      ],
      "metadata": {
        "id": "qQPUlSTg2b9k"
      }
    },
    {
      "cell_type": "code",
      "source": [
        "# membership ; lets check the string or any word is there in tge sentence or not\n",
        "l = [1,2,3,4,5]\n",
        "print(1 in l)\n",
        "print(6 in l)"
      ],
      "metadata": {
        "id": "-MTkny-yeKJr",
        "colab": {
          "base_uri": "https://localhost:8080/"
        },
        "outputId": "d69ad24d-b10e-49c5-f883-be909feaca5c"
      },
      "execution_count": null,
      "outputs": [
        {
          "output_type": "stream",
          "name": "stdout",
          "text": [
            "True\n",
            "False\n"
          ]
        }
      ]
    },
    {
      "cell_type": "code",
      "source": [
        "# Convert tuple into list and add python and then convert back to tuple\n",
        "input_tuple = ('Monty Python', 'British', 1969)\n",
        "list_tuple = list(input_tuple)\n",
        "list_tuple.append('Python')\n",
        "input_tuple = tuple(list_tuple)\n",
        "print(input_tuple)\n"
      ],
      "metadata": {
        "colab": {
          "base_uri": "https://localhost:8080/"
        },
        "id": "Igy8QPgiL9er",
        "outputId": "51a477aa-94b6-4ce6-ed60-6fb48abdc464"
      },
      "execution_count": null,
      "outputs": [
        {
          "output_type": "stream",
          "name": "stdout",
          "text": [
            "('Monty Python', 'British', 1969, 'Python')\n"
          ]
        }
      ]
    },
    {
      "cell_type": "code",
      "source": [
        "L = ['one','two','three', 'four', 'five', 'six']\n",
        "print(sorted(L))\n",
        "print (L)"
      ],
      "metadata": {
        "colab": {
          "base_uri": "https://localhost:8080/"
        },
        "id": "TknKqZcQMpqc",
        "outputId": "6b3d425f-6141-4b38-eed8-e1e9828fed4f"
      },
      "execution_count": null,
      "outputs": [
        {
          "output_type": "stream",
          "name": "stdout",
          "text": [
            "['five', 'four', 'one', 'six', 'three', 'two']\n",
            "['one', 'two', 'three', 'four', 'five', 'six']\n"
          ]
        }
      ]
    },
    {
      "cell_type": "markdown",
      "source": [
        "## *Sets*\n",
        "\n",
        "    1} Sets is also a type of collection which can have data of differnt data types\n",
        "    2} Unlike list and tuple they unordered so its make indexing impossible with it self it means sets do not record element in position\n",
        "    3} Every element in the set is unquie or in other words there is no repeation in the set it always take unqiue element\n",
        "    4} It is always define by using curly bracket {}\n",
        "    5} By uisng set{} function we can convert list and tuple into set\n",
        "    6} As we know list and tuple have duplicate value so when we convert it into set\n",
        "       All duplicate value will be deleted and in the set all the unquie value be there\n",
        "    7} By using python built function len() we can find length of the set\n",
        "    8} Sets are mutable it means we can add element in the sets using add() method it is not like other it can store element randomaly not in last only\n",
        "    9} By remove method we can remove element\n",
        "    10} Set provide set operation\n",
        "       A = {0,2,4,6,8}\n",
        "       B = {1,2,3,4,5}\n",
        "        Set methods\n",
        "          A} Union represents the total unique elements in both sets.\n",
        "           == A.union(B) → {0, 1, 2, 3, 4, 5, 6, 8}\n",
        "          B} Intersection represents the elements common to both sets.\n",
        "           == A.intersection(B) → {2, 4}\n",
        "          C} Difference(A-B) represents the elements present in A and not in B.\n",
        "           == A.difference(B) → {0, 6, 8}\n",
        "          D} The symmetric difference represents the union of the elements A and B minus the intersection of A and B.\n",
        "           == A^B → {0, 6, 8, 1, 3, 5}\n",
        "    "
      ],
      "metadata": {
        "id": "6oCIF-EVTbP0"
      }
    },
    {
      "cell_type": "code",
      "source": [
        "nums = set([1,1,2,3,3,3,4])\n",
        "print(len(nums))\n"
      ],
      "metadata": {
        "colab": {
          "base_uri": "https://localhost:8080/"
        },
        "id": "KS5w8h4yYb1L",
        "outputId": "9843e509-cb06-4f25-986d-17d6e200901c"
      },
      "execution_count": null,
      "outputs": [
        {
          "output_type": "stream",
          "name": "stdout",
          "text": [
            "4\n"
          ]
        }
      ]
    },
    {
      "cell_type": "code",
      "source": [
        "a = [5,5,5,5,5,5,5,3]\n",
        "b = [3,3,5,5,1,7,2]\n",
        "c= set(a)\n",
        "d=set(b)\n",
        "print(list(c.intersection(d)))"
      ],
      "metadata": {
        "colab": {
          "base_uri": "https://localhost:8080/"
        },
        "id": "Js5ksyyAoY1A",
        "outputId": "efed0082-ef51-4260-da4c-d78d0c388677"
      },
      "execution_count": null,
      "outputs": [
        {
          "output_type": "stream",
          "name": "stdout",
          "text": [
            "[3, 5]\n"
          ]
        }
      ]
    },
    {
      "cell_type": "markdown",
      "source": [
        "## *Dictionaries*\n",
        "    \n",
        "    1} Dictionaries in pythom store element in key value pair  \n",
        "    2} key is the index its always unquie & immutable and the value are object which content the information they are mutable immutable or duplicates\n",
        "    3} Value are access through there keys  \n",
        "    4} Represents empty dictionary = {}\n",
        "       represents an empty = set({})\n",
        "    5} By using key we can acces value\n",
        "    6} dictionaries are mutable we can change the value of the dictionaries\n",
        "    7} if key is present in the dictionaries then it will update the value of that key and if the key is not present in the dictionarie then it will add key value pair\n",
        "    8} by using del commont we can delete the element means when we delete key the value is also been deleted it will reomve complete key value pair form the dictionaries\n",
        "    9} by using sorted function in the dictionaries we can sort it but the output will be key only\n",
        "    10} by using value method we can access through all value\n",
        "    11} same like for keys also by using keys method we can access all the keys\n",
        "    12} by using update method we can update the key value pair\n",
        "\n",
        "    "
      ],
      "metadata": {
        "id": "HWmj6wx7smSQ"
      }
    },
    {
      "cell_type": "markdown",
      "source": [
        "*Summmary*\n",
        "\n",
        "    1} As till now we have learn list , tuple , set , dictionaries they are ntg but commond data type\n",
        "    2} tuple is immutable\n",
        "       set is unorder collection of element here indexing slicing is not done\n",
        "       "
      ],
      "metadata": {
        "id": "XWzMIMoMTUDF"
      }
    },
    {
      "cell_type": "markdown",
      "source": [
        "# Control structures and functions"
      ],
      "metadata": {
        "id": "pJlybtxDX1w4"
      }
    },
    {
      "cell_type": "markdown",
      "source": [
        "    Binary operators\n",
        "      1} work with 2 operands\n",
        "      2} operand can be\n",
        "         a} variable\n",
        "         b} value\n",
        "         c} expression\n",
        "      3} Example: a+b\n",
        "           here '+' is the operator and a,b are the 2 operands  \n",
        "    Relational Operators\n",
        "      1} type of binay operators\n",
        "      2} Used to compare value\n",
        "      3} Returns a boolean value\n",
        "      4} few relation operator include\n",
        "          a} == : equal to     --- for comparing\n",
        "          b} != : not equal to   \n",
        "          c} <  : less than\n",
        "          d} >  : greter than\n",
        "          e} <= : less then equal to\n",
        "          f} >= : Greater then equal to\n",
        "\n",
        "          \n",
        "      \n",
        "    "
      ],
      "metadata": {
        "id": "AEItjgbcmho4"
      }
    },
    {
      "cell_type": "markdown",
      "source": [
        "## *Decision Making*"
      ],
      "metadata": {
        "id": "vKhwbhFmC1F5"
      }
    },
    {
      "cell_type": "markdown",
      "source": [
        "     # Whenever we write a program or algorthim the situtaion arries where we have to choos between 2 option so here the term comes decision making algorthim\n",
        "     # Decision making process is impleated using python key word if and else\n",
        "     # in if and else statement if the if block condition match then the msg will print diffenrnt and if the if condition does'nt matches the input the else block will be excuted  \n",
        "     "
      ],
      "metadata": {
        "id": "oz1GyoBLDlLZ"
      }
    },
    {
      "cell_type": "markdown",
      "source": [
        "     There is one more type of operators which is said to be logical operators\n",
        "       a} it works on boolean operands and return a boolean result\n",
        "       b} they are use to combine multiple relational operations together\n",
        "       c} 3 logical operators are provided in python which are \"and\" , \"or\" , \"not\"\n",
        "       \n",
        "       "
      ],
      "metadata": {
        "id": "GBnIJ1di6ylj"
      }
    },
    {
      "cell_type": "markdown",
      "source": [
        "*Example on Decision making*\n",
        "   \n",
        "     Problem Statement:\n",
        "        Shopping mall offers customer with discounts based on their bill\n",
        "            1} shopping amount exceeds 5000 the customer gets a discount of 1000 rupees\n",
        "            2} shopping amount in between 5000 and 2500 customer get a discount of 500 rupees\n",
        "            3} shopping amount in between 1000 and 2500 customer gets a discount of 100 rupees\n",
        "            "
      ],
      "metadata": {
        "id": "9TOm8yc398oX"
      }
    },
    {
      "cell_type": "code",
      "source": [
        "shopping_amount = int(input(\"Enter amount : \"))\n",
        "\n",
        "if shopping_amount > 5000:\n",
        "    print(\"You get a discount of 1000\")\n",
        "elif shopping_amount > 2500:\n",
        "    print(\"You get a discount of 500\")\n",
        "elif shopping_amount > 1000:\n",
        "    print(\"You get a discount of 100\")\n",
        "else:\n",
        "    print(\"You don't get any discount\")"
      ],
      "metadata": {
        "colab": {
          "base_uri": "https://localhost:8080/"
        },
        "id": "qyD4c-Cg98DZ",
        "outputId": "79ec6cb6-e348-4c48-88ca-77c05d308cfe"
      },
      "execution_count": null,
      "outputs": [
        {
          "output_type": "stream",
          "name": "stdout",
          "text": [
            "Enter amount : 4000\n",
            "You get a discount of 500\n"
          ]
        }
      ]
    },
    {
      "cell_type": "markdown",
      "source": [
        "*Loop & iteration*\n",
        "\n",
        "    1} Iteration means : repeated execution of a set of statements\n",
        "    2} Implemented using 'for' loops and 'while' loops\n",
        "    3} iteration in python is identifie by the 2 cases\n",
        "       1) Counter driven loops\n",
        "          a} iterate over a fixed set of value\n",
        "            - provided in the form of iterable objects such as strings, list, tuple, etc\n",
        "            - also generated using a range() function\n",
        "          b} can be used to access elements of data structure such as list, tuple, etc\n",
        "          c} can be used to count a finite number of iterations\n",
        "          d} Implemented using for - command\n",
        "          \n"
      ],
      "metadata": {
        "id": "oebpJ2DfDRiY"
      }
    },
    {
      "cell_type": "code",
      "source": [
        "l = list(range(10))\n",
        "print(l)"
      ],
      "metadata": {
        "colab": {
          "base_uri": "https://localhost:8080/"
        },
        "id": "hGV-75jC8Ibg",
        "outputId": "e5db427e-f192-4ed0-d563-a5bb189f6fe2"
      },
      "execution_count": null,
      "outputs": [
        {
          "output_type": "stream",
          "name": "stdout",
          "text": [
            "[0, 1, 2, 3, 4, 5, 6, 7, 8, 9]\n"
          ]
        }
      ]
    },
    {
      "cell_type": "code",
      "source": [
        "for i in range(0,22,3):\n",
        "    print(i)"
      ],
      "metadata": {
        "colab": {
          "base_uri": "https://localhost:8080/"
        },
        "id": "oCxYHDPfHyBG",
        "outputId": "c549d34a-b20a-475d-ee54-48d32207b8c9"
      },
      "execution_count": null,
      "outputs": [
        {
          "output_type": "stream",
          "name": "stdout",
          "text": [
            "0\n",
            "3\n",
            "6\n",
            "9\n",
            "12\n",
            "15\n",
            "18\n",
            "21\n"
          ]
        }
      ]
    },
    {
      "cell_type": "code",
      "source": [
        "d = {0: 'Fish', 1: 'Bird', 2: 'Mammal'}\n",
        "for i in d:\n",
        "    print(i, end = \" \")"
      ],
      "metadata": {
        "colab": {
          "base_uri": "https://localhost:8080/"
        },
        "id": "J_QS-JfcIFjL",
        "outputId": "07a0bcd6-5015-416f-80a0-9539037f0ec6"
      },
      "execution_count": null,
      "outputs": [
        {
          "output_type": "stream",
          "name": "stdout",
          "text": [
            "0 1 2 "
          ]
        }
      ]
    },
    {
      "cell_type": "markdown",
      "source": [
        "    Another type of looping is event base looping\n",
        "     - it base on an event occruing inside the iteration block  \n",
        "     - event based iteration implemented using while loop statement\n",
        "     - this loop is completely base on user input"
      ],
      "metadata": {
        "id": "fq8MFYfJJleu"
      }
    },
    {
      "cell_type": "code",
      "source": [
        "ch = \" \"\n",
        "while ch != \"q\":\n",
        "    ch = input(\"Enter a character : \")\n",
        "    print(ch)"
      ],
      "metadata": {
        "colab": {
          "base_uri": "https://localhost:8080/"
        },
        "id": "haGTXx08JQqZ",
        "outputId": "613f9e2c-f8a1-48f8-9b7c-ec8982e42368"
      },
      "execution_count": null,
      "outputs": [
        {
          "output_type": "stream",
          "name": "stdout",
          "text": [
            "Enter a character : 1\n",
            "1\n",
            "Enter a character : 2\n",
            "2\n",
            "Enter a character : 3\n",
            "3\n",
            "Enter a character : q\n",
            "q\n"
          ]
        }
      ]
    },
    {
      "cell_type": "code",
      "source": [
        "while True:\n",
        "    ch = input(\"Enter a character : \")\n",
        "    if ch == \"q\":\n",
        "        break\n",
        "    print(ch)"
      ],
      "metadata": {
        "colab": {
          "base_uri": "https://localhost:8080/"
        },
        "id": "DFSLgXHkL_M3",
        "outputId": "fad5991e-e541-4b14-f895-6ca325f69931"
      },
      "execution_count": null,
      "outputs": [
        {
          "name": "stdout",
          "output_type": "stream",
          "text": [
            "Enter a character : 1\n",
            "1\n",
            "Enter a character : 2\n",
            "2\n",
            "Enter a character : 3\n",
            "3\n",
            "Enter a character : q\n"
          ]
        }
      ]
    },
    {
      "cell_type": "markdown",
      "source": [
        "*Comprehensions*"
      ],
      "metadata": {
        "id": "Jg9L9OXjMeYc"
      }
    },
    {
      "cell_type": "markdown",
      "source": [
        "     1} It Provide a concise way to construct sequences (Lists, sets, dictionaries , ect)\n",
        "     2} Python support 3 types of comprehensions\n",
        "        a} List comprehension\n",
        "        b} Dictionary comprehension\n",
        "        c} set comprehension\n",
        "        "
      ],
      "metadata": {
        "id": "j9e0mr5fJ9xQ"
      }
    },
    {
      "cell_type": "markdown",
      "source": [
        "*List Comprehension*"
      ],
      "metadata": {
        "id": "dDveRBI7SYl4"
      }
    },
    {
      "cell_type": "code",
      "source": [
        "l1 = {'Harsh','Kishan','Aade','Saroj'}\n",
        "\n",
        "l2 = []\n",
        "for i in l1:\n",
        "    l2.append(len(i))\n",
        "print(l2)                                       # by using for loop"
      ],
      "metadata": {
        "colab": {
          "base_uri": "https://localhost:8080/"
        },
        "id": "DUlv-Cs4J9j_",
        "outputId": "dfad198f-77d0-45db-a7ec-aa5f4a40c89b"
      },
      "execution_count": null,
      "outputs": [
        {
          "output_type": "stream",
          "name": "stdout",
          "text": [
            "[5, 5, 6, 4]\n"
          ]
        }
      ]
    },
    {
      "cell_type": "code",
      "source": [
        "l1 = {'Harsh','Kishan','Aade','Saroj'}\n",
        "\n",
        "l2 = [len(i) for i in l1]\n",
        "print(l2)                                       # by using list comprehension"
      ],
      "metadata": {
        "id": "yjoAUULCMSJ3",
        "colab": {
          "base_uri": "https://localhost:8080/"
        },
        "outputId": "56ee8284-77ad-4f47-9b60-376b2febeaf0"
      },
      "execution_count": null,
      "outputs": [
        {
          "output_type": "stream",
          "name": "stdout",
          "text": [
            "[5, 5, 6, 4]\n"
          ]
        }
      ]
    },
    {
      "cell_type": "code",
      "source": [
        "# iterating over i1 & i2 simultaneously\n",
        "\n",
        "for i,j in zip(l1,l2):\n",
        "    print(i,'=',j)"
      ],
      "metadata": {
        "colab": {
          "base_uri": "https://localhost:8080/"
        },
        "id": "N81DXtkoT6E1",
        "outputId": "4f1c5ab3-43f0-44e4-fba6-c30bc22bf6b8"
      },
      "execution_count": null,
      "outputs": [
        {
          "output_type": "stream",
          "name": "stdout",
          "text": [
            "Saroj = 5\n",
            "Harsh = 5\n",
            "Kishan = 6\n",
            "Aade = 4\n"
          ]
        }
      ]
    },
    {
      "cell_type": "markdown",
      "source": [
        "*Dictionary Comprehension*\n",
        "      \n",
        "      "
      ],
      "metadata": {
        "id": "ZlH9xiwFS-k2"
      }
    },
    {
      "cell_type": "code",
      "source": [
        "l1 = {'Harsh','Kishan','Aade','Saroj'}\n",
        "\n",
        "d = {i : len(i) for i in l1}\n",
        "print(d)"
      ],
      "metadata": {
        "colab": {
          "base_uri": "https://localhost:8080/"
        },
        "id": "SeFHs3QCZKBu",
        "outputId": "62f3c5b3-7d4f-42fc-b5e8-768f4faa6824"
      },
      "execution_count": null,
      "outputs": [
        {
          "output_type": "stream",
          "name": "stdout",
          "text": [
            "{'Saroj': 5, 'Harsh': 5, 'Kishan': 6, 'Aade': 4}\n"
          ]
        }
      ]
    },
    {
      "cell_type": "markdown",
      "source": [
        "*Set operation*"
      ],
      "metadata": {
        "id": "_npdjy2XZxKN"
      }
    },
    {
      "cell_type": "code",
      "source": [
        "# Write a program which takes a word as input from user and returns vowels from the word\n",
        "word = input(\"Enter a word : \")\n",
        "vowels = {i for i in word if i in \"aeiou\"}\n",
        "print(vowels)"
      ],
      "metadata": {
        "colab": {
          "base_uri": "https://localhost:8080/"
        },
        "id": "msm5ESa9Z396",
        "outputId": "ddeebf01-97fb-453f-9af9-d20178e804ce"
      },
      "execution_count": null,
      "outputs": [
        {
          "output_type": "stream",
          "name": "stdout",
          "text": [
            "Enter a word : Harsh love to plat cricket \n",
            "{'o', 'e', 'i', 'a'}\n"
          ]
        }
      ]
    },
    {
      "cell_type": "markdown",
      "source": [
        "*Some example* :"
      ],
      "metadata": {
        "id": "MO3_hn3XZ4NX"
      }
    },
    {
      "cell_type": "code",
      "source": [
        "input_list = list(range(1,100))\n",
        "output_dict = {}\n",
        "\n",
        "for val in input_list:\n",
        "    if val % 3 == 0:\n",
        "        output_dict[val] = val**3\n",
        "output_dict"
      ],
      "metadata": {
        "colab": {
          "base_uri": "https://localhost:8080/"
        },
        "id": "vMTrw7joSxvi",
        "outputId": "8311b763-b134-4b27-c151-36f534c95178"
      },
      "execution_count": null,
      "outputs": [
        {
          "output_type": "execute_result",
          "data": {
            "text/plain": [
              "{3: 27,\n",
              " 6: 216,\n",
              " 9: 729,\n",
              " 12: 1728,\n",
              " 15: 3375,\n",
              " 18: 5832,\n",
              " 21: 9261,\n",
              " 24: 13824,\n",
              " 27: 19683,\n",
              " 30: 27000,\n",
              " 33: 35937,\n",
              " 36: 46656,\n",
              " 39: 59319,\n",
              " 42: 74088,\n",
              " 45: 91125,\n",
              " 48: 110592,\n",
              " 51: 132651,\n",
              " 54: 157464,\n",
              " 57: 185193,\n",
              " 60: 216000,\n",
              " 63: 250047,\n",
              " 66: 287496,\n",
              " 69: 328509,\n",
              " 72: 373248,\n",
              " 75: 421875,\n",
              " 78: 474552,\n",
              " 81: 531441,\n",
              " 84: 592704,\n",
              " 87: 658503,\n",
              " 90: 729000,\n",
              " 93: 804357,\n",
              " 96: 884736,\n",
              " 99: 970299}"
            ]
          },
          "metadata": {},
          "execution_count": 6
        }
      ]
    },
    {
      "cell_type": "code",
      "source": [
        "print([i+j for i in \"abc\" for j in \"def\"])"
      ],
      "metadata": {
        "colab": {
          "base_uri": "https://localhost:8080/"
        },
        "id": "D4NINWTGUnMJ",
        "outputId": "1de07597-07ec-4024-c392-01f554bd64f3"
      },
      "execution_count": null,
      "outputs": [
        {
          "output_type": "stream",
          "name": "stdout",
          "text": [
            "['ad', 'ae', 'af', 'bd', 'be', 'bf', 'cd', 'ce', 'cf']\n"
          ]
        }
      ]
    },
    {
      "cell_type": "code",
      "source": [
        "d = {x.upper(): x*3 for x in 'acbd'}\n",
        "print(d)"
      ],
      "metadata": {
        "colab": {
          "base_uri": "https://localhost:8080/"
        },
        "id": "oXkwEznaUwI5",
        "outputId": "93f47a64-0e96-4766-b89a-ea896934a13d"
      },
      "execution_count": null,
      "outputs": [
        {
          "output_type": "stream",
          "name": "stdout",
          "text": [
            "{'A': 'aaa', 'C': 'ccc', 'B': 'bbb', 'D': 'ddd'}\n"
          ]
        }
      ]
    },
    {
      "cell_type": "markdown",
      "source": [
        "## *Function in python*"
      ],
      "metadata": {
        "id": "BXzXVEfApbua"
      }
    },
    {
      "cell_type": "markdown",
      "source": [
        "    A function define as\n",
        "      1} A block of organized, reusble code to perform a particular action\n",
        "      2} provide better modularity\n",
        "      3} Built in function include print(), input(),type(), etc\n",
        "      4} syntax\n",
        "            def sum():       --- def is the keyword & sum is the function name it can br anything follwed by closed parenthesis & smicolon to start to block of function"
      ],
      "metadata": {
        "id": "XuVcixbCpizW"
      }
    },
    {
      "cell_type": "code",
      "source": [
        "# write a function which takes a value as a parameter and returns the factoiral\n",
        "def factorial(n):\n",
        "  fact = 1\n",
        "  for i in range(1 , n+1):\n",
        "    fact *= i\n",
        "  return fact\n",
        "\n",
        "factorial(5)"
      ],
      "metadata": {
        "colab": {
          "base_uri": "https://localhost:8080/"
        },
        "id": "FzWYZjr9piU2",
        "outputId": "4c366952-1da1-4a01-aa90-f77d81e839ac"
      },
      "execution_count": null,
      "outputs": [
        {
          "output_type": "execute_result",
          "data": {
            "text/plain": [
              "120"
            ]
          },
          "metadata": {},
          "execution_count": 18
        }
      ]
    },
    {
      "cell_type": "code",
      "source": [
        "def func(x = 1 ,y = 2):\n",
        "    z = x * y + x + y\n",
        "    return z\n",
        "\n",
        "func(2, func(3))"
      ],
      "metadata": {
        "colab": {
          "base_uri": "https://localhost:8080/"
        },
        "id": "Wxk1qT3VU2-M",
        "outputId": "c1c802d6-2125-47ad-85db-d4baa4b0e896"
      },
      "execution_count": null,
      "outputs": [
        {
          "output_type": "execute_result",
          "data": {
            "text/plain": [
              "35"
            ]
          },
          "metadata": {},
          "execution_count": 23
        }
      ]
    },
    {
      "cell_type": "code",
      "source": [
        "min = (lambda x, y: x if x < y else y)\n",
        "min(101*99, 102*98)"
      ],
      "metadata": {
        "colab": {
          "base_uri": "https://localhost:8080/"
        },
        "id": "xuauEwl4rpuo",
        "outputId": "f42985ff-9686-4c7d-83c3-17202cdcf2fa"
      },
      "execution_count": null,
      "outputs": [
        {
          "output_type": "execute_result",
          "data": {
            "text/plain": [
              "9996"
            ]
          },
          "metadata": {},
          "execution_count": 21
        }
      ]
    },
    {
      "cell_type": "markdown",
      "source": [
        "*Function Arguments*\n",
        "\n",
        "       there are 4 way we can define arguments\n",
        "\n",
        "       1} if there is parameter mention in the function defention then we have to pass the argument otherwise we will get error it is called as requerted postiton argument\n",
        "       2}"
      ],
      "metadata": {
        "id": "D8RSaIiVsUx5"
      }
    },
    {
      "cell_type": "code",
      "source": [
        "def func(name , age = 15):         # here we have mention age 15 it is said to be default parameter\n",
        "  print(\"name : \" , name)\n",
        "  print(\"age : \" , age)"
      ],
      "metadata": {
        "id": "B0-uSF73r4Mn"
      },
      "execution_count": null,
      "outputs": []
    },
    {
      "cell_type": "code",
      "source": [
        "func(\"Harsh\",20)"
      ],
      "metadata": {
        "colab": {
          "base_uri": "https://localhost:8080/"
        },
        "id": "Yzde4eh4-eDV",
        "outputId": "a41bac16-2548-416d-e7a7-4e8dc6f3e07a"
      },
      "execution_count": null,
      "outputs": [
        {
          "output_type": "stream",
          "name": "stdout",
          "text": [
            "name :  Harsh\n",
            "age :  20\n"
          ]
        }
      ]
    },
    {
      "cell_type": "code",
      "source": [
        "func(\"Harsh\") # has we didnt mention age so age is printed because we have assige defaut parameter"
      ],
      "metadata": {
        "colab": {
          "base_uri": "https://localhost:8080/"
        },
        "id": "0TrMlha4-i-M",
        "outputId": "f12e026a-7d40-45ff-e3d9-948bc91f17ef"
      },
      "execution_count": null,
      "outputs": [
        {
          "output_type": "stream",
          "name": "stdout",
          "text": [
            "name :  Harsh\n",
            "age :  15\n"
          ]
        }
      ]
    },
    {
      "cell_type": "code",
      "source": [
        "def func(name, age = 15 , city = \"Mumbai\"):\n",
        "  print(\"name : \" , name)\n",
        "  print(\"age : \" , age)\n",
        "  print(\"city : \" , city)"
      ],
      "metadata": {
        "id": "fvZXKtCN-lrx"
      },
      "execution_count": null,
      "outputs": []
    },
    {
      "cell_type": "code",
      "source": [
        "func(\"harsh\",city = \"nagpur\")     # in this we are assigning key to the argument so we can say that it is key word argument"
      ],
      "metadata": {
        "colab": {
          "base_uri": "https://localhost:8080/"
        },
        "id": "t15njJ42-4Ik",
        "outputId": "a3dc2e0a-f056-468a-b1ae-e51bba16f469"
      },
      "execution_count": null,
      "outputs": [
        {
          "output_type": "stream",
          "name": "stdout",
          "text": [
            "name :  harsh\n",
            "age :  15\n",
            "city :  nagpur\n"
          ]
        }
      ]
    },
    {
      "cell_type": "code",
      "source": [
        "# python proivde a unqiue way to pass multiple values to a single parameter\n",
        "# such kind of parameter are define by the * followed by the name of the parmater\n",
        "# it is also know as variable length argument\n",
        "def var_func(*args):\n",
        "  print(args)\n",
        "\n",
        "var_func(1,2,\"hasrg\")"
      ],
      "metadata": {
        "colab": {
          "base_uri": "https://localhost:8080/"
        },
        "id": "GtXqs261_FzT",
        "outputId": "59fbb358-3e2c-4650-d65f-3052d5a76240"
      },
      "execution_count": null,
      "outputs": [
        {
          "output_type": "stream",
          "name": "stdout",
          "text": [
            "(1, 2, 'hasrg')\n"
          ]
        }
      ]
    },
    {
      "cell_type": "markdown",
      "source": [
        "    Python provide a unquie way to define a function in a single line using lambda operator  \n",
        "     1} Traditional approach\n",
        "         sum(a,b):\n",
        "           return a + b\n",
        "         sum(2,3)\n",
        "     2} Lambda function\n",
        "         f = lamnbda x,y : x + y     --- sense lambda function does not have name so we also called as anonomiuse functions  \n",
        "     3} f holds a function object and can be called as f(2,3) for calculating the sum of 2 and 3"
      ],
      "metadata": {
        "id": "uwCDScfGAi9E"
      }
    },
    {
      "cell_type": "code",
      "source": [
        "# Write a lambda function to check a number is even or odd\n",
        "f = lambda x : \"even\" if x % 2 == 0 else \"odd\"\n",
        "f(10)"
      ],
      "metadata": {
        "colab": {
          "base_uri": "https://localhost:8080/",
          "height": 36
        },
        "id": "tKid0Nyc_eOX",
        "outputId": "2f7e5743-ea3e-4a48-9d84-90113c5c3b84"
      },
      "execution_count": null,
      "outputs": [
        {
          "output_type": "execute_result",
          "data": {
            "text/plain": [
              "'even'"
            ],
            "application/vnd.google.colaboratory.intrinsic+json": {
              "type": "string"
            }
          },
          "metadata": {},
          "execution_count": 33
        }
      ]
    },
    {
      "cell_type": "code",
      "source": [
        "f(11)"
      ],
      "metadata": {
        "colab": {
          "base_uri": "https://localhost:8080/",
          "height": 36
        },
        "id": "X8FvnTICBy6z",
        "outputId": "d05f87ef-3cf9-4edd-8fe7-c6e294239805"
      },
      "execution_count": null,
      "outputs": [
        {
          "output_type": "execute_result",
          "data": {
            "text/plain": [
              "'odd'"
            ],
            "application/vnd.google.colaboratory.intrinsic+json": {
              "type": "string"
            }
          },
          "metadata": {},
          "execution_count": 34
        }
      ]
    },
    {
      "cell_type": "markdown",
      "source": [
        "## *Map, filter and reduce function*"
      ],
      "metadata": {
        "id": "AzOQOi2OB687"
      }
    },
    {
      "cell_type": "markdown",
      "source": [
        "    Map\n",
        "      1} a map function is a utility function in python\n",
        "      2} maps a collection to another collection object based on certain functionality\n",
        "      3} syntax: map(function,iterable object)\n",
        "      "
      ],
      "metadata": {
        "id": "5UEwHXmIZgj9"
      }
    },
    {
      "cell_type": "code",
      "source": [
        "countries = ['India','Japan','Italy','France']\n",
        "\n",
        "# map the list to obtain the names of countries in uppercase\n",
        "print(list(map(lambda x: x.upper(), countries)))"
      ],
      "metadata": {
        "id": "Wh5BATD5ZgYT",
        "colab": {
          "base_uri": "https://localhost:8080/"
        },
        "outputId": "981f44c3-5466-4bfd-a1b0-ab6838a69f43"
      },
      "execution_count": null,
      "outputs": [
        {
          "output_type": "stream",
          "name": "stdout",
          "text": [
            "['INDIA', 'JAPAN', 'ITALY', 'FRANCE']\n"
          ]
        }
      ]
    },
    {
      "cell_type": "code",
      "source": [
        "list_numbers = (1,2,3,4)\n",
        "sample_map = map(lambda x: x*2, list_numbers)\n",
        "print(list(sample_map))"
      ],
      "metadata": {
        "id": "rRyMcfjlB4Ie",
        "colab": {
          "base_uri": "https://localhost:8080/"
        },
        "outputId": "deed2692-e125-41ce-fb3a-4abb91e818cb"
      },
      "execution_count": null,
      "outputs": [
        {
          "output_type": "stream",
          "name": "stdout",
          "text": [
            "[2, 4, 6, 8]\n"
          ]
        }
      ]
    },
    {
      "cell_type": "code",
      "source": [
        "def multi(x):\n",
        "    return x*2\n",
        "\n",
        "list_numbers = [1,2,3,4]\n",
        "sample_map = map(multi, list_numbers)\n",
        "\n",
        "print(list(sample_map))"
      ],
      "metadata": {
        "colab": {
          "base_uri": "https://localhost:8080/"
        },
        "id": "mxZPDm79bgJo",
        "outputId": "a7cb05d2-ae0a-414a-d1f6-a8e6f8b34e61"
      },
      "execution_count": null,
      "outputs": [
        {
          "output_type": "stream",
          "name": "stdout",
          "text": [
            "[2, 4, 6, 8]\n"
          ]
        }
      ]
    },
    {
      "cell_type": "markdown",
      "source": [
        "    Filter\n",
        "      1} filter(function,iterable object)\n",
        "      2} Function here should return a boolean value"
      ],
      "metadata": {
        "id": "VuvL61Kib3ph"
      }
    },
    {
      "cell_type": "code",
      "source": [
        "# filter the country names start with \"I\"\n",
        "list(filter(lambda x: x.startswith('I'), countries))"
      ],
      "metadata": {
        "colab": {
          "base_uri": "https://localhost:8080/"
        },
        "id": "INTBWwNub3ce",
        "outputId": "48831288-6363-48e1-daa2-81f63c0342dd"
      },
      "execution_count": null,
      "outputs": [
        {
          "output_type": "execute_result",
          "data": {
            "text/plain": [
              "['India', 'Italy']"
            ]
          },
          "metadata": {},
          "execution_count": 4
        }
      ]
    },
    {
      "cell_type": "markdown",
      "source": [
        "    Reduce\n",
        "      1} it is provide by the functool moduole of python\n",
        "      2} it use to reduce the given collection ot iterable object to a certain functionlty\n",
        "      3} it takes collection as paramters and a function object\n",
        "      4} the function object must be always 2 parmater fucntion which tells the functionlty  on which the collection need to be reduce  "
      ],
      "metadata": {
        "id": "bZrCFe6ecaZw"
      }
    },
    {
      "cell_type": "code",
      "source": [
        "# reduce the list to concatenate the countries names into a single string variable spareted by \"\"\n",
        "from functools import reduce\n",
        "reduce(lambda x,y: x + ' '+ y, countries)"
      ],
      "metadata": {
        "colab": {
          "base_uri": "https://localhost:8080/",
          "height": 36
        },
        "id": "GWSpj2xVbj3c",
        "outputId": "c7afb893-f04f-4bb6-e163-6c40eaf24ba3"
      },
      "execution_count": null,
      "outputs": [
        {
          "output_type": "execute_result",
          "data": {
            "text/plain": [
              "'India Japan Italy France'"
            ],
            "application/vnd.google.colaboratory.intrinsic+json": {
              "type": "string"
            }
          },
          "metadata": {},
          "execution_count": 5
        }
      ]
    },
    {
      "cell_type": "markdown",
      "source": [
        "*Some Example* :"
      ],
      "metadata": {
        "id": "Gtw5AILvgd_-"
      }
    },
    {
      "cell_type": "code",
      "source": [
        "l1 = (2,4,5)\n",
        "print(map(lambda x: x **2, l1))\n",
        "print(list(map(lambda x: x **2, l1)))"
      ],
      "metadata": {
        "colab": {
          "base_uri": "https://localhost:8080/"
        },
        "id": "y0YCD2pvgEEA",
        "outputId": "44700cfe-6714-4db9-fbce-17279b5788d3"
      },
      "execution_count": null,
      "outputs": [
        {
          "output_type": "stream",
          "name": "stdout",
          "text": [
            "<map object at 0x7d4e3aac2dd0>\n",
            "[4, 16, 25]\n"
          ]
        }
      ]
    },
    {
      "cell_type": "code",
      "source": [
        "# Defining a function and using it in map\n",
        "L1 = (2,3,4)\n",
        "def square(x):\n",
        "    return x**2\n",
        "\n",
        "print(list(map(square, L1)))"
      ],
      "metadata": {
        "colab": {
          "base_uri": "https://localhost:8080/"
        },
        "id": "A9J2uUrJgpe5",
        "outputId": "eff00cab-6582-476b-a4ec-20e045bee653"
      },
      "execution_count": null,
      "outputs": [
        {
          "output_type": "stream",
          "name": "stdout",
          "text": [
            "[4, 9, 16]\n"
          ]
        }
      ]
    },
    {
      "cell_type": "code",
      "source": [
        "# Filter function to return the multiples of 3\n",
        "my_list = [3,4,5,6,7,9]\n",
        "divby3 = lambda x: x % 3 == 0\n",
        "div = filter(divby3, my_list)\n",
        "print(list(div))"
      ],
      "metadata": {
        "colab": {
          "base_uri": "https://localhost:8080/"
        },
        "id": "6tyLRKLWhBmR",
        "outputId": "d587a73d-aac1-4a7c-cb7b-4446098b0425"
      },
      "execution_count": null,
      "outputs": [
        {
          "output_type": "stream",
          "name": "stdout",
          "text": [
            "[3, 6, 9]\n"
          ]
        }
      ]
    },
    {
      "cell_type": "code",
      "source": [
        "# Write a python program to count the students above age 18\n",
        "students_data = {1:[\"harsh\",15],2:[\"saroj\",56],3:[\"kishan\",8]}\n",
        "len(list(filter(lambda x : x[1] >= 18, students_data.values())))"
      ],
      "metadata": {
        "colab": {
          "base_uri": "https://localhost:8080/"
        },
        "id": "rDEbgOlshc6V",
        "outputId": "7d46a8e5-e2bf-4c99-9c6e-b5e847d53986"
      },
      "execution_count": null,
      "outputs": [
        {
          "output_type": "execute_result",
          "data": {
            "text/plain": [
              "1"
            ]
          },
          "metadata": {},
          "execution_count": 13
        }
      ]
    },
    {
      "cell_type": "code",
      "source": [
        "# Reduce to return product of element\n",
        "from functools import reduce\n",
        "\n",
        "q = reduce(lambda x,y: x*y, range(1,4))\n",
        "print(q)"
      ],
      "metadata": {
        "colab": {
          "base_uri": "https://localhost:8080/"
        },
        "id": "oZLeFqLGiLq2",
        "outputId": "108cb258-e534-4dc2-f552-db81b7a63775"
      },
      "execution_count": null,
      "outputs": [
        {
          "output_type": "stream",
          "name": "stdout",
          "text": [
            "6\n"
          ]
        }
      ]
    },
    {
      "cell_type": "markdown",
      "source": [
        "*Summary*\n",
        "\n",
        "    "
      ],
      "metadata": {
        "id": "xznlBqXqrZD2"
      }
    },
    {
      "cell_type": "markdown",
      "source": [
        "[*Functions- A Byte of Python*](https://python.swaroopch.com/functions.html)\n",
        "\n",
        "[*Comprehensions explained visually*](https://treyhunner.com/2015/12/python-list-comprehensions-now-in-color/)\n",
        "\n",
        "[*Python 3 idioms test*](https://python-3-patterns-idioms-test.readthedocs.io/en/latest/Comprehensions.html)"
      ],
      "metadata": {
        "id": "OWHpp_YilAJS"
      }
    },
    {
      "cell_type": "markdown",
      "source": [
        "## *Object-Oriented Programming in Python*"
      ],
      "metadata": {
        "id": "S7-LaWuXuroB"
      }
    },
    {
      "cell_type": "markdown",
      "source": [
        "*Class and Objects*"
      ],
      "metadata": {
        "id": "0CRgVObaww5s"
      }
    },
    {
      "cell_type": "markdown",
      "source": [
        "    In python everthing is an object , evrey object has 3 characteristics\n",
        "    which are\n",
        "      1} Type\n",
        "      2} Internal Representation\n",
        "      3} set of function called as = Methods - to interact with the data\n",
        "      4} object is the instance of particular type\n",
        "        for example  \n",
        "           evreytime when we create integer we are creating instance of that integer type  \n",
        "            a,b,c = 1,2,3           -- a,b,c integer objects\n",
        "      5} the attribute and methods of an object are define in a class\n",
        "      6} methods are function that every instance of class or type provide\n",
        "\n",
        "    Objects\n",
        "    Characteristics\n",
        "      1} List object\n",
        "          countries = ['India','Pakistan','Afghanistan',]\n",
        "      2} sort method\n",
        "          countries.sort()  ---  countries is object , sort dot operator  \n",
        "          and the method called follwing the paratheses and method name\n",
        "      3} Method changes the state of the object\n",
        "         ['Afghanistan','Bangladesh','India','Pakistan']\n",
        "    "
      ],
      "metadata": {
        "id": "3SOCdoPuxS3E"
      }
    },
    {
      "cell_type": "markdown",
      "source": [
        "    Creating a class rectangle\n",
        "\n",
        "    Defining a class\n",
        "      -  length and breath as attributes\n",
        "      -  init() - constructor  of class\n",
        "      -  self parameter - refers to the newly created instance of the class\n",
        "      -  attributes length and breadth are associated with self - keyword to identify them as instance variables\n",
        "      "
      ],
      "metadata": {
        "id": "i7jUUhuc2wb6"
      }
    },
    {
      "cell_type": "code",
      "source": [
        "class rectangle:\n",
        "  def __init__(self):             # inside __init__() method we are defining\n",
        "  # it acts like a constructor of a class , self is the parameter\n",
        "    self.length = 10\n",
        "    self.breadth = 5"
      ],
      "metadata": {
        "id": "S0jJ2bbJ3oIG"
      },
      "execution_count": null,
      "outputs": []
    },
    {
      "cell_type": "markdown",
      "source": [
        "     - Create the object by calling name of the class followed by parenthesis\n",
        "     - print the value using dot operator\n"
      ],
      "metadata": {
        "id": "Rp7eCsFM4WG0"
      }
    },
    {
      "cell_type": "code",
      "source": [
        "rect = rectangle()\n",
        "print(\"Lenght = \",rect.length,\"\\nBreadth = \",rect.breadth)"
      ],
      "metadata": {
        "colab": {
          "base_uri": "https://localhost:8080/"
        },
        "id": "CX4WdbPE4VU_",
        "outputId": "366ecb5c-c31b-4424-e944-d229382fb56e"
      },
      "execution_count": null,
      "outputs": [
        {
          "output_type": "stream",
          "name": "stdout",
          "text": [
            "Lenght =  10 \n",
            "Breadth =  5\n"
          ]
        }
      ]
    },
    {
      "cell_type": "markdown",
      "source": [
        "    - In last example we have assign the value the value to our attributes its not\n",
        "    - The right way in real life we have to take from the user so for that\n",
        "    - We are assigning are attrubite in the \" Parametrised Constructor \"\n",
        "    - Parametrised constructor - dynamically assign the attribute values during object creation"
      ],
      "metadata": {
        "id": "Y4WB-HzmnAdF"
      }
    },
    {
      "cell_type": "code",
      "source": [
        "class rectangle:\n",
        "  def __init__(self,l,b):\n",
        "    self.length = l\n",
        "    self.breadth = b\n",
        "\n",
        "rect = rectangle(15,51)\n",
        "print(\"Lenght = \",rect.length,\"\\nBreadth = \",rect.breadth)"
      ],
      "metadata": {
        "id": "lzhjD7j-_5jl",
        "colab": {
          "base_uri": "https://localhost:8080/"
        },
        "outputId": "ddb9cacf-c17a-4f57-8718-16e9b241c812"
      },
      "execution_count": null,
      "outputs": [
        {
          "output_type": "stream",
          "name": "stdout",
          "text": [
            "Lenght =  15 \n",
            "Breadth =  51\n"
          ]
        }
      ]
    },
    {
      "cell_type": "markdown",
      "source": [
        "    Whenever are we are dealing with the object some attrubite\n",
        "    are going to be unqiue while some will be share"
      ],
      "metadata": {
        "id": "5vflFh42oNv3"
      }
    },
    {
      "cell_type": "markdown",
      "source": [
        "    - Lets say each student in class room has same room number and same taecher\n",
        "    - But they have unqiue name , age , fav_sub"
      ],
      "metadata": {
        "id": "9xv0ZsiGu0vC"
      }
    },
    {
      "cell_type": "code",
      "source": [
        "# Class Variables and instance variable\n",
        "\n",
        "class Student:\n",
        "  teacher = \"Kishan Aade\"         # Class Variable\n",
        "  Room = \"101A\"                   # Class Variable\n",
        "\n",
        "class Student:\n",
        "  def __init__(self, name, age, fav_sub):\n",
        "    self.name = name             # instance variable\n",
        "    self.age = age                # instance variable is also called as data attributes\n",
        "    self.fav_sub = fav_sub       # instance variable\n",
        "\n",
        "ravi = Student(\"ravi\", \"1\", \"English\")\n",
        "harsh = Student(\"harsh\",\"2\",\"Marathi\")\n",
        "print(ravi.fav_sub)"
      ],
      "metadata": {
        "id": "VYONZIIuCUjc",
        "colab": {
          "base_uri": "https://localhost:8080/"
        },
        "outputId": "bb4d652f-ae6f-4a04-a022-3bb6685c3173"
      },
      "execution_count": null,
      "outputs": [
        {
          "output_type": "stream",
          "name": "stdout",
          "text": [
            "English\n"
          ]
        }
      ]
    },
    {
      "cell_type": "code",
      "source": [
        "print(harsh.fav_sub)"
      ],
      "metadata": {
        "id": "SXVyAaamCeaE",
        "colab": {
          "base_uri": "https://localhost:8080/"
        },
        "outputId": "c37ff2a7-ec59-44ce-934c-31f9529747e9"
      },
      "execution_count": null,
      "outputs": [
        {
          "output_type": "stream",
          "name": "stdout",
          "text": [
            "Marathi\n"
          ]
        }
      ]
    },
    {
      "cell_type": "markdown",
      "source": [
        "    - Lets create class circle and instance variables\n"
      ],
      "metadata": {
        "id": "LukNrC4ZwbMQ"
      }
    },
    {
      "cell_type": "code",
      "source": [
        "class circle:\n",
        "  pi = 3.14\n",
        "  def __init__(self,radius):\n",
        "    self.radius = radius"
      ],
      "metadata": {
        "id": "JGoplHbeCeoB"
      },
      "execution_count": null,
      "outputs": []
    },
    {
      "cell_type": "code",
      "source": [
        "circle_1 = circle(6)\n",
        "print(\"radius = {} \\t pi = {}\".format(circle_1.radius,circle_1.pi))"
      ],
      "metadata": {
        "id": "uZarKBT5Ce_a",
        "colab": {
          "base_uri": "https://localhost:8080/"
        },
        "outputId": "f4c87b92-a84e-4196-dddc-cb7451afe540"
      },
      "execution_count": null,
      "outputs": [
        {
          "output_type": "stream",
          "name": "stdout",
          "text": [
            "radius = 6 \t pi = 3.14\n"
          ]
        }
      ]
    },
    {
      "cell_type": "code",
      "source": [
        "# Updating pi value\n",
        "\n",
        "circle.pi = 3.1436\n",
        "\n",
        "circle_1 = circle(8)\n",
        "print(\"radius = {} \\t pi = {}\".format(circle_1.radius,circle_1.pi))"
      ],
      "metadata": {
        "colab": {
          "base_uri": "https://localhost:8080/"
        },
        "id": "Hv0j-MCWxsNK",
        "outputId": "3d4ea769-2b21-44f2-c2ec-f811286d11ba"
      },
      "execution_count": null,
      "outputs": [
        {
          "output_type": "stream",
          "name": "stdout",
          "text": [
            "radius = 8 \t pi = 3.1436\n"
          ]
        }
      ]
    },
    {
      "cell_type": "markdown",
      "source": [
        "    So, let's add a class variable called company code to our employee class."
      ],
      "metadata": {
        "id": "fx5Lp2NAytZ3"
      }
    },
    {
      "cell_type": "code",
      "source": [
        "class Employee :\n",
        "    company_code = \"EMZ\"\n",
        "    def __init__(self,age, name,eid):\n",
        "            self.age = age\n",
        "            self.name = name\n",
        "            self.eid = eid"
      ],
      "metadata": {
        "id": "8cWxcmIEydTb"
      },
      "execution_count": null,
      "outputs": []
    },
    {
      "cell_type": "code",
      "source": [
        "E1 = Employee(24, 'Ravi', 101)\n",
        "E1.age\n"
      ],
      "metadata": {
        "colab": {
          "base_uri": "https://localhost:8080/"
        },
        "id": "aKL9poyvyvJ8",
        "outputId": "d174b8dc-af11-45bb-953f-7cdc3b3cf821"
      },
      "execution_count": null,
      "outputs": [
        {
          "output_type": "execute_result",
          "data": {
            "text/plain": [
              "24"
            ]
          },
          "metadata": {},
          "execution_count": 34
        }
      ]
    },
    {
      "cell_type": "code",
      "source": [
        "E1.name"
      ],
      "metadata": {
        "colab": {
          "base_uri": "https://localhost:8080/",
          "height": 36
        },
        "id": "dmtEXCMiywXz",
        "outputId": "b007be76-d1e4-48c8-fa47-d541175a360a"
      },
      "execution_count": null,
      "outputs": [
        {
          "output_type": "execute_result",
          "data": {
            "text/plain": [
              "'Ravi'"
            ],
            "application/vnd.google.colaboratory.intrinsic+json": {
              "type": "string"
            }
          },
          "metadata": {},
          "execution_count": 35
        }
      ]
    },
    {
      "cell_type": "code",
      "source": [
        "E1.company_code"
      ],
      "metadata": {
        "colab": {
          "base_uri": "https://localhost:8080/",
          "height": 36
        },
        "id": "U582_sS0y3w-",
        "outputId": "6961ece8-a910-4987-f7c9-9787eefc1a6b"
      },
      "execution_count": null,
      "outputs": [
        {
          "output_type": "execute_result",
          "data": {
            "text/plain": [
              "'EMZ'"
            ],
            "application/vnd.google.colaboratory.intrinsic+json": {
              "type": "string"
            }
          },
          "metadata": {},
          "execution_count": 36
        }
      ]
    },
    {
      "cell_type": "code",
      "source": [
        "class Student:\n",
        "    standard = 'IV'\n",
        "    def __init__(self,age,name,Cid):\n",
        "        self.age = age\n",
        "        self.name = name\n",
        "        self.id = Cid"
      ],
      "metadata": {
        "id": "mP1BvpIOy6K6"
      },
      "execution_count": null,
      "outputs": []
    },
    {
      "cell_type": "markdown",
      "source": [
        "## *Adding a Methods to class*\n",
        "\n",
        "    - Methods are functions that interact change the data attribute\n",
        "    - Characterice of method\n",
        "        Always call unobject using dot operator"
      ],
      "metadata": {
        "id": "Zs_ZW0FZ16IH"
      }
    },
    {
      "cell_type": "code",
      "source": [
        "# Creating self method for calculating rectangle\n",
        "\n",
        "class Rectangle:\n",
        "    def __init__(self,l,b):\n",
        "      self.len = l\n",
        "      self.bre = b\n",
        "\n",
        "    def calcaluate_area(self):\n",
        "      return self.len * self.bre\n"
      ],
      "metadata": {
        "id": "TYYQuaW-zEWc"
      },
      "execution_count": null,
      "outputs": []
    },
    {
      "cell_type": "code",
      "source": [
        "rect = Rectangle(55,44)\n",
        "print(\"Lengrth = \",rect.len,\"\\nBreadth = \",rect.bre,\"\\nArea = \",rect.calcaluate_area())"
      ],
      "metadata": {
        "colab": {
          "base_uri": "https://localhost:8080/"
        },
        "id": "GKIIhgvd50Z2",
        "outputId": "d6ac78fa-3e51-44e9-df6c-30f5661650d4"
      },
      "execution_count": null,
      "outputs": [
        {
          "output_type": "stream",
          "name": "stdout",
          "text": [
            "Lengrth =  55 \n",
            "Breadth =  44 \n",
            "Area =  2420\n"
          ]
        }
      ]
    },
    {
      "cell_type": "markdown",
      "source": [
        "    Class methods\n",
        "      1} Bound to class\n",
        "      2} Receive class object as the implicit first argument\n",
        "      3} 'cls' parameter represents the class object\n",
        "      4} Cannot access instance variable\n",
        "      5} Defined using\n",
        "          @classmethod\n",
        "    Static method\n",
        "      1} Bound to class\n",
        "      2} doesn't require any implicit first argument\n",
        "      3} Implementing functionality having logical connection to the class\n",
        "      4} Cannot access instance variable\n",
        "      5} Defined using\n",
        "          @staticmethod\n",
        "\n",
        "    "
      ],
      "metadata": {
        "id": "2hKXxqCa7SU5"
      }
    },
    {
      "cell_type": "markdown",
      "source": [
        "*Class method & Static method*"
      ],
      "metadata": {
        "id": "SFz91-bzAOuc"
      }
    },
    {
      "cell_type": "code",
      "source": [
        "class Circle:\n",
        "  pi = 3.14\n",
        "  def __init__(self,radius):\n",
        "    self.radius = radius\n",
        "\n",
        "  # instance method\n",
        "  def area(self):\n",
        "    return  self.radius * Circle.pi\n",
        "\n",
        "  # class method\n",
        "  @classmethod\n",
        "  def access_pi(cls):\n",
        "    cls.pi = 3.1436\n",
        "    return cls.pi\n",
        "\n",
        "  # static method\n",
        "  @staticmethod\n",
        "  def circle_static_method():\n",
        "    print(\"This is a static method\")\n",
        "\n",
        "\n",
        "cir = Circle(5)"
      ],
      "metadata": {
        "id": "7RBp7hRc59xf"
      },
      "execution_count": null,
      "outputs": []
    },
    {
      "cell_type": "code",
      "source": [
        "cir.area()"
      ],
      "metadata": {
        "colab": {
          "base_uri": "https://localhost:8080/"
        },
        "id": "ObwGMLf8BGsK",
        "outputId": "41adc0c0-8d17-4222-d17e-16a97af9c13f"
      },
      "execution_count": null,
      "outputs": [
        {
          "output_type": "execute_result",
          "data": {
            "text/plain": [
              "15.700000000000001"
            ]
          },
          "metadata": {},
          "execution_count": 74
        }
      ]
    },
    {
      "cell_type": "code",
      "source": [
        "Circle.pi"
      ],
      "metadata": {
        "colab": {
          "base_uri": "https://localhost:8080/"
        },
        "id": "juvhGMpkBTXx",
        "outputId": "bb82dbf7-c40e-4c4b-f974-2c0423475b5c"
      },
      "execution_count": null,
      "outputs": [
        {
          "output_type": "execute_result",
          "data": {
            "text/plain": [
              "3.14"
            ]
          },
          "metadata": {},
          "execution_count": 75
        }
      ]
    },
    {
      "cell_type": "code",
      "source": [
        "cir.pi"
      ],
      "metadata": {
        "colab": {
          "base_uri": "https://localhost:8080/"
        },
        "id": "j-UUYi5NBcWV",
        "outputId": "7a622a72-de4d-47b8-b9d9-47c7156760f1"
      },
      "execution_count": null,
      "outputs": [
        {
          "output_type": "execute_result",
          "data": {
            "text/plain": [
              "3.14"
            ]
          },
          "metadata": {},
          "execution_count": 76
        }
      ]
    },
    {
      "cell_type": "code",
      "source": [
        "# before pi value was not change after calling the value has been change\n",
        "Circle.access_pi()"
      ],
      "metadata": {
        "colab": {
          "base_uri": "https://localhost:8080/"
        },
        "id": "gPZR0T5sBuoZ",
        "outputId": "90ad4962-6680-4dfd-af0e-5a27d6630a4c"
      },
      "execution_count": null,
      "outputs": [
        {
          "output_type": "execute_result",
          "data": {
            "text/plain": [
              "3.1436"
            ]
          },
          "metadata": {},
          "execution_count": 77
        }
      ]
    },
    {
      "cell_type": "code",
      "source": [
        "cir.pi"
      ],
      "metadata": {
        "colab": {
          "base_uri": "https://localhost:8080/"
        },
        "id": "mWnXq5BPB1_a",
        "outputId": "9a2122cd-4fba-47e5-a5e7-5d82e51d0f5a"
      },
      "execution_count": null,
      "outputs": [
        {
          "output_type": "execute_result",
          "data": {
            "text/plain": [
              "3.1436"
            ]
          },
          "metadata": {},
          "execution_count": 78
        }
      ]
    },
    {
      "cell_type": "code",
      "source": [
        "Circle.circle_static_method()"
      ],
      "metadata": {
        "colab": {
          "base_uri": "https://localhost:8080/"
        },
        "id": "Yw292v_8CSku",
        "outputId": "ad46270a-50e1-4e66-cf74-ce54b6f6cf87"
      },
      "execution_count": null,
      "outputs": [
        {
          "output_type": "stream",
          "name": "stdout",
          "text": [
            "This is a static method\n"
          ]
        }
      ]
    },
    {
      "cell_type": "markdown",
      "source": [
        "*Method vs Functions:*\n",
        "\n",
        "    1}In Python, functions are called generically, whereas methods are called on an object to access the data within it.\n",
        "    2}A 'Method' may alter an object's state, but Python 'Function' usually only operates on it and then returns a value.\n",
        "    "
      ],
      "metadata": {
        "id": "wFnudAL0DJnk"
      }
    },
    {
      "cell_type": "code",
      "source": [
        "class A :\n",
        "    x = 10\n",
        "    def __init__(self, y,z):\n",
        "        self.y = y\n",
        "        self.z = z\n",
        "\n",
        "    def update_y(self):\n",
        "        self.y = self.y * self.x\n",
        "        self.z = self.z * self.x\n",
        "\n",
        "A1 = A(3,4)\n",
        "A2 = A(5,6)\n",
        "\n",
        "A1.update_y()\n",
        "A1.y + A2.z"
      ],
      "metadata": {
        "colab": {
          "base_uri": "https://localhost:8080/"
        },
        "id": "KR6nGbApDB2N",
        "outputId": "71a81606-2df6-4f25-a022-4c209ed4e786"
      },
      "execution_count": null,
      "outputs": [
        {
          "output_type": "execute_result",
          "data": {
            "text/plain": [
              "36"
            ]
          },
          "metadata": {},
          "execution_count": 81
        }
      ]
    },
    {
      "cell_type": "code",
      "source": [
        "class A :\n",
        "    x = 10\n",
        "    def __init__(self, y,z):\n",
        "        self.y = y\n",
        "        self.z = z\n",
        "\n",
        "    def update_y(self):\n",
        "        self.y = self.y * self.x\n",
        "\n",
        "    @classmethod\n",
        "    def update_z(cls):\n",
        "        self.z = self.z + 20\n",
        "\n",
        "\n",
        "A1 = A(3,4)\n",
        "A2 = A(5,6)\n",
        "\n",
        "A2.update_z()\n",
        "A1.y + A2.z"
      ],
      "metadata": {
        "colab": {
          "base_uri": "https://localhost:8080/",
          "height": 315
        },
        "id": "hxY5htcTDPVu",
        "outputId": "0cf60f7e-9318-43bb-d70a-90e66a4ef77e"
      },
      "execution_count": null,
      "outputs": [
        {
          "output_type": "error",
          "ename": "NameError",
          "evalue": "name 'self' is not defined",
          "traceback": [
            "\u001b[0;31m---------------------------------------------------------------------------\u001b[0m",
            "\u001b[0;31mNameError\u001b[0m                                 Traceback (most recent call last)",
            "\u001b[0;32m<ipython-input-82-06073d3b0578>\u001b[0m in \u001b[0;36m<cell line: 18>\u001b[0;34m()\u001b[0m\n\u001b[1;32m     16\u001b[0m \u001b[0mA2\u001b[0m \u001b[0;34m=\u001b[0m \u001b[0mA\u001b[0m\u001b[0;34m(\u001b[0m\u001b[0;36m5\u001b[0m\u001b[0;34m,\u001b[0m\u001b[0;36m6\u001b[0m\u001b[0;34m)\u001b[0m\u001b[0;34m\u001b[0m\u001b[0;34m\u001b[0m\u001b[0m\n\u001b[1;32m     17\u001b[0m \u001b[0;34m\u001b[0m\u001b[0m\n\u001b[0;32m---> 18\u001b[0;31m \u001b[0mA2\u001b[0m\u001b[0;34m.\u001b[0m\u001b[0mupdate_z\u001b[0m\u001b[0;34m(\u001b[0m\u001b[0;34m)\u001b[0m\u001b[0;34m\u001b[0m\u001b[0;34m\u001b[0m\u001b[0m\n\u001b[0m\u001b[1;32m     19\u001b[0m \u001b[0mA1\u001b[0m\u001b[0;34m.\u001b[0m\u001b[0my\u001b[0m \u001b[0;34m+\u001b[0m \u001b[0mA2\u001b[0m\u001b[0;34m.\u001b[0m\u001b[0mz\u001b[0m\u001b[0;34m\u001b[0m\u001b[0;34m\u001b[0m\u001b[0m\n",
            "\u001b[0;32m<ipython-input-82-06073d3b0578>\u001b[0m in \u001b[0;36mupdate_z\u001b[0;34m(cls)\u001b[0m\n\u001b[1;32m     10\u001b[0m     \u001b[0;34m@\u001b[0m\u001b[0mclassmethod\u001b[0m\u001b[0;34m\u001b[0m\u001b[0;34m\u001b[0m\u001b[0m\n\u001b[1;32m     11\u001b[0m     \u001b[0;32mdef\u001b[0m \u001b[0mupdate_z\u001b[0m\u001b[0;34m(\u001b[0m\u001b[0mcls\u001b[0m\u001b[0;34m)\u001b[0m\u001b[0;34m:\u001b[0m\u001b[0;34m\u001b[0m\u001b[0;34m\u001b[0m\u001b[0m\n\u001b[0;32m---> 12\u001b[0;31m         \u001b[0mself\u001b[0m\u001b[0;34m.\u001b[0m\u001b[0mz\u001b[0m \u001b[0;34m=\u001b[0m \u001b[0mself\u001b[0m\u001b[0;34m.\u001b[0m\u001b[0mz\u001b[0m \u001b[0;34m+\u001b[0m \u001b[0;36m20\u001b[0m\u001b[0;34m\u001b[0m\u001b[0;34m\u001b[0m\u001b[0m\n\u001b[0m\u001b[1;32m     13\u001b[0m \u001b[0;34m\u001b[0m\u001b[0m\n\u001b[1;32m     14\u001b[0m \u001b[0;34m\u001b[0m\u001b[0m\n",
            "\u001b[0;31mNameError\u001b[0m: name 'self' is not defined"
          ]
        }
      ]
    },
    {
      "cell_type": "code",
      "source": [
        "class A :\n",
        "    x = 10\n",
        "    def __init__(self, y,z):\n",
        "        self.y = y\n",
        "        self.z = z\n",
        "\n",
        "    def update_y(self):\n",
        "        self.y = self.y * self.z\n",
        "\n",
        "\n",
        "\n",
        "A1 = A(3,4)\n",
        "A2 = A(5,6)\n",
        "\n",
        "A.x = 30\n",
        "print(A1.y + A2.x)"
      ],
      "metadata": {
        "colab": {
          "base_uri": "https://localhost:8080/"
        },
        "id": "bvF8MUNdDfJL",
        "outputId": "701d1b27-6bce-49b6-ca43-1007d425eb92"
      },
      "execution_count": null,
      "outputs": [
        {
          "output_type": "stream",
          "name": "stdout",
          "text": [
            "33\n"
          ]
        }
      ]
    },
    {
      "cell_type": "markdown",
      "source": [
        "## *Class Inheritance and Overriding*"
      ],
      "metadata": {
        "id": "2WEwhdXGDlE4"
      }
    },
    {
      "cell_type": "markdown",
      "source": [
        "    Inheritance is the capabilty of one class to derive or inheritance property from other class\n",
        "    Benfite of inheritance is that it provides reusableity of code we don't have to write same code again and again\n",
        "    Also it allows us to add more feature to the class without modifying it\n",
        "    it is transtive in nature which means if class inheri from class a thrn all the sub classes of b would automiaclly inherit attributes from a"
      ],
      "metadata": {
        "id": "Q3xn7bHPYLEk"
      }
    },
    {
      "cell_type": "code",
      "source": [
        "class shape:\n",
        "\n",
        "  def set_color(self,color):\n",
        "    self.color = color\n",
        "\n",
        "  def calculate_area(self):\n",
        "    pass\n",
        "\n",
        "  def color_the_shape(self):\n",
        "    color_price = {'red': 10 , 'blue':15,'green':5}\n",
        "    return self.calculate_area() * color_price[self.color]"
      ],
      "metadata": {
        "id": "GnIW64mNEtxE"
      },
      "execution_count": null,
      "outputs": []
    },
    {
      "cell_type": "code",
      "source": [
        "class Circle(shape):   # its a child class\n",
        "    pi = 3.14\n",
        "    def __init__(self,radius):\n",
        "      self.radius = radius\n",
        "\n",
        "    # Overridding\n",
        "    def calculate_area(self):\n",
        "      return self.radius * Circle.pi"
      ],
      "metadata": {
        "id": "JZib3RrSDhwK"
      },
      "execution_count": null,
      "outputs": []
    },
    {
      "cell_type": "code",
      "source": [
        "# Creating object of class\n",
        "c = Circle(5)\n",
        "c.set_color('red')\n",
        "print(\"Circle of radius =\",c.radius , \"When colored\", c.color, \"cost $ = \",c.color_the_shape())"
      ],
      "metadata": {
        "colab": {
          "base_uri": "https://localhost:8080/"
        },
        "id": "4Q5IABBOivDd",
        "outputId": "87ec1eb6-ccae-4261-c7d0-5d80e1743d66"
      },
      "execution_count": null,
      "outputs": [
        {
          "output_type": "stream",
          "name": "stdout",
          "text": [
            "Circle of radius = 5 When colored red cost $ =  157.0\n"
          ]
        }
      ]
    },
    {
      "cell_type": "code",
      "source": [
        "class Rectangle(shape):\n",
        "  def __init__(self,length,breadth):\n",
        "    self.length = length\n",
        "    self.breadth = breadth\n",
        "\n",
        "  # Overridding user defined method\n",
        "  def calculate_area(self):\n",
        "    return self.length * self.breadth\n",
        "\n",
        "  # Overridding python default method\n",
        "  def __str__(self):\n",
        "    return \"area of rectangle = \" + str(self.calculate_area())"
      ],
      "metadata": {
        "id": "y-5VC7EkjgiQ"
      },
      "execution_count": null,
      "outputs": []
    },
    {
      "cell_type": "code",
      "source": [
        "r = Rectangle(5,10)\n",
        "r.set_color('blue')\n",
        "print(\"Rectangle with length = \",r.length,\" and breadth = \",r.breadth, \"When colored\", r.color, \"cost $ = \",r.color_the_shape())"
      ],
      "metadata": {
        "colab": {
          "base_uri": "https://localhost:8080/"
        },
        "id": "1tdPs1awk0JX",
        "outputId": "c57605fe-3a43-4887-e698-bda1bf4481a5"
      },
      "execution_count": null,
      "outputs": [
        {
          "output_type": "stream",
          "name": "stdout",
          "text": [
            "Rectangle with length =  5  and breadth =  10 When colored blue cost $ =  750\n"
          ]
        }
      ]
    },
    {
      "cell_type": "code",
      "source": [
        "print(r)"
      ],
      "metadata": {
        "colab": {
          "base_uri": "https://localhost:8080/"
        },
        "id": "TL_nKr9dlFzU",
        "outputId": "a4050d15-4e48-4e85-a65c-fa68b0f836bf"
      },
      "execution_count": null,
      "outputs": [
        {
          "output_type": "stream",
          "name": "stdout",
          "text": [
            "area of rectangle = 50\n"
          ]
        }
      ]
    },
    {
      "cell_type": "code",
      "source": [
        "class A:\n",
        "    def __init__(self, x=1):\n",
        "        self.x = x\n",
        "class B(A):\n",
        "    def __init__(self,y =2):\n",
        "        super().__init__()\n",
        "        self.y = y\n",
        "\n",
        "def main():\n",
        "    b = B()\n",
        "    print(b.x,b.y)\n",
        "main()"
      ],
      "metadata": {
        "colab": {
          "base_uri": "https://localhost:8080/"
        },
        "id": "aAxJWkMYloHI",
        "outputId": "40eadd85-a9c8-4841-d249-218b17ed7e2e"
      },
      "execution_count": null,
      "outputs": [
        {
          "output_type": "stream",
          "name": "stdout",
          "text": [
            "1 2\n"
          ]
        }
      ]
    },
    {
      "cell_type": "markdown",
      "source": [
        "*summary*"
      ],
      "metadata": {
        "id": "V9LioMenmpMY"
      }
    },
    {
      "cell_type": "code",
      "source": [
        "# Write a function remove_duplicates(s: str) -> str that takes a string 's' as input and returns a new string with duplicate characters removed.\n",
        "# The order of the characters should be maintained.\n",
        "\n",
        "\n",
        "def remove_duplicates(s: str) -> str:\n",
        "  seen = set()\n",
        "  result = \"\"\n",
        "  for char in s:\n",
        "    if char not in seen:\n",
        "      result += char\n",
        "      seen.add(char)\n",
        "  return result\n",
        "\n",
        "# take input and provide output\n",
        "s = input()\n",
        "print(remove_duplicates(s))"
      ],
      "metadata": {
        "colab": {
          "base_uri": "https://localhost:8080/"
        },
        "id": "egTGquKqmeDE",
        "outputId": "96a92125-6e68-4f7b-f4ab-772df384e8b0"
      },
      "execution_count": null,
      "outputs": [
        {
          "output_type": "stream",
          "name": "stdout",
          "text": [
            "harsh\n",
            "hars\n"
          ]
        }
      ]
    },
    {
      "cell_type": "code",
      "source": [
        "# Write a function is_perfect_number(number: int) -> bool that takes an integer 'number' as input and returns 'True' if the number is a perfect number and 'False' otherwise.\n",
        "# A perfect number is a positive integer that is equal to the sum of its proper divisors (excluding the number itself).\n",
        "\n",
        "def is_perfect_number(number: int) -> bool:\n",
        "  sum = 0\n",
        "  for i in range(1,number):\n",
        "    if number % i == 0:\n",
        "      sum += i\n",
        "  return sum == number\n",
        "\n",
        "# Take input and provide output\n",
        "number = int(input())\n",
        "print(is_perfect_number(number))\n"
      ],
      "metadata": {
        "colab": {
          "base_uri": "https://localhost:8080/"
        },
        "id": "aLctuzo3w7uD",
        "outputId": "298f76f1-3a0a-4b43-b58a-ee04ad58423c"
      },
      "execution_count": null,
      "outputs": [
        {
          "output_type": "stream",
          "name": "stdout",
          "text": [
            "28\n",
            "True\n"
          ]
        }
      ]
    },
    {
      "cell_type": "code",
      "source": [
        "# Write Python code to find elements common between the two lists.\n",
        "# The output list should exclude duplicate elements. i.e. if both lists have 1 twice then the output list should have 1 only once.\n",
        "# The input will contain two lines with two lists.\n",
        "# The output should contain a list of common elements between the two input lists\n",
        "\n",
        "\n",
        "# list of common elements between the two input lists.\n",
        "\n",
        "l1 = [1,2,3,4,5]\n",
        "l2 = [3,4,5,6,7]\n",
        "l3 = []\n",
        "for i in l1:\n",
        "  if i in l2:\n",
        "    l3.append(i)\n",
        "print(l3)"
      ],
      "metadata": {
        "colab": {
          "base_uri": "https://localhost:8080/"
        },
        "id": "w1cXy6wgxfAE",
        "outputId": "ae2d538e-1fb7-4bbd-be67-6d1a4298f5cf"
      },
      "execution_count": null,
      "outputs": [
        {
          "output_type": "stream",
          "name": "stdout",
          "text": [
            "[3, 4, 5]\n"
          ]
        }
      ]
    },
    {
      "cell_type": "code",
      "source": [
        "# prompt: take list in one input and spearte common one dont take input 2 times\n",
        "\n",
        "# Function to find common elements in two lists\n",
        "def find_common_elements(list1, list2):\n",
        "    result = []\n",
        "    for x in list1:\n",
        "        if x in list2 and x not in result:\n",
        "            result.append(x)\n",
        "    return result\n",
        "\n",
        "# Input list1 and list2\n",
        "list1 = input(\"Enter the first list (separated by spaces): \").split()\n",
        "list2 = input(\"Enter the second list (separated by spaces): \").split()\n",
        "\n",
        "# Find and print common elements\n",
        "common_elements = find_common_elements(list1, list2)\n",
        "print(\"Common elements:\", common_elements)\n"
      ],
      "metadata": {
        "colab": {
          "base_uri": "https://localhost:8080/"
        },
        "id": "oh1-uxBhzvH1",
        "outputId": "ba0e1830-cd3c-47c5-c577-6ae73ba8d5bc"
      },
      "execution_count": null,
      "outputs": [
        {
          "name": "stdout",
          "output_type": "stream",
          "text": [
            "Enter the second list (separated by spaces): 2 4 \n"
          ]
        }
      ]
    },
    {
      "cell_type": "code",
      "source": [
        "# prompt: You are given a list of tuples, where each tuple represents a person's information. Each tuple contains three elements: first name, last name, and age. Your task is to write a function, concatenate_tuples(tuples_list), that takes this list of tuples as input and returns a new list of tuples, where each tuple contains the concatenated first and last names of a person.\n",
        "# The concatenation should be\n",
        "\n",
        "def concatenate_tuples(tuples_list):\n",
        "  \"\"\"\n",
        "  Concatenates the first and last names of persons in a list of tuples.\n",
        "\n",
        "  Args:\n",
        "    tuples_list: A list of tuples, where each tuple contains a person's first name, last name, and age.\n",
        "\n",
        "  Returns:\n",
        "    A new list of tuples, where each tuple contains the concatenated first and last names of a person.\n",
        "  \"\"\"\n",
        "\n",
        "  concatenated_tuples = []\n",
        "  for first_name, last_name, _ in tuples_list:\n",
        "    concatenated_tuples.append((first_name + \" \" + last_name,))\n",
        "  return concatenated_tuples\n",
        "\n",
        "# Example usage\n",
        "tuples_list = [(\"John\", \"Doe\", 30), (\"Jane\", \"Smith\", 25), (\"Alice\", \"Johnson\", 40)]\n",
        "concatenated_tuples = concatenate_tuples(tuples_list)\n",
        "print(concatenated_tuples)\n"
      ],
      "metadata": {
        "id": "JvcSX3wY7J66"
      },
      "execution_count": null,
      "outputs": []
    },
    {
      "cell_type": "code",
      "source": [
        "def concatenate_tuples(tuples_list):\n",
        "    # Initialize an empty list to store the results\n",
        "    result = []\n",
        "\n",
        "    # Iterate through each tuple in the input list\n",
        "    for first_name, last_name, age in tuples_list:\n",
        "        # Concatenate the first and last name with a space in between\n",
        "        full_name = f\"{first_name} {last_name}\"\n",
        "        # Create a new tuple with the concatenated name and the age\n",
        "        new_tuple = (full_name, age)\n",
        "        # Append the new tuple to the result list\n",
        "        result.append(new_tuple)\n",
        "\n",
        "    # Return the result list\n",
        "    return result\n",
        "\n",
        "# Example usage:\n",
        "tuples_list = [('John', 'Doe', 25), ('Alice', 'Smith', 32), ('Bob', 'Johnson', 40)]\n",
        "output = concatenate_tuples(tuples_list)\n",
        "print(output)  # Expected output: [('John Doe', 25), ('Alice Smith', 32), ('Bob Johnson', 40)]"
      ],
      "metadata": {
        "id": "bDly61Ed7lUZ"
      },
      "execution_count": null,
      "outputs": []
    },
    {
      "cell_type": "code",
      "source": [
        "# prompt: Write a program to implement the Rational class using operator overloading. This class should contain the following methods:\n",
        "# __init__: Used to initialise nominator and denominator of the rational number\n",
        "# __add__: Used to add two rational numbers together\n",
        "# __sub__: Used to subtract one rational number from another\n",
        "# __mul__: Used to multiply two rational numbers together\n",
        "# __truediv__: Used to divide\n",
        "\n",
        "class Rational:\n",
        "    def __init__(self, nominator, denominator):\n",
        "        self.nominator = nominator\n",
        "        self.denominator = denominator\n",
        "\n",
        "    def __add__(self, other):\n",
        "        new_nominator = self.nominator * other.denominator + self.denominator * other.nominator\n",
        "        new_denominator = self.denominator * other.denominator\n",
        "        return Rational(new_nominator, new_denominator)\n",
        "\n",
        "    def __sub__(self, other):\n",
        "        new_nominator = self.nominator * other.denominator - self.denominator * other.nominator\n",
        "        new_denominator = self.denominator * other.denominator\n",
        "        return Rational(new_nominator, new_denominator)\n",
        "\n",
        "    def __mul__(self, other):\n",
        "        new_nominator = self.nominator * other.nominator\n",
        "        new_denominator = self.denominator * other.denominator\n",
        "        return Rational(new_nominator, new_denominator)\n",
        "\n",
        "    def __truediv__(self, other):\n",
        "        new_nominator = self.nominator * other.denominator\n",
        "        new_denominator = self.denominator * other.nominator\n",
        "        return Rational(new_nominator, new_denominator)\n",
        "\n",
        "    def __str__(self):\n",
        "        return f\"{self.nominator}/{self.denominator}\"\n",
        "\n",
        "# Create two rational numbers\n",
        "r1 = Rational(1, 2)\n",
        "r2 = Rational(3, 4)\n",
        "\n",
        "# Add the two rational numbers\n",
        "result = r1 + r2\n",
        "print(result)  # Output: 5/4\n",
        "\n",
        "# Subtract the two rational numbers\n",
        "result = r1 - r2\n",
        "print(result)  # Output: -1/4\n",
        "\n",
        "# Multiply the two rational numbers\n",
        "result = r1 * r2\n",
        "print(result)  # Output: 3/8\n",
        "\n",
        "# Divide the two rational numbers\n",
        "result = r1 / r2\n",
        "print(result)  # Output: 2/3\n"
      ],
      "metadata": {
        "id": "G5--7RLfCrXA"
      },
      "execution_count": null,
      "outputs": []
    },
    {
      "cell_type": "code",
      "source": [
        "((500//7) % 5) ** 3"
      ],
      "metadata": {
        "colab": {
          "base_uri": "https://localhost:8080/"
        },
        "id": "biQh7q4UFVDV",
        "outputId": "9a4f2353-4a24-4566-b044-04b677c5df8e"
      },
      "execution_count": null,
      "outputs": [
        {
          "output_type": "execute_result",
          "data": {
            "text/plain": [
              "1"
            ]
          },
          "metadata": {},
          "execution_count": 52
        }
      ]
    },
    {
      "cell_type": "code",
      "source": [
        " T = (3, 5, 7, 11)\n",
        " T.append(9)"
      ],
      "metadata": {
        "colab": {
          "base_uri": "https://localhost:8080/",
          "height": 158
        },
        "id": "jn9uo-ocFWMB",
        "outputId": "b1cbfae4-93ca-44bc-9f01-4fbf55a32f8e"
      },
      "execution_count": null,
      "outputs": [
        {
          "output_type": "error",
          "ename": "AttributeError",
          "evalue": "'tuple' object has no attribute 'append'",
          "traceback": [
            "\u001b[0;31m---------------------------------------------------------------------------\u001b[0m",
            "\u001b[0;31mAttributeError\u001b[0m                            Traceback (most recent call last)",
            "\u001b[0;32m<ipython-input-54-9d8c21e3c639>\u001b[0m in \u001b[0;36m<cell line: 2>\u001b[0;34m()\u001b[0m\n\u001b[1;32m      1\u001b[0m \u001b[0mT\u001b[0m \u001b[0;34m=\u001b[0m \u001b[0;34m(\u001b[0m\u001b[0;36m3\u001b[0m\u001b[0;34m,\u001b[0m \u001b[0;36m5\u001b[0m\u001b[0;34m,\u001b[0m \u001b[0;36m7\u001b[0m\u001b[0;34m,\u001b[0m \u001b[0;36m11\u001b[0m\u001b[0;34m)\u001b[0m\u001b[0;34m\u001b[0m\u001b[0;34m\u001b[0m\u001b[0m\n\u001b[0;32m----> 2\u001b[0;31m \u001b[0mT\u001b[0m\u001b[0;34m.\u001b[0m\u001b[0mappend\u001b[0m\u001b[0;34m(\u001b[0m\u001b[0;36m9\u001b[0m\u001b[0;34m)\u001b[0m\u001b[0;34m\u001b[0m\u001b[0;34m\u001b[0m\u001b[0m\n\u001b[0m",
            "\u001b[0;31mAttributeError\u001b[0m: 'tuple' object has no attribute 'append'"
          ]
        }
      ]
    },
    {
      "cell_type": "code",
      "source": [
        "D = {1:['Raj', 22], 2:['Simran', 21], 3:['Rahul', 40]}\n",
        "for val in D:\n",
        "     print(val)"
      ],
      "metadata": {
        "colab": {
          "base_uri": "https://localhost:8080/"
        },
        "id": "wUU8NnLuFe31",
        "outputId": "a3de7929-039d-4a84-daf3-0870b0d5f30f"
      },
      "execution_count": null,
      "outputs": [
        {
          "output_type": "stream",
          "name": "stdout",
          "text": [
            "1\n",
            "2\n",
            "3\n"
          ]
        }
      ]
    },
    {
      "cell_type": "code",
      "source": [
        "for sentence in paragraph:\n",
        "    for word in sentence.split():\n",
        "        single_word_list.append(word)"
      ],
      "metadata": {
        "colab": {
          "base_uri": "https://localhost:8080/",
          "height": 176
        },
        "id": "PBBUaYyvFlUu",
        "outputId": "5f4f83f8-ea34-4eda-961d-918b0a111aed"
      },
      "execution_count": null,
      "outputs": [
        {
          "output_type": "error",
          "ename": "NameError",
          "evalue": "name 'paragraph' is not defined",
          "traceback": [
            "\u001b[0;31m---------------------------------------------------------------------------\u001b[0m",
            "\u001b[0;31mNameError\u001b[0m                                 Traceback (most recent call last)",
            "\u001b[0;32m<ipython-input-56-53fdd3c097f6>\u001b[0m in \u001b[0;36m<cell line: 1>\u001b[0;34m()\u001b[0m\n\u001b[0;32m----> 1\u001b[0;31m \u001b[0;32mfor\u001b[0m \u001b[0msentence\u001b[0m \u001b[0;32min\u001b[0m \u001b[0mparagraph\u001b[0m\u001b[0;34m:\u001b[0m\u001b[0;34m\u001b[0m\u001b[0;34m\u001b[0m\u001b[0m\n\u001b[0m\u001b[1;32m      2\u001b[0m     \u001b[0;32mfor\u001b[0m \u001b[0mword\u001b[0m \u001b[0;32min\u001b[0m \u001b[0msentence\u001b[0m\u001b[0;34m.\u001b[0m\u001b[0msplit\u001b[0m\u001b[0;34m(\u001b[0m\u001b[0;34m)\u001b[0m\u001b[0;34m:\u001b[0m\u001b[0;34m\u001b[0m\u001b[0;34m\u001b[0m\u001b[0m\n\u001b[1;32m      3\u001b[0m         \u001b[0msingle_word_list\u001b[0m\u001b[0;34m.\u001b[0m\u001b[0mappend\u001b[0m\u001b[0;34m(\u001b[0m\u001b[0mword\u001b[0m\u001b[0;34m)\u001b[0m\u001b[0;34m\u001b[0m\u001b[0;34m\u001b[0m\u001b[0m\n",
            "\u001b[0;31mNameError\u001b[0m: name 'paragraph' is not defined"
          ]
        }
      ]
    },
    {
      "cell_type": "code",
      "source": [
        "3 * 3 ** 3"
      ],
      "metadata": {
        "colab": {
          "base_uri": "https://localhost:8080/"
        },
        "id": "q5JBrjZlFwzf",
        "outputId": "064f8286-9f04-41cf-9135-21255b63aaf3"
      },
      "execution_count": null,
      "outputs": [
        {
          "output_type": "execute_result",
          "data": {
            "text/plain": [
              "81"
            ]
          },
          "metadata": {},
          "execution_count": 57
        }
      ]
    },
    {
      "cell_type": "code",
      "source": [
        "L1 = ['Vikas', 'Akshay', 'Sanskar', 'Mahima']\n",
        "print(L1[1][-1])"
      ],
      "metadata": {
        "colab": {
          "base_uri": "https://localhost:8080/"
        },
        "id": "Q2Shif0OGFAp",
        "outputId": "ddca06aa-9aba-48af-822b-2a4c8e7e6866"
      },
      "execution_count": null,
      "outputs": [
        {
          "output_type": "stream",
          "name": "stdout",
          "text": [
            "y\n"
          ]
        }
      ]
    },
    {
      "cell_type": "code",
      "source": [
        "l = [32, 34, 12, 27, 33]\n",
        "l.append([14, 19])\n",
        "print(len(l))"
      ],
      "metadata": {
        "colab": {
          "base_uri": "https://localhost:8080/"
        },
        "id": "FUYfJiZBGJHH",
        "outputId": "751c1b81-2f1d-40cb-a2f3-bfbc605cd887"
      },
      "execution_count": null,
      "outputs": [
        {
          "output_type": "stream",
          "name": "stdout",
          "text": [
            "6\n"
          ]
        }
      ]
    },
    {
      "cell_type": "code",
      "source": [
        "print(list(range(10, 1, -1)))"
      ],
      "metadata": {
        "colab": {
          "base_uri": "https://localhost:8080/"
        },
        "id": "5YIP9Ff_GMdv",
        "outputId": "cc5e7d92-b620-4d8e-8a84-7db123fcb247"
      },
      "execution_count": null,
      "outputs": [
        {
          "output_type": "stream",
          "name": "stdout",
          "text": [
            "[10, 9, 8, 7, 6, 5, 4, 3, 2]\n"
          ]
        }
      ]
    },
    {
      "cell_type": "code",
      "source": [
        "C = [7, 8, 9, 18, 20, 21, 25, 26, 27, 31, 32, 34, 35, 36, 40, 43, 45, 47, 53, 58, 62, 67, 68, 71, 72, 74, 75, 76, 80, 81, 82, 90, 93, 95, 97, 99]\n",
        "F = [1, 7, 10, 13, 16, 22, 24, 29, 30, 32, 34, 39, 40, 43, 44, 48, 56, 60, 65, 68, 69, 73, 77, 78, 90, 93, 94, 95, 96]\n",
        "H = [5, 12, 14, 17, 20, 21, 22, 25, 28, 30, 37, 38, 39, 40, 42, 44, 57, 59, 61, 62, 67, 71, 75, 76, 77, 82, 83, 86, 87, 92, 94, 95]\n",
        "\n",
        "\n",
        "# amoung which number is not there in list 41,48,63 ,85\n",
        "for i in C:\n",
        "  if i not in F and i not in H:\n",
        "    print(i)\n",
        "\n",
        "\n"
      ],
      "metadata": {
        "colab": {
          "base_uri": "https://localhost:8080/"
        },
        "id": "C4V3JLNgGeQt",
        "outputId": "245d3d4d-e28f-4f92-83da-ce833582b86e"
      },
      "execution_count": null,
      "outputs": [
        {
          "output_type": "stream",
          "name": "stdout",
          "text": [
            "8\n",
            "9\n",
            "18\n",
            "26\n",
            "27\n",
            "31\n",
            "35\n",
            "36\n",
            "45\n",
            "47\n",
            "53\n",
            "58\n",
            "72\n",
            "74\n",
            "80\n",
            "81\n",
            "97\n",
            "99\n"
          ]
        }
      ]
    },
    {
      "cell_type": "code",
      "source": [
        "netflix = {'The Debt Collector': 1821195, 'Act of Vengeance': 2804479, 'Paradise Lost': 2195477, \"Gerald's Game\": 3650626, 'Long Shot': 638440, 'Mak Cun': 1010311, 'Our Souls at Night': 3028705, 'Out of Thin Air': 2681938, \"Paul Hollywood's Big Continental Road Trip\": 230689, 'Satu Hari': 1012350, 'Monster High: Boo York, Boo York': 1526025, 'Cultivating the Seas: History and Future of the Full-Cycle Cultured Kindai Tuna': 2762103, 'Domino': 872663, 'TUNA GIRL': 2574816, '5CM': 2647713, 'Animal World': 220789, 'Hold the Dark': 2307432, 'Lessons from a School Shooting: Notes from Dunblane': 2419534, 'Made in Mexico': 3653712, 'Single': 239278, 'The 3rd Eye': 196138, 'The Sinking Of Van Der Wijck': 2831856, 'Two Catalonias': 1337119, 'Bobby Sands: 66 Days': 2005623, 'Bard of Blood': 744998, 'Deliha 2': 3638900, 'Dragons: Rescue Riders': 3241239, 'In the Shadow of the Moon': 1213329, 'Skylines': 1840094, 'Sturgill Simpson Presents Sound & Fury': 1915540, 'The Politician': 1019394, 'Weeds on Fire': 2273090, 'Much Loved': 3039852, 'Joseph: King of Dreams': 1734449, 'Malaal': 1926128, 'The Grandmaster': 2549410, 'The Inmate': 130965, 'The Hurricane Heist': 2191538, 'Def Comedy Jam 25': 1392697, 'Restless Creature: Wendy Whelan': 2474412, 'Print the Legend': 548250, 'Birders': 3478883, 'Furie': 2755115, 'Leap!': 1401638, 'Oh! Baby (Malayalam)': 839139, 'Oh! Baby (Tamil)': 2691505, 'USS Indianapolis: Men of Courage': 3286014, 'A Wrinkle in Time': 1258861, 'Teach Us All': 2428947, 'White Island': 1152905, 'Inside Man: Most Wanted': 2812661, 'Jeff Dunham: Beside Himself': 2930368, 'China Salesman': 3377292, 'Swearnet: The Movie': 949689, 'The Bar': 620655, 'Manmadhudu 2': 1842761, 'Team Kaylie': 359856, 'Under the Eiffel Tower': 2298237, 'Audrie & Daisy': 1573055, 'Iliza Shlesinger: Confirmed Kills': 365220, 'BONDING': 1664242, 'Do Paise Ki Dhoop Chaar Aane Ki Baarish': 2770879, '20 Feet From Stardom': 2931730, 'In Darkness': 3248749, 'Gaga: Five Foot Two': 3719550, 'The Bad Batch': 3656264, 'SMOSH: The Movie': 3697506, 'King of Boys': 584112, 'Merry Men: The Real Yoruba Demons': 2035595, \"Sarah's Key\": 1337902, 'The Wedding Party 2: Destination Dubai': 1471204, 'Vagabond': 1600432, 'Battlefish': 723021, 'DRAGON PILOT: Hisone & Masotan': 602919, 'Hilda': 54948, 'Maniac': 1348196, 'Quincy': 2601704, 'Rafinha Bastos: Ultimatum': 3469996, 'The Good Cop': 2265521, 'Between Two Ferns: The Movie': 3146508, 'Criminal: France': 2021409, 'Criminal: Germany': 658824, 'Criminal: Spain': 3078634, 'Criminal: UK': 2721398, 'Daddy Issues': 2119035, \"Inside Bill's Brain: Decoding Bill Gates\": 1755104, 'The Hockey Girls': 2000507, 'Travel Mates 2': 707260, 'True: Tricky Treat Day': 3213199, 'Two Sentence Horror Stories': 2438329, 'Mad World': 2281773, 'Mobile Suit Gundam UC': 778879, 'The Bund': 1729892, 'The First Line': 674591, 'Maynard': 84986, 'Monkey Twins': 3277179, 'Bitcoin Heist': 1450158, 'I Am Not Madame Bovary': 2763830, 'Vincent N Roxxy': 1961810, \"Chef's Table: France\": 2065738}\n",
        "\n",
        "# \" Do Paise Ki Dhoop Chaar Aane Ki Baarish \" check value of\n",
        "print(netflix['Do Paise Ki Dhoop Chaar Aane Ki Baarish'])\n"
      ],
      "metadata": {
        "colab": {
          "base_uri": "https://localhost:8080/"
        },
        "id": "UAmG0XnRGuA5",
        "outputId": "8341af66-195a-4b26-d926-f8d11257e9c1"
      },
      "execution_count": null,
      "outputs": [
        {
          "output_type": "stream",
          "name": "stdout",
          "text": [
            "2770879\n"
          ]
        }
      ]
    },
    {
      "cell_type": "code",
      "source": [
        "print(\"Most Popular: \" + max(netflix, key = netflix.get))\n",
        "print(\"Least Popular: \" + min(netflix, key = netflix.get))"
      ],
      "metadata": {
        "colab": {
          "base_uri": "https://localhost:8080/"
        },
        "id": "RVPhygcUJ5w7",
        "outputId": "3e8e72fe-e6df-4d26-877b-f52dbd90331c"
      },
      "execution_count": null,
      "outputs": [
        {
          "output_type": "stream",
          "name": "stdout",
          "text": [
            "Most Popular: Gaga: Five Foot Two\n",
            "Least Popular: Hilda\n"
          ]
        }
      ]
    },
    {
      "cell_type": "code",
      "source": [
        "# Netflix has just received the number of views for the last week as well.\n",
        "# Add these views to the total views and find the most popular title in terms of views.\n",
        "# Also, find out how many views this title has?\n",
        "\n",
        "total_views = sum(netflix.values())\n",
        "print(\"Total Views:\", total_views)\n",
        "print(\"Most Popular Title:\", max(netflix, key=netflix.get))\n",
        "# Also, find out how many views this title has?"
      ],
      "metadata": {
        "colab": {
          "base_uri": "https://localhost:8080/"
        },
        "id": "DqvvFsKVJ7Mu",
        "outputId": "9508bc41-90b5-405a-e138-ea013667f73c"
      },
      "execution_count": null,
      "outputs": [
        {
          "output_type": "stream",
          "name": "stdout",
          "text": [
            "Total Views: 193679610\n",
            "Most Popular Title: Gaga: Five Foot Two\n"
          ]
        }
      ]
    },
    {
      "cell_type": "markdown",
      "source": [
        "## ***Basics of Python***\n",
        "\n",
        "1. [*Jupyter Notebook quick starter guide*t](https://jupyter-notebook-beginner-guide.readthedocs.io/en/latest/)\n",
        "\n",
        "2. [*Jupyter Notebook built-in Commands*](https://ipython.readthedocs.io/en/stable/interactive/magics.html)\n",
        "\n",
        "3. [*Data types in Python*](https://www.w3schools.com/python/python_datatypes.asp)\n",
        "\n",
        "4. [*Arithmetic operations tutorial*](https://www.youtube.com/watch?v=QC_Wpj_cJKM)\n",
        "\n",
        "5. [*String operations practice questions*](https://www.practicepython.org/exercise/2014/01/29/01-character-input.html)\n",
        "\n",
        "6. *Additional Reading from the Summary section*\n",
        "\n",
        "    ***Beginner Level:***\n",
        "\n",
        "      A} [*Think Python - EBook*](https://greenteapress.com/wp/think-python-2e/)\n",
        "      \n",
        "      B} [*The Hitchhiker's Guide to Python*](https://docs.python-guide.org/intro/learning/)\n",
        "      \n",
        "      C} [*A byte of Python - EBook*](https://python.swaroopch.com/)\n",
        "\n",
        "      D} [*Jupyter notebook mac shortcuts*](https://gist.github.com/kidpixo/f4318f8c8143adee5b40)\n",
        "\n",
        "    ***Advanced Level:***\n",
        "         \n",
        "      - [*Problem-solving with algorithms - Interactive Ebook*](https://runestone.academy/ns/books/published/pythonds/index.html)"
      ],
      "metadata": {
        "id": "ca6XAqtPLCsW"
      }
    },
    {
      "cell_type": "markdown",
      "source": [
        "## ***Data structures in Python***\n",
        "\n",
        "1. [*Python documentation on list*](https://docs.python.org/3/tutorial/introduction.html#lists)\n",
        "2. [*Lists practice questions*](https://www.practicepython.org/exercise/2014/03/05/05-list-overlap.html)\n",
        "3. [*Operations on Sets - Python Documentation*](https://docs.python.org/3/tutorial/datastructures.html#sets)\n",
        "4. [*Dictionaries Tutorial*](https://www.youtube.com/watch?v=daefaLgNkw0)\n",
        "5. *Additional Reading from the Summary section*\n",
        "\n",
        "    A} [*Data structures - Python Documentation*](https://docs.python.org/3/tutorial/datastructures.html)\n",
        "\n",
        "    B} [*Getting Started with Data*](https://runestone.academy/ns/books/published/pythonds/Introduction/GettingStartedwithData.html#built-in-collection-data-types)"
      ],
      "metadata": {
        "id": "bg7fMvs1Ntwe"
      }
    },
    {
      "cell_type": "markdown",
      "source": [
        "## ***Control Structures and Functions in Python***\n",
        "\n",
        "1. [*Decision Making - Supportive Interactive Content*](https://www.w3schools.in/python/decision-making/)\n",
        "\n",
        "2. [*Loops and iterations - Supportive Interactive Content*](https://www.w3schools.com/python/python_for_loops.asp)\n",
        "\n",
        "3. [*Comprehensions - Explained visually*](https://treyhunner.com/2015/12/python-list-comprehensions-now-in-color/)\n",
        "\n",
        "4. [*Functions- A Byte of Python - EBook*](https://python.swaroopch.com/functions.html)\n",
        "\n",
        "5. [*Defining functions of your own - Supportive Content*](http://anh.cs.luc.edu/python/hands-on/3.1/handsonHtml/functions.html)\n",
        "\n",
        "6. [*Python 3 idioms test*](https://python-3-patterns-idioms-test.readthedocs.io/en/latest/Comprehensions.html)\n",
        "\n",
        "7. [*Map, Filter and Reduce Functions - Video Tutorial*](https://www.youtube.com/watch?v=hUes6y2b--0)\n",
        "\n",
        "\n"
      ],
      "metadata": {
        "id": "vkKM0R3EQRpN"
      }
    },
    {
      "cell_type": "markdown",
      "source": [
        "## ***OOP in Python***\n",
        "\n",
        "**Basic Level**\n",
        "\n",
        "1. [*Class and Objects - Video Tutorial*](https://www.youtube.com/watch?v=8O5kX73OkIY)\n",
        "\n",
        "2. [*Methods - Video Tutorial*](https://www.youtube.com/watch?v=lVfGQOzzRCM)\n",
        "\n",
        "3. [*Inheritance - Supportive Content*](https://python-course.eu/oop/inheritance.php)\n",
        "\n",
        "**Advanced Level**\n",
        "\n",
        "1. [*OOPs Tutorial - Video Tutorial Playlist*](https://www.youtube.com/watch?v=ZDa-Z5JzLYM&list=PL-osiE80TeTsqhIuOqKhwlXsIBIdSeYtc)"
      ],
      "metadata": {
        "id": "Haq0O8IJjfk8"
      }
    },
    {
      "cell_type": "code",
      "source": [],
      "metadata": {
        "id": "C7eDju8ypr_4"
      },
      "execution_count": null,
      "outputs": []
    }
  ]
}