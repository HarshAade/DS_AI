{
  "nbformat": 4,
  "nbformat_minor": 0,
  "metadata": {
    "colab": {
      "provenance": [],
      "authorship_tag": "ABX9TyOYJx05iwKpWmo45O4aK6Kk",
      "include_colab_link": true
    },
    "kernelspec": {
      "name": "python3",
      "display_name": "Python 3"
    },
    "language_info": {
      "name": "python"
    }
  },
  "cells": [
    {
      "cell_type": "markdown",
      "metadata": {
        "id": "view-in-github",
        "colab_type": "text"
      },
      "source": [
        "<a href=\"https://colab.research.google.com/github/HarshAade/DS_AI/blob/main/RL_Example.ipynb\" target=\"_parent\"><img src=\"https://colab.research.google.com/assets/colab-badge.svg\" alt=\"Open In Colab\"/></a>"
      ]
    },
    {
      "cell_type": "markdown",
      "source": [
        "## *Real-Life Scenarios of Programming - I*"
      ],
      "metadata": {
        "id": "t_sg1gxwMqEg"
      }
    },
    {
      "cell_type": "markdown",
      "source": [
        "      Have u were wondered how back button\n",
        "      simply we can create a list we can append and we can pop\n",
        "      it is stack last in first out"
      ],
      "metadata": {
        "id": "J9k8GPQI0gEr"
      }
    },
    {
      "cell_type": "markdown",
      "source": [
        "    Now lets how the Youtube vedio views are count\n",
        "    always there a list and flow of diagram lets say if user id or mail is in the list then it will do ntg and if user id or mail is not in the list then the count will incerase by one and the user id or mail wil be added to list"
      ],
      "metadata": {
        "id": "seLsTKWr3eEj"
      }
    },
    {
      "cell_type": "markdown",
      "source": [
        "    Now lets say whow e commerce search engin work\n",
        "    there is the product list in that all the product name are mention and that are in the string format and when the user entere product name the string searchs the same name as per the name match all the things are display and id they didnt match then as it ntg is printe"
      ],
      "metadata": {
        "id": "kMzvhzr45T1L"
      }
    },
    {
      "cell_type": "markdown",
      "source": [
        "## *Real-Life Scenarios of Programming - II*"
      ],
      "metadata": {
        "id": "3mG_SBgv5Qk8"
      }
    },
    {
      "cell_type": "markdown",
      "source": [
        "    Workflow of Searching resturtent in any food delivery app"
      ],
      "metadata": {
        "id": "Jtqyc-3T7cBj"
      }
    },
    {
      "cell_type": "markdown",
      "source": [
        "    Workflow of tinder app"
      ],
      "metadata": {
        "id": "2KARavGa7pr_"
      }
    },
    {
      "cell_type": "markdown",
      "source": [
        "## *Swapping*"
      ],
      "metadata": {
        "id": "mQSCSNR-7yoT"
      }
    },
    {
      "cell_type": "code",
      "source": [
        "in_string=input()\n",
        "mylist = in_string.split(',')\n",
        "x = int(mylist[0])\n",
        "y = int(mylist[1])\n",
        "print('x before swapping : {}'.format(x))\n",
        "print('y before swapping : {}'.format(y))\n",
        "temp = x\n",
        "x = y\n",
        "y = temp\n",
        "print()\n",
        "print('x after swapping : {}'.format(x))\n",
        "print('y after swapping : {}'.format(y))"
      ],
      "metadata": {
        "colab": {
          "base_uri": "https://localhost:8080/"
        },
        "id": "Umcj38kO7yTw",
        "outputId": "9ec98e08-b9a9-4e23-d2cd-a9e6c85df1c7"
      },
      "execution_count": null,
      "outputs": [
        {
          "output_type": "stream",
          "name": "stdout",
          "text": [
            "2 , 4\n",
            "x before swapping : 2\n",
            "y before swapping : 4\n",
            "\n",
            "x after swapping : 4\n",
            "y after swapping : 2\n"
          ]
        }
      ]
    },
    {
      "cell_type": "markdown",
      "source": [
        "Can you swap two variables in python without using a third variable, as Sajan showed?\n",
        "\n",
        "Hint: There is more than one way; let's see how many can you think of!"
      ],
      "metadata": {
        "id": "QGjibfqBmCxZ"
      }
    },
    {
      "cell_type": "markdown",
      "source": [
        "*Even or Odd*"
      ],
      "metadata": {
        "id": "8MLgE69aUbsj"
      }
    },
    {
      "cell_type": "code",
      "source": [
        "num = int(input())\n",
        "# a = round(num)\n",
        "if num % 2 == 0:\n",
        "    print('Even')\n",
        "else:\n",
        "    print('Odd')"
      ],
      "metadata": {
        "colab": {
          "base_uri": "https://localhost:8080/"
        },
        "id": "ZBYTUr-H7jsh",
        "outputId": "c749bf6c-146b-4ced-e4ab-c3c36a28ba69"
      },
      "execution_count": null,
      "outputs": [
        {
          "output_type": "stream",
          "name": "stdout",
          "text": [
            "6\n",
            "Even\n"
          ]
        }
      ]
    },
    {
      "cell_type": "markdown",
      "source": [
        "Beautiful, Pretty and Sexy\n",
        "Description\n",
        "A number k is beautiful if it is of the form 3n+1, is pretty if it is of form 3n+2 and is sexy if it is of form 3n.\n",
        "\n",
        "Given a number k, print if it is beautiful, pretty or sexy."
      ],
      "metadata": {
        "id": "DRFqgQygl6tP"
      }
    },
    {
      "cell_type": "markdown",
      "source": [
        "The process followed while coding any question is first to understand the problem, get to know and break it down, then think of what/how you can approach it with the tools at hand, and then implement it. Can you think of a problem you solved in your experience with a similar approach?"
      ],
      "metadata": {
        "id": "yxEpZVVJmFXf"
      }
    },
    {
      "cell_type": "markdown",
      "source": [
        "## *Alarm Clock*"
      ],
      "metadata": {
        "id": "4WcPRaH0mHyj"
      }
    },
    {
      "cell_type": "markdown",
      "source": [
        "Lets say we want to create alarm clock in that\n",
        "Day of week: [1-7]\n",
        "weekend: [6,7]\n",
        "weekday: [1,5]\n",
        "vacation: True or False"
      ],
      "metadata": {
        "id": "11sUVWeJ5uVF"
      }
    },
    {
      "cell_type": "code",
      "source": [
        "import ast\n",
        "input_str = input()\n",
        "input_list = ast.literal_eval(input_str)\n",
        "\n",
        "# If pass any varaible of inside \"ast.literal_eval\" ,\n",
        "# it can infer automatically that weather that it is list or str or input float or anything\n",
        "\n",
        "day_of_the_week = input_list[0]\n",
        "is_on_vacation = input_list[1]\n",
        "\n",
        "def alarm_clock(day_of_the_week, is_on_vacation = 0):\n",
        "    weekend = [6,7]\n",
        "    if is_on_vacation:\n",
        "        if day_of_the_week not in weekend:\n",
        "            return '10:00'\n",
        "        else:\n",
        "            return 'off'\n",
        "    else:\n",
        "        if day_of_the_week in weekend:\n",
        "            return '10:00'\n",
        "        else:\n",
        "            return '7:00'\n",
        "print(alarm_clock(day_of_the_week, is_on_vacation))"
      ],
      "metadata": {
        "id": "UCjhVqHakc6w",
        "colab": {
          "base_uri": "https://localhost:8080/"
        },
        "outputId": "9d9aa732-0e81-4fe0-e9d7-b70dbfdf4765"
      },
      "execution_count": null,
      "outputs": [
        {
          "output_type": "stream",
          "name": "stdout",
          "text": [
            "3, 0\n",
            "7:00\n"
          ]
        }
      ]
    },
    {
      "cell_type": "markdown",
      "source": [
        "*Factorial*"
      ],
      "metadata": {
        "id": "ktrYKIW2AD2h"
      }
    },
    {
      "cell_type": "code",
      "source": [
        "number = int(input())\n",
        "\n",
        "def factorial(number):\n",
        "    if number < 0:\n",
        "        return 'Enter Positive Number'\n",
        "    elif number == 0:\n",
        "        return 'Enter Greater Then 1'\n",
        "    else:\n",
        "        f = 1\n",
        "        for i in range(1, number + 1):\n",
        "            f *= i\n",
        "        return f\n",
        "\n",
        "k=factorial(number)\n",
        "print(k)"
      ],
      "metadata": {
        "colab": {
          "base_uri": "https://localhost:8080/"
        },
        "id": "S6OSLXCqAEih",
        "outputId": "6317ba91-1ab1-4b4b-f85b-de85b1d9c541"
      },
      "execution_count": null,
      "outputs": [
        {
          "output_type": "stream",
          "name": "stdout",
          "text": [
            "6\n",
            "720\n"
          ]
        }
      ]
    },
    {
      "cell_type": "markdown",
      "source": [
        "*Reverse the Digits*"
      ],
      "metadata": {
        "id": "2O4O_9HoDQ-K"
      }
    },
    {
      "cell_type": "code",
      "source": [
        "n = int(input())\n",
        "rev = 0\n",
        "while n > 0:\n",
        "    rem = n % 10\n",
        "    rev = rev * 10 + rem\n",
        "    n = n // 10\n",
        "\n",
        "print(rev)"
      ],
      "metadata": {
        "colab": {
          "base_uri": "https://localhost:8080/"
        },
        "id": "-iMoG8oLgHqb",
        "outputId": "31def987-fa58-4f40-c8ca-f7a935e77f36"
      },
      "execution_count": null,
      "outputs": [
        {
          "output_type": "stream",
          "name": "stdout",
          "text": [
            "9876543210198\n",
            "8910123456789\n"
          ]
        }
      ]
    },
    {
      "cell_type": "markdown",
      "source": [
        "*How Many Chocolates?*"
      ],
      "metadata": {
        "id": "mvPxDpeNoMJG"
      }
    },
    {
      "cell_type": "markdown",
      "source": [
        "Sanjay loves chocolates. He goes to a shop to buy his favourite chocolate. There he notices there is an offer going on; upon bringing 3 wrappers of the same chocolate, you will get new chocolate for free if Sanjay has m Rupees. How many chocolates will he be able to eat if each chocolate costs c Rupees\n",
        "\n",
        "m = 15\n",
        "c = 2\n",
        "\n",
        "total c = 7\n",
        "for c choclate there are 7 wrappers and for each 3 wrapper will get a chocalate\n",
        "\n",
        "2 more chocalate\n",
        "one wrapper remaning from 7 so 2 more the chocalate means 1 + 2 = 3 so will add one more choclate\n",
        "means total 10 chocalate\n"
      ],
      "metadata": {
        "id": "X5OFa8_qPeiy"
      }
    },
    {
      "cell_type": "code",
      "source": [
        "mystring = input()\n",
        "mylist = mystring.split(',')\n",
        "\n",
        "m = int(mylist[0])\n",
        "c = int(mylist[1])\n",
        "\n",
        "choc = m // c\n",
        "w = m // c\n",
        "\n",
        "while w//3!=0:\n",
        "    choc = choc + w//3\n",
        "    w = w//3 + w%3\n",
        "print(choc)"
      ],
      "metadata": {
        "colab": {
          "base_uri": "https://localhost:8080/"
        },
        "id": "GezcuxAeSNsL",
        "outputId": "1e10ab40-76d5-4acc-aa12-3b765c8ff54a"
      },
      "execution_count": null,
      "outputs": [
        {
          "output_type": "stream",
          "name": "stdout",
          "text": [
            "15 ,2 \n",
            "10\n"
          ]
        }
      ]
    },
    {
      "cell_type": "markdown",
      "source": [
        "*Print the Pattern*"
      ],
      "metadata": {
        "id": "lKRUKvo5ocPW"
      }
    },
    {
      "cell_type": "code",
      "source": [
        "n = int(input())\n",
        "for i in range(1, n+1):\n",
        "    for j in range(n-i):\n",
        "      print(' ', end='')\n",
        "    for j in range(i-1):\n",
        "      print('*_', end='')\n",
        "    print('*')"
      ],
      "metadata": {
        "colab": {
          "base_uri": "https://localhost:8080/"
        },
        "id": "5bkokIUyhzZu",
        "outputId": "6106d6d2-9967-48c9-8f1b-627eb0ab0016"
      },
      "execution_count": null,
      "outputs": [
        {
          "output_type": "stream",
          "name": "stdout",
          "text": [
            "10\n",
            "         *\n",
            "        *_*\n",
            "       *_*_*\n",
            "      *_*_*_*\n",
            "     *_*_*_*_*\n",
            "    *_*_*_*_*_*\n",
            "   *_*_*_*_*_*_*\n",
            "  *_*_*_*_*_*_*_*\n",
            " *_*_*_*_*_*_*_*_*\n",
            "*_*_*_*_*_*_*_*_*_*\n"
          ]
        }
      ]
    },
    {
      "cell_type": "markdown",
      "source": [
        "*Practice Question one*"
      ],
      "metadata": {
        "id": "2ndAnhJusPtd"
      }
    },
    {
      "cell_type": "markdown",
      "source": [
        "Alphabetic Patterns\n",
        "Description\n",
        "Given a positive integer 'n' less than or equal to 26, you are required to print the below pattern.\n",
        "\n",
        "\n",
        "\n",
        "Sample Input: 5\n",
        "\n",
        "\n",
        "\n",
        "Sample Output :\n",
        "\n",
        "--------e--------\n",
        "\n",
        "------e-d-e------\n",
        "\n",
        "----e-d-c-d-e----\n",
        "\n",
        "--e-d-c-b-c-d-e--\n",
        "\n",
        "e-d-c-b-a-b-c-d-e\n",
        "\n",
        "--e-d-c-b-c-d-e--\n",
        "\n",
        "----e-d-c-d-e----\n",
        "\n",
        "------e-d-e------\n",
        "\n",
        "--------e--------\n",
        "\n",
        "\n",
        "\n",
        "Sample Input : 3\n",
        "\n",
        "\n",
        "\n",
        "Sample Output :\n",
        "\n",
        "----c----\n",
        "\n",
        "--c-b-c--\n",
        "\n",
        "c-b-a-b-c\n",
        "\n",
        "--c-b-c--\n",
        "\n",
        "----c----\n",
        "\n"
      ],
      "metadata": {
        "id": "OTRAL9OS55Lz"
      }
    },
    {
      "cell_type": "markdown",
      "source": [
        "Practice Question 2\n",
        "\n",
        "Armstrong Number\n",
        "\n",
        "Description\n",
        "Any number, say 'n', is called an Armstrong number if it is equal to the sum of its digits, where each is raised to the power of the number of digits in 'n'.\n",
        "\n",
        "For example:\n",
        "\n",
        "153=13+53+33\n",
        "\n",
        "\n",
        "\n",
        "Write a Python code to determine whether an entered three-digit number is an Armstrong number or not.\n",
        "\n",
        "Assume that the number entered will strictly be a three-digit number.\n",
        "\n",
        "Print \"True\" if it is an Armstrong number and print \"False\" if it is not.\n",
        "\n",
        "Sample Input:\n",
        "\n",
        "153\n",
        "\n",
        "Sample Output:\n",
        "\n",
        "True\n",
        "\n",
        "Execution Time Limit"
      ],
      "metadata": {
        "id": "8GHdiS_a5-SV"
      }
    },
    {
      "cell_type": "markdown",
      "source": [
        "Quetion no 3\n",
        "\n",
        "Fibonacci Series\n",
        "\n",
        "Description\n",
        "Compute and display Fibonacci series up to 'n' terms where 'n' is a positive integer entered by the user.\n",
        "\n",
        "You can go here to read about the Fibonacci series.\n",
        "\n",
        "Sample Input:\n",
        "\n",
        "5\n",
        "\n",
        "Sample Output:\n",
        "\n",
        "0\n",
        "\n",
        "1\n",
        "\n",
        "1\n",
        "\n",
        "2\n",
        "\n",
        "3"
      ],
      "metadata": {
        "id": "R5kpvIcg6MTJ"
      }
    },
    {
      "cell_type": "markdown",
      "source": [
        "Question No 4\n",
        "\n",
        "Sum of Primes\n",
        "Description\n",
        "Write a Python code to find the sum of prime numbers from 2 to 'n', where 'n' is a positive integer entered by the user.\n",
        "\n",
        "\n",
        "\n",
        "Note: n can be non-prime or prime. You have to find the sum of primes till 'n' and not the sum of 'n' prime numbers. i.e., for input 10, the output should be 17.\n",
        "\n",
        "\n",
        "\n",
        "Hint: You can try using lambda functions and comprehensions to reduce the lines of code you have to write.\n",
        "\n",
        "\n",
        "\n",
        "Input: A positive integer n.\n",
        "\n",
        "Output: A integer denoting the sum of primes less than or equal to n\n",
        "\n",
        "\n",
        "\n",
        "Sample Input:\n",
        "\n",
        "5\n",
        "\n",
        "Sample Output:\n",
        "\n",
        "10"
      ],
      "metadata": {
        "id": "EI_k-GEx6Soc"
      }
    },
    {
      "cell_type": "markdown",
      "source": [
        "Question No 5\n",
        "\n",
        "Generalised Chocolate\n",
        "\n",
        "Description\n",
        "Earlier, you solved the chocolate problem where Sanjay had m rupees, and the cost of each chocolate was c rupees. The shopkeeper gave away one chocolate for three wrappers. In this problem, let's generalise the question by saying, Sanjay has m rupees, each chocolate costs c rupees, the shopkeeper will give away k chocolates for w wrappers. Can you find now how many chocolates Sanjay will be able to eat?\n",
        "\n",
        "\n",
        "\n",
        "Input: 4 integers separated by space in order m c w k\n",
        "\n",
        "integers c and w will be >0\n",
        "\n",
        "integers m and k will be >=0\n",
        "\n",
        "integer k will be <w\n",
        "\n",
        "\n",
        "\n",
        "Output: An integer denoting the number of chocolates Sanjay will be able to get.\n",
        "\n",
        "\n",
        "\n",
        "Sample input:\n",
        "\n",
        "15, 2, 3, 1\n",
        "\n",
        "\n",
        "\n",
        "Sample output:\n",
        "\n",
        "10\n",
        "\n",
        "\n",
        "\n",
        "Explanation:\n",
        "\n",
        "Sanjay has 15 ₹, buys 7 chocolates for ₹ 2 each.\n",
        "\n",
        "Sanjay now has 7 wrappers, exchanges 6 of them for 2 more chocolates.\n",
        "\n",
        "Sanjay now has 3 wrappers and exchanges them for 1 more chocolate making a total of 10 chocolates.\n",
        "\n",
        "\n",
        "\n",
        "Sample input:\n",
        "\n",
        "15, 2, 3, 2\n",
        "\n",
        "\n",
        "\n",
        "Sample output:\n",
        "\n",
        "17\n",
        "\n",
        "\n",
        "\n",
        "Explanation:\n",
        "\n",
        "Sanjay has 15 ₹, buys 7 chocolates for ₹ 2 each.\n",
        "\n",
        "Sanjay now has 7 wrappers, exchanges 6 of them for 4 more chocolates.\n",
        "\n",
        "Sanjay now has 5 wrappers and exchanges 3 of them for 2 more chocolates.\n",
        "\n",
        "Sanjay now has 4 wrappers and exchanges 3 of them for 2 more chocolates.\n",
        "\n",
        "Sanjay now has 3 wrappers and exchanges them for 2 chocolates making a total of 17 chocolates.\n",
        "\n",
        "Execution Time Limit\n",
        "10 seconds"
      ],
      "metadata": {
        "id": "nVjrodi-6Zj_"
      }
    },
    {
      "cell_type": "markdown",
      "source": [
        "Swapping variables with and without the use of a temporary variable\n",
        "Finding whether an integer is odd or even\n",
        "Automating an alarm clock\n",
        "Calculating the factorial of numbers\n",
        "Reversing the digits of a number using ‘//’ and ‘%’ operators\n",
        "Solving the chocolate bar puzzle\n",
        "Printing patterns using nested loops\n"
      ],
      "metadata": {
        "id": "tDh3fQjS6q1X"
      }
    },
    {
      "cell_type": "markdown",
      "source": [
        "## data importing"
      ],
      "metadata": {
        "id": "kZh7OEUV6zeu"
      }
    },
    {
      "cell_type": "code",
      "source": [
        "import pandas as pd"
      ],
      "metadata": {
        "id": "NNH6icGnqVWg"
      },
      "execution_count": null,
      "outputs": []
    },
    {
      "cell_type": "code",
      "source": [
        "data = pd.read_excel('SA.xls', sheet_name = 'Orders')\n",
        "print(data)"
      ],
      "metadata": {
        "colab": {
          "base_uri": "https://localhost:8080/"
        },
        "id": "BLXwdNL9kWrU",
        "outputId": "032a9c51-cf99-4f15-86a1-2c4cb7f2e6ca"
      },
      "execution_count": null,
      "outputs": [
        {
          "output_type": "stream",
          "name": "stdout",
          "text": [
            "      Row ID        Order ID Order Date  Ship Date       Ship Mode  \\\n",
            "0          1  CA-2016-152156 2016-11-08 2016-11-11    Second Class   \n",
            "1          2  CA-2016-152156 2016-11-08 2016-11-11    Second Class   \n",
            "2          3  CA-2016-138688 2016-06-12 2016-06-16    Second Class   \n",
            "3          4  US-2015-108966 2015-10-11 2015-10-18  Standard Class   \n",
            "4          5  US-2015-108966 2015-10-11 2015-10-18  Standard Class   \n",
            "...      ...             ...        ...        ...             ...   \n",
            "9989    9990  CA-2014-110422 2014-01-21 2014-01-23    Second Class   \n",
            "9990    9991  CA-2017-121258 2017-02-26 2017-03-03  Standard Class   \n",
            "9991    9992  CA-2017-121258 2017-02-26 2017-03-03  Standard Class   \n",
            "9992    9993  CA-2017-121258 2017-02-26 2017-03-03  Standard Class   \n",
            "9993    9994  CA-2017-119914 2017-05-04 2017-05-09    Second Class   \n",
            "\n",
            "     Customer ID     Customer Name    Segment        Country             City  \\\n",
            "0       CG-12520       Claire Gute   Consumer  United States        Henderson   \n",
            "1       CG-12520       Claire Gute   Consumer  United States        Henderson   \n",
            "2       DV-13045   Darrin Van Huff  Corporate  United States      Los Angeles   \n",
            "3       SO-20335    Sean O'Donnell   Consumer  United States  Fort Lauderdale   \n",
            "4       SO-20335    Sean O'Donnell   Consumer  United States  Fort Lauderdale   \n",
            "...          ...               ...        ...            ...              ...   \n",
            "9989    TB-21400  Tom Boeckenhauer   Consumer  United States            Miami   \n",
            "9990    DB-13060       Dave Brooks   Consumer  United States       Costa Mesa   \n",
            "9991    DB-13060       Dave Brooks   Consumer  United States       Costa Mesa   \n",
            "9992    DB-13060       Dave Brooks   Consumer  United States       Costa Mesa   \n",
            "9993    CC-12220      Chris Cortes   Consumer  United States      Westminster   \n",
            "\n",
            "      ... Postal Code  Region       Product ID         Category Sub-Category  \\\n",
            "0     ...       42420   South  FUR-BO-10001798        Furniture    Bookcases   \n",
            "1     ...       42420   South  FUR-CH-10000454        Furniture       Chairs   \n",
            "2     ...       90036    West  OFF-LA-10000240  Office Supplies       Labels   \n",
            "3     ...       33311   South  FUR-TA-10000577        Furniture       Tables   \n",
            "4     ...       33311   South  OFF-ST-10000760  Office Supplies      Storage   \n",
            "...   ...         ...     ...              ...              ...          ...   \n",
            "9989  ...       33180   South  FUR-FU-10001889        Furniture  Furnishings   \n",
            "9990  ...       92627    West  FUR-FU-10000747        Furniture  Furnishings   \n",
            "9991  ...       92627    West  TEC-PH-10003645       Technology       Phones   \n",
            "9992  ...       92627    West  OFF-PA-10004041  Office Supplies        Paper   \n",
            "9993  ...       92683    West  OFF-AP-10002684  Office Supplies   Appliances   \n",
            "\n",
            "                                           Product Name     Sales  Quantity  \\\n",
            "0                     Bush Somerset Collection Bookcase  261.9600         2   \n",
            "1     Hon Deluxe Fabric Upholstered Stacking Chairs,...  731.9400         3   \n",
            "2     Self-Adhesive Address Labels for Typewriters b...   14.6200         2   \n",
            "3         Bretford CR4500 Series Slim Rectangular Table  957.5775         5   \n",
            "4                        Eldon Fold 'N Roll Cart System   22.3680         2   \n",
            "...                                                 ...       ...       ...   \n",
            "9989                             Ultra Door Pull Handle   25.2480         3   \n",
            "9990  Tenex B1-RE Series Chair Mats for Low Pile Car...   91.9600         2   \n",
            "9991                              Aastra 57i VoIP phone  258.5760         2   \n",
            "9992  It's Hot Message Books with Stickers, 2 3/4\" x 5\"   29.6000         4   \n",
            "9993  Acco 7-Outlet Masterpiece Power Center, Wihtou...  243.1600         2   \n",
            "\n",
            "      Discount    Profit  \n",
            "0         0.00   41.9136  \n",
            "1         0.00  219.5820  \n",
            "2         0.00    6.8714  \n",
            "3         0.45 -383.0310  \n",
            "4         0.20    2.5164  \n",
            "...        ...       ...  \n",
            "9989      0.20    4.1028  \n",
            "9990      0.00   15.6332  \n",
            "9991      0.20   19.3932  \n",
            "9992      0.00   13.3200  \n",
            "9993      0.00   72.9480  \n",
            "\n",
            "[9994 rows x 21 columns]\n"
          ]
        }
      ]
    },
    {
      "cell_type": "code",
      "source": [
        "# prompt: i want data in dataframe its in serivse\n",
        "\n",
        "import pandas as pd\n",
        "data = pd.read_csv('Sample_Superstore.csv')\n",
        "print(data)"
      ],
      "metadata": {
        "colab": {
          "base_uri": "https://localhost:8080/"
        },
        "id": "9WamOvPHk5WZ",
        "outputId": "ae17c1ee-0cf9-45df-9804-1f39362d6524"
      },
      "execution_count": null,
      "outputs": [
        {
          "output_type": "stream",
          "name": "stdout",
          "text": [
            "      Row ID        Order ID  Order Date   Ship Date       Ship Mode  \\\n",
            "0          1  CA-2016-152156   11/8/2016  11/11/2016    Second Class   \n",
            "1          2  CA-2016-152156   11/8/2016  11/11/2016    Second Class   \n",
            "2          3  CA-2016-138688   6/12/2016   6/16/2016    Second Class   \n",
            "3          4  US-2015-108966  10/11/2015  10/18/2015  Standard Class   \n",
            "4          5  US-2015-108966  10/11/2015  10/18/2015  Standard Class   \n",
            "...      ...             ...         ...         ...             ...   \n",
            "9989    9990  CA-2014-110422   1/21/2014   1/23/2014    Second Class   \n",
            "9990    9991  CA-2017-121258   2/26/2017    3/3/2017  Standard Class   \n",
            "9991    9992  CA-2017-121258   2/26/2017    3/3/2017  Standard Class   \n",
            "9992    9993  CA-2017-121258   2/26/2017    3/3/2017  Standard Class   \n",
            "9993    9994  CA-2017-119914    5/4/2017    5/9/2017    Second Class   \n",
            "\n",
            "     Customer ID     Customer Name    Segment        Country             City  \\\n",
            "0       CG-12520       Claire Gute   Consumer  United States        Henderson   \n",
            "1       CG-12520       Claire Gute   Consumer  United States        Henderson   \n",
            "2       DV-13045   Darrin Van Huff  Corporate  United States      Los Angeles   \n",
            "3       SO-20335    Sean O'Donnell   Consumer  United States  Fort Lauderdale   \n",
            "4       SO-20335    Sean O'Donnell   Consumer  United States  Fort Lauderdale   \n",
            "...          ...               ...        ...            ...              ...   \n",
            "9989    TB-21400  Tom Boeckenhauer   Consumer  United States            Miami   \n",
            "9990    DB-13060       Dave Brooks   Consumer  United States       Costa Mesa   \n",
            "9991    DB-13060       Dave Brooks   Consumer  United States       Costa Mesa   \n",
            "9992    DB-13060       Dave Brooks   Consumer  United States       Costa Mesa   \n",
            "9993    CC-12220      Chris Cortes   Consumer  United States      Westminster   \n",
            "\n",
            "      ... Postal Code  Region       Product ID         Category Sub-Category  \\\n",
            "0     ...       42420   South  FUR-BO-10001798        Furniture    Bookcases   \n",
            "1     ...       42420   South  FUR-CH-10000454        Furniture       Chairs   \n",
            "2     ...       90036    West  OFF-LA-10000240  Office Supplies       Labels   \n",
            "3     ...       33311   South  FUR-TA-10000577        Furniture       Tables   \n",
            "4     ...       33311   South  OFF-ST-10000760  Office Supplies      Storage   \n",
            "...   ...         ...     ...              ...              ...          ...   \n",
            "9989  ...       33180   South  FUR-FU-10001889        Furniture  Furnishings   \n",
            "9990  ...       92627    West  FUR-FU-10000747        Furniture  Furnishings   \n",
            "9991  ...       92627    West  TEC-PH-10003645       Technology       Phones   \n",
            "9992  ...       92627    West  OFF-PA-10004041  Office Supplies        Paper   \n",
            "9993  ...       92683    West  OFF-AP-10002684  Office Supplies   Appliances   \n",
            "\n",
            "                                           Product Name     Sales  Quantity  \\\n",
            "0                     Bush Somerset Collection Bookcase  261.9600         2   \n",
            "1     Hon Deluxe Fabric Upholstered Stacking Chairs,...  731.9400         3   \n",
            "2     Self-Adhesive Address Labels for Typewriters b...   14.6200         2   \n",
            "3         Bretford CR4500 Series Slim Rectangular Table  957.5775         5   \n",
            "4                        Eldon Fold 'N Roll Cart System   22.3680         2   \n",
            "...                                                 ...       ...       ...   \n",
            "9989                             Ultra Door Pull Handle   25.2480         3   \n",
            "9990  Tenex B1-RE Series Chair Mats for Low Pile Car...   91.9600         2   \n",
            "9991                              Aastra 57i VoIP phone  258.5760         2   \n",
            "9992  It's Hot Message Books with Stickers, 2 3/4\" x 5\"   29.6000         4   \n",
            "9993  Acco 7-Outlet Masterpiece Power Center, Wihtou...  243.1600         2   \n",
            "\n",
            "      Discount    Profit  \n",
            "0         0.00   41.9136  \n",
            "1         0.00  219.5820  \n",
            "2         0.00    6.8714  \n",
            "3         0.45 -383.0310  \n",
            "4         0.20    2.5164  \n",
            "...        ...       ...  \n",
            "9989      0.20    4.1028  \n",
            "9990      0.00   15.6332  \n",
            "9991      0.20   19.3932  \n",
            "9992      0.00   13.3200  \n",
            "9993      0.00   72.9480  \n",
            "\n",
            "[9994 rows x 21 columns]\n"
          ]
        }
      ]
    },
    {
      "cell_type": "code",
      "source": [
        "data.reset_index()"
      ],
      "metadata": {
        "id": "_nVX8LK5nBhF",
        "colab": {
          "base_uri": "https://localhost:8080/",
          "height": 1000
        },
        "outputId": "6de760c8-7b93-4b49-e26a-98d65e46223e"
      },
      "execution_count": null,
      "outputs": [
        {
          "output_type": "execute_result",
          "data": {
            "text/plain": [
              "      index  Row ID        Order ID  Order Date   Ship Date       Ship Mode  \\\n",
              "0         0       1  CA-2016-152156   11/8/2016  11/11/2016    Second Class   \n",
              "1         1       2  CA-2016-152156   11/8/2016  11/11/2016    Second Class   \n",
              "2         2       3  CA-2016-138688   6/12/2016   6/16/2016    Second Class   \n",
              "3         3       4  US-2015-108966  10/11/2015  10/18/2015  Standard Class   \n",
              "4         4       5  US-2015-108966  10/11/2015  10/18/2015  Standard Class   \n",
              "...     ...     ...             ...         ...         ...             ...   \n",
              "9989   9989    9990  CA-2014-110422   1/21/2014   1/23/2014    Second Class   \n",
              "9990   9990    9991  CA-2017-121258   2/26/2017    3/3/2017  Standard Class   \n",
              "9991   9991    9992  CA-2017-121258   2/26/2017    3/3/2017  Standard Class   \n",
              "9992   9992    9993  CA-2017-121258   2/26/2017    3/3/2017  Standard Class   \n",
              "9993   9993    9994  CA-2017-119914    5/4/2017    5/9/2017    Second Class   \n",
              "\n",
              "     Customer ID     Customer Name    Segment        Country  ... Postal Code  \\\n",
              "0       CG-12520       Claire Gute   Consumer  United States  ...       42420   \n",
              "1       CG-12520       Claire Gute   Consumer  United States  ...       42420   \n",
              "2       DV-13045   Darrin Van Huff  Corporate  United States  ...       90036   \n",
              "3       SO-20335    Sean O'Donnell   Consumer  United States  ...       33311   \n",
              "4       SO-20335    Sean O'Donnell   Consumer  United States  ...       33311   \n",
              "...          ...               ...        ...            ...  ...         ...   \n",
              "9989    TB-21400  Tom Boeckenhauer   Consumer  United States  ...       33180   \n",
              "9990    DB-13060       Dave Brooks   Consumer  United States  ...       92627   \n",
              "9991    DB-13060       Dave Brooks   Consumer  United States  ...       92627   \n",
              "9992    DB-13060       Dave Brooks   Consumer  United States  ...       92627   \n",
              "9993    CC-12220      Chris Cortes   Consumer  United States  ...       92683   \n",
              "\n",
              "     Region       Product ID         Category Sub-Category  \\\n",
              "0     South  FUR-BO-10001798        Furniture    Bookcases   \n",
              "1     South  FUR-CH-10000454        Furniture       Chairs   \n",
              "2      West  OFF-LA-10000240  Office Supplies       Labels   \n",
              "3     South  FUR-TA-10000577        Furniture       Tables   \n",
              "4     South  OFF-ST-10000760  Office Supplies      Storage   \n",
              "...     ...              ...              ...          ...   \n",
              "9989  South  FUR-FU-10001889        Furniture  Furnishings   \n",
              "9990   West  FUR-FU-10000747        Furniture  Furnishings   \n",
              "9991   West  TEC-PH-10003645       Technology       Phones   \n",
              "9992   West  OFF-PA-10004041  Office Supplies        Paper   \n",
              "9993   West  OFF-AP-10002684  Office Supplies   Appliances   \n",
              "\n",
              "                                           Product Name     Sales Quantity  \\\n",
              "0                     Bush Somerset Collection Bookcase  261.9600        2   \n",
              "1     Hon Deluxe Fabric Upholstered Stacking Chairs,...  731.9400        3   \n",
              "2     Self-Adhesive Address Labels for Typewriters b...   14.6200        2   \n",
              "3         Bretford CR4500 Series Slim Rectangular Table  957.5775        5   \n",
              "4                        Eldon Fold 'N Roll Cart System   22.3680        2   \n",
              "...                                                 ...       ...      ...   \n",
              "9989                             Ultra Door Pull Handle   25.2480        3   \n",
              "9990  Tenex B1-RE Series Chair Mats for Low Pile Car...   91.9600        2   \n",
              "9991                              Aastra 57i VoIP phone  258.5760        2   \n",
              "9992  It's Hot Message Books with Stickers, 2 3/4\" x 5\"   29.6000        4   \n",
              "9993  Acco 7-Outlet Masterpiece Power Center, Wihtou...  243.1600        2   \n",
              "\n",
              "      Discount    Profit  \n",
              "0         0.00   41.9136  \n",
              "1         0.00  219.5820  \n",
              "2         0.00    6.8714  \n",
              "3         0.45 -383.0310  \n",
              "4         0.20    2.5164  \n",
              "...        ...       ...  \n",
              "9989      0.20    4.1028  \n",
              "9990      0.00   15.6332  \n",
              "9991      0.20   19.3932  \n",
              "9992      0.00   13.3200  \n",
              "9993      0.00   72.9480  \n",
              "\n",
              "[9994 rows x 22 columns]"
            ],
            "text/html": [
              "\n",
              "  <div id=\"df-b7e6c3f7-b04f-4656-a07b-a36db6b74f48\" class=\"colab-df-container\">\n",
              "    <div>\n",
              "<style scoped>\n",
              "    .dataframe tbody tr th:only-of-type {\n",
              "        vertical-align: middle;\n",
              "    }\n",
              "\n",
              "    .dataframe tbody tr th {\n",
              "        vertical-align: top;\n",
              "    }\n",
              "\n",
              "    .dataframe thead th {\n",
              "        text-align: right;\n",
              "    }\n",
              "</style>\n",
              "<table border=\"1\" class=\"dataframe\">\n",
              "  <thead>\n",
              "    <tr style=\"text-align: right;\">\n",
              "      <th></th>\n",
              "      <th>index</th>\n",
              "      <th>Row ID</th>\n",
              "      <th>Order ID</th>\n",
              "      <th>Order Date</th>\n",
              "      <th>Ship Date</th>\n",
              "      <th>Ship Mode</th>\n",
              "      <th>Customer ID</th>\n",
              "      <th>Customer Name</th>\n",
              "      <th>Segment</th>\n",
              "      <th>Country</th>\n",
              "      <th>...</th>\n",
              "      <th>Postal Code</th>\n",
              "      <th>Region</th>\n",
              "      <th>Product ID</th>\n",
              "      <th>Category</th>\n",
              "      <th>Sub-Category</th>\n",
              "      <th>Product Name</th>\n",
              "      <th>Sales</th>\n",
              "      <th>Quantity</th>\n",
              "      <th>Discount</th>\n",
              "      <th>Profit</th>\n",
              "    </tr>\n",
              "  </thead>\n",
              "  <tbody>\n",
              "    <tr>\n",
              "      <th>0</th>\n",
              "      <td>0</td>\n",
              "      <td>1</td>\n",
              "      <td>CA-2016-152156</td>\n",
              "      <td>11/8/2016</td>\n",
              "      <td>11/11/2016</td>\n",
              "      <td>Second Class</td>\n",
              "      <td>CG-12520</td>\n",
              "      <td>Claire Gute</td>\n",
              "      <td>Consumer</td>\n",
              "      <td>United States</td>\n",
              "      <td>...</td>\n",
              "      <td>42420</td>\n",
              "      <td>South</td>\n",
              "      <td>FUR-BO-10001798</td>\n",
              "      <td>Furniture</td>\n",
              "      <td>Bookcases</td>\n",
              "      <td>Bush Somerset Collection Bookcase</td>\n",
              "      <td>261.9600</td>\n",
              "      <td>2</td>\n",
              "      <td>0.00</td>\n",
              "      <td>41.9136</td>\n",
              "    </tr>\n",
              "    <tr>\n",
              "      <th>1</th>\n",
              "      <td>1</td>\n",
              "      <td>2</td>\n",
              "      <td>CA-2016-152156</td>\n",
              "      <td>11/8/2016</td>\n",
              "      <td>11/11/2016</td>\n",
              "      <td>Second Class</td>\n",
              "      <td>CG-12520</td>\n",
              "      <td>Claire Gute</td>\n",
              "      <td>Consumer</td>\n",
              "      <td>United States</td>\n",
              "      <td>...</td>\n",
              "      <td>42420</td>\n",
              "      <td>South</td>\n",
              "      <td>FUR-CH-10000454</td>\n",
              "      <td>Furniture</td>\n",
              "      <td>Chairs</td>\n",
              "      <td>Hon Deluxe Fabric Upholstered Stacking Chairs,...</td>\n",
              "      <td>731.9400</td>\n",
              "      <td>3</td>\n",
              "      <td>0.00</td>\n",
              "      <td>219.5820</td>\n",
              "    </tr>\n",
              "    <tr>\n",
              "      <th>2</th>\n",
              "      <td>2</td>\n",
              "      <td>3</td>\n",
              "      <td>CA-2016-138688</td>\n",
              "      <td>6/12/2016</td>\n",
              "      <td>6/16/2016</td>\n",
              "      <td>Second Class</td>\n",
              "      <td>DV-13045</td>\n",
              "      <td>Darrin Van Huff</td>\n",
              "      <td>Corporate</td>\n",
              "      <td>United States</td>\n",
              "      <td>...</td>\n",
              "      <td>90036</td>\n",
              "      <td>West</td>\n",
              "      <td>OFF-LA-10000240</td>\n",
              "      <td>Office Supplies</td>\n",
              "      <td>Labels</td>\n",
              "      <td>Self-Adhesive Address Labels for Typewriters b...</td>\n",
              "      <td>14.6200</td>\n",
              "      <td>2</td>\n",
              "      <td>0.00</td>\n",
              "      <td>6.8714</td>\n",
              "    </tr>\n",
              "    <tr>\n",
              "      <th>3</th>\n",
              "      <td>3</td>\n",
              "      <td>4</td>\n",
              "      <td>US-2015-108966</td>\n",
              "      <td>10/11/2015</td>\n",
              "      <td>10/18/2015</td>\n",
              "      <td>Standard Class</td>\n",
              "      <td>SO-20335</td>\n",
              "      <td>Sean O'Donnell</td>\n",
              "      <td>Consumer</td>\n",
              "      <td>United States</td>\n",
              "      <td>...</td>\n",
              "      <td>33311</td>\n",
              "      <td>South</td>\n",
              "      <td>FUR-TA-10000577</td>\n",
              "      <td>Furniture</td>\n",
              "      <td>Tables</td>\n",
              "      <td>Bretford CR4500 Series Slim Rectangular Table</td>\n",
              "      <td>957.5775</td>\n",
              "      <td>5</td>\n",
              "      <td>0.45</td>\n",
              "      <td>-383.0310</td>\n",
              "    </tr>\n",
              "    <tr>\n",
              "      <th>4</th>\n",
              "      <td>4</td>\n",
              "      <td>5</td>\n",
              "      <td>US-2015-108966</td>\n",
              "      <td>10/11/2015</td>\n",
              "      <td>10/18/2015</td>\n",
              "      <td>Standard Class</td>\n",
              "      <td>SO-20335</td>\n",
              "      <td>Sean O'Donnell</td>\n",
              "      <td>Consumer</td>\n",
              "      <td>United States</td>\n",
              "      <td>...</td>\n",
              "      <td>33311</td>\n",
              "      <td>South</td>\n",
              "      <td>OFF-ST-10000760</td>\n",
              "      <td>Office Supplies</td>\n",
              "      <td>Storage</td>\n",
              "      <td>Eldon Fold 'N Roll Cart System</td>\n",
              "      <td>22.3680</td>\n",
              "      <td>2</td>\n",
              "      <td>0.20</td>\n",
              "      <td>2.5164</td>\n",
              "    </tr>\n",
              "    <tr>\n",
              "      <th>...</th>\n",
              "      <td>...</td>\n",
              "      <td>...</td>\n",
              "      <td>...</td>\n",
              "      <td>...</td>\n",
              "      <td>...</td>\n",
              "      <td>...</td>\n",
              "      <td>...</td>\n",
              "      <td>...</td>\n",
              "      <td>...</td>\n",
              "      <td>...</td>\n",
              "      <td>...</td>\n",
              "      <td>...</td>\n",
              "      <td>...</td>\n",
              "      <td>...</td>\n",
              "      <td>...</td>\n",
              "      <td>...</td>\n",
              "      <td>...</td>\n",
              "      <td>...</td>\n",
              "      <td>...</td>\n",
              "      <td>...</td>\n",
              "      <td>...</td>\n",
              "    </tr>\n",
              "    <tr>\n",
              "      <th>9989</th>\n",
              "      <td>9989</td>\n",
              "      <td>9990</td>\n",
              "      <td>CA-2014-110422</td>\n",
              "      <td>1/21/2014</td>\n",
              "      <td>1/23/2014</td>\n",
              "      <td>Second Class</td>\n",
              "      <td>TB-21400</td>\n",
              "      <td>Tom Boeckenhauer</td>\n",
              "      <td>Consumer</td>\n",
              "      <td>United States</td>\n",
              "      <td>...</td>\n",
              "      <td>33180</td>\n",
              "      <td>South</td>\n",
              "      <td>FUR-FU-10001889</td>\n",
              "      <td>Furniture</td>\n",
              "      <td>Furnishings</td>\n",
              "      <td>Ultra Door Pull Handle</td>\n",
              "      <td>25.2480</td>\n",
              "      <td>3</td>\n",
              "      <td>0.20</td>\n",
              "      <td>4.1028</td>\n",
              "    </tr>\n",
              "    <tr>\n",
              "      <th>9990</th>\n",
              "      <td>9990</td>\n",
              "      <td>9991</td>\n",
              "      <td>CA-2017-121258</td>\n",
              "      <td>2/26/2017</td>\n",
              "      <td>3/3/2017</td>\n",
              "      <td>Standard Class</td>\n",
              "      <td>DB-13060</td>\n",
              "      <td>Dave Brooks</td>\n",
              "      <td>Consumer</td>\n",
              "      <td>United States</td>\n",
              "      <td>...</td>\n",
              "      <td>92627</td>\n",
              "      <td>West</td>\n",
              "      <td>FUR-FU-10000747</td>\n",
              "      <td>Furniture</td>\n",
              "      <td>Furnishings</td>\n",
              "      <td>Tenex B1-RE Series Chair Mats for Low Pile Car...</td>\n",
              "      <td>91.9600</td>\n",
              "      <td>2</td>\n",
              "      <td>0.00</td>\n",
              "      <td>15.6332</td>\n",
              "    </tr>\n",
              "    <tr>\n",
              "      <th>9991</th>\n",
              "      <td>9991</td>\n",
              "      <td>9992</td>\n",
              "      <td>CA-2017-121258</td>\n",
              "      <td>2/26/2017</td>\n",
              "      <td>3/3/2017</td>\n",
              "      <td>Standard Class</td>\n",
              "      <td>DB-13060</td>\n",
              "      <td>Dave Brooks</td>\n",
              "      <td>Consumer</td>\n",
              "      <td>United States</td>\n",
              "      <td>...</td>\n",
              "      <td>92627</td>\n",
              "      <td>West</td>\n",
              "      <td>TEC-PH-10003645</td>\n",
              "      <td>Technology</td>\n",
              "      <td>Phones</td>\n",
              "      <td>Aastra 57i VoIP phone</td>\n",
              "      <td>258.5760</td>\n",
              "      <td>2</td>\n",
              "      <td>0.20</td>\n",
              "      <td>19.3932</td>\n",
              "    </tr>\n",
              "    <tr>\n",
              "      <th>9992</th>\n",
              "      <td>9992</td>\n",
              "      <td>9993</td>\n",
              "      <td>CA-2017-121258</td>\n",
              "      <td>2/26/2017</td>\n",
              "      <td>3/3/2017</td>\n",
              "      <td>Standard Class</td>\n",
              "      <td>DB-13060</td>\n",
              "      <td>Dave Brooks</td>\n",
              "      <td>Consumer</td>\n",
              "      <td>United States</td>\n",
              "      <td>...</td>\n",
              "      <td>92627</td>\n",
              "      <td>West</td>\n",
              "      <td>OFF-PA-10004041</td>\n",
              "      <td>Office Supplies</td>\n",
              "      <td>Paper</td>\n",
              "      <td>It's Hot Message Books with Stickers, 2 3/4\" x 5\"</td>\n",
              "      <td>29.6000</td>\n",
              "      <td>4</td>\n",
              "      <td>0.00</td>\n",
              "      <td>13.3200</td>\n",
              "    </tr>\n",
              "    <tr>\n",
              "      <th>9993</th>\n",
              "      <td>9993</td>\n",
              "      <td>9994</td>\n",
              "      <td>CA-2017-119914</td>\n",
              "      <td>5/4/2017</td>\n",
              "      <td>5/9/2017</td>\n",
              "      <td>Second Class</td>\n",
              "      <td>CC-12220</td>\n",
              "      <td>Chris Cortes</td>\n",
              "      <td>Consumer</td>\n",
              "      <td>United States</td>\n",
              "      <td>...</td>\n",
              "      <td>92683</td>\n",
              "      <td>West</td>\n",
              "      <td>OFF-AP-10002684</td>\n",
              "      <td>Office Supplies</td>\n",
              "      <td>Appliances</td>\n",
              "      <td>Acco 7-Outlet Masterpiece Power Center, Wihtou...</td>\n",
              "      <td>243.1600</td>\n",
              "      <td>2</td>\n",
              "      <td>0.00</td>\n",
              "      <td>72.9480</td>\n",
              "    </tr>\n",
              "  </tbody>\n",
              "</table>\n",
              "<p>9994 rows × 22 columns</p>\n",
              "</div>\n",
              "    <div class=\"colab-df-buttons\">\n",
              "\n",
              "  <div class=\"colab-df-container\">\n",
              "    <button class=\"colab-df-convert\" onclick=\"convertToInteractive('df-b7e6c3f7-b04f-4656-a07b-a36db6b74f48')\"\n",
              "            title=\"Convert this dataframe to an interactive table.\"\n",
              "            style=\"display:none;\">\n",
              "\n",
              "  <svg xmlns=\"http://www.w3.org/2000/svg\" height=\"24px\" viewBox=\"0 -960 960 960\">\n",
              "    <path d=\"M120-120v-720h720v720H120Zm60-500h600v-160H180v160Zm220 220h160v-160H400v160Zm0 220h160v-160H400v160ZM180-400h160v-160H180v160Zm440 0h160v-160H620v160ZM180-180h160v-160H180v160Zm440 0h160v-160H620v160Z\"/>\n",
              "  </svg>\n",
              "    </button>\n",
              "\n",
              "  <style>\n",
              "    .colab-df-container {\n",
              "      display:flex;\n",
              "      gap: 12px;\n",
              "    }\n",
              "\n",
              "    .colab-df-convert {\n",
              "      background-color: #E8F0FE;\n",
              "      border: none;\n",
              "      border-radius: 50%;\n",
              "      cursor: pointer;\n",
              "      display: none;\n",
              "      fill: #1967D2;\n",
              "      height: 32px;\n",
              "      padding: 0 0 0 0;\n",
              "      width: 32px;\n",
              "    }\n",
              "\n",
              "    .colab-df-convert:hover {\n",
              "      background-color: #E2EBFA;\n",
              "      box-shadow: 0px 1px 2px rgba(60, 64, 67, 0.3), 0px 1px 3px 1px rgba(60, 64, 67, 0.15);\n",
              "      fill: #174EA6;\n",
              "    }\n",
              "\n",
              "    .colab-df-buttons div {\n",
              "      margin-bottom: 4px;\n",
              "    }\n",
              "\n",
              "    [theme=dark] .colab-df-convert {\n",
              "      background-color: #3B4455;\n",
              "      fill: #D2E3FC;\n",
              "    }\n",
              "\n",
              "    [theme=dark] .colab-df-convert:hover {\n",
              "      background-color: #434B5C;\n",
              "      box-shadow: 0px 1px 3px 1px rgba(0, 0, 0, 0.15);\n",
              "      filter: drop-shadow(0px 1px 2px rgba(0, 0, 0, 0.3));\n",
              "      fill: #FFFFFF;\n",
              "    }\n",
              "  </style>\n",
              "\n",
              "    <script>\n",
              "      const buttonEl =\n",
              "        document.querySelector('#df-b7e6c3f7-b04f-4656-a07b-a36db6b74f48 button.colab-df-convert');\n",
              "      buttonEl.style.display =\n",
              "        google.colab.kernel.accessAllowed ? 'block' : 'none';\n",
              "\n",
              "      async function convertToInteractive(key) {\n",
              "        const element = document.querySelector('#df-b7e6c3f7-b04f-4656-a07b-a36db6b74f48');\n",
              "        const dataTable =\n",
              "          await google.colab.kernel.invokeFunction('convertToInteractive',\n",
              "                                                    [key], {});\n",
              "        if (!dataTable) return;\n",
              "\n",
              "        const docLinkHtml = 'Like what you see? Visit the ' +\n",
              "          '<a target=\"_blank\" href=https://colab.research.google.com/notebooks/data_table.ipynb>data table notebook</a>'\n",
              "          + ' to learn more about interactive tables.';\n",
              "        element.innerHTML = '';\n",
              "        dataTable['output_type'] = 'display_data';\n",
              "        await google.colab.output.renderOutput(dataTable, element);\n",
              "        const docLink = document.createElement('div');\n",
              "        docLink.innerHTML = docLinkHtml;\n",
              "        element.appendChild(docLink);\n",
              "      }\n",
              "    </script>\n",
              "  </div>\n",
              "\n",
              "\n",
              "<div id=\"df-1f394e7a-25ae-4d8e-bcce-95cb48f855ac\">\n",
              "  <button class=\"colab-df-quickchart\" onclick=\"quickchart('df-1f394e7a-25ae-4d8e-bcce-95cb48f855ac')\"\n",
              "            title=\"Suggest charts\"\n",
              "            style=\"display:none;\">\n",
              "\n",
              "<svg xmlns=\"http://www.w3.org/2000/svg\" height=\"24px\"viewBox=\"0 0 24 24\"\n",
              "     width=\"24px\">\n",
              "    <g>\n",
              "        <path d=\"M19 3H5c-1.1 0-2 .9-2 2v14c0 1.1.9 2 2 2h14c1.1 0 2-.9 2-2V5c0-1.1-.9-2-2-2zM9 17H7v-7h2v7zm4 0h-2V7h2v10zm4 0h-2v-4h2v4z\"/>\n",
              "    </g>\n",
              "</svg>\n",
              "  </button>\n",
              "\n",
              "<style>\n",
              "  .colab-df-quickchart {\n",
              "      --bg-color: #E8F0FE;\n",
              "      --fill-color: #1967D2;\n",
              "      --hover-bg-color: #E2EBFA;\n",
              "      --hover-fill-color: #174EA6;\n",
              "      --disabled-fill-color: #AAA;\n",
              "      --disabled-bg-color: #DDD;\n",
              "  }\n",
              "\n",
              "  [theme=dark] .colab-df-quickchart {\n",
              "      --bg-color: #3B4455;\n",
              "      --fill-color: #D2E3FC;\n",
              "      --hover-bg-color: #434B5C;\n",
              "      --hover-fill-color: #FFFFFF;\n",
              "      --disabled-bg-color: #3B4455;\n",
              "      --disabled-fill-color: #666;\n",
              "  }\n",
              "\n",
              "  .colab-df-quickchart {\n",
              "    background-color: var(--bg-color);\n",
              "    border: none;\n",
              "    border-radius: 50%;\n",
              "    cursor: pointer;\n",
              "    display: none;\n",
              "    fill: var(--fill-color);\n",
              "    height: 32px;\n",
              "    padding: 0;\n",
              "    width: 32px;\n",
              "  }\n",
              "\n",
              "  .colab-df-quickchart:hover {\n",
              "    background-color: var(--hover-bg-color);\n",
              "    box-shadow: 0 1px 2px rgba(60, 64, 67, 0.3), 0 1px 3px 1px rgba(60, 64, 67, 0.15);\n",
              "    fill: var(--button-hover-fill-color);\n",
              "  }\n",
              "\n",
              "  .colab-df-quickchart-complete:disabled,\n",
              "  .colab-df-quickchart-complete:disabled:hover {\n",
              "    background-color: var(--disabled-bg-color);\n",
              "    fill: var(--disabled-fill-color);\n",
              "    box-shadow: none;\n",
              "  }\n",
              "\n",
              "  .colab-df-spinner {\n",
              "    border: 2px solid var(--fill-color);\n",
              "    border-color: transparent;\n",
              "    border-bottom-color: var(--fill-color);\n",
              "    animation:\n",
              "      spin 1s steps(1) infinite;\n",
              "  }\n",
              "\n",
              "  @keyframes spin {\n",
              "    0% {\n",
              "      border-color: transparent;\n",
              "      border-bottom-color: var(--fill-color);\n",
              "      border-left-color: var(--fill-color);\n",
              "    }\n",
              "    20% {\n",
              "      border-color: transparent;\n",
              "      border-left-color: var(--fill-color);\n",
              "      border-top-color: var(--fill-color);\n",
              "    }\n",
              "    30% {\n",
              "      border-color: transparent;\n",
              "      border-left-color: var(--fill-color);\n",
              "      border-top-color: var(--fill-color);\n",
              "      border-right-color: var(--fill-color);\n",
              "    }\n",
              "    40% {\n",
              "      border-color: transparent;\n",
              "      border-right-color: var(--fill-color);\n",
              "      border-top-color: var(--fill-color);\n",
              "    }\n",
              "    60% {\n",
              "      border-color: transparent;\n",
              "      border-right-color: var(--fill-color);\n",
              "    }\n",
              "    80% {\n",
              "      border-color: transparent;\n",
              "      border-right-color: var(--fill-color);\n",
              "      border-bottom-color: var(--fill-color);\n",
              "    }\n",
              "    90% {\n",
              "      border-color: transparent;\n",
              "      border-bottom-color: var(--fill-color);\n",
              "    }\n",
              "  }\n",
              "</style>\n",
              "\n",
              "  <script>\n",
              "    async function quickchart(key) {\n",
              "      const quickchartButtonEl =\n",
              "        document.querySelector('#' + key + ' button');\n",
              "      quickchartButtonEl.disabled = true;  // To prevent multiple clicks.\n",
              "      quickchartButtonEl.classList.add('colab-df-spinner');\n",
              "      try {\n",
              "        const charts = await google.colab.kernel.invokeFunction(\n",
              "            'suggestCharts', [key], {});\n",
              "      } catch (error) {\n",
              "        console.error('Error during call to suggestCharts:', error);\n",
              "      }\n",
              "      quickchartButtonEl.classList.remove('colab-df-spinner');\n",
              "      quickchartButtonEl.classList.add('colab-df-quickchart-complete');\n",
              "    }\n",
              "    (() => {\n",
              "      let quickchartButtonEl =\n",
              "        document.querySelector('#df-1f394e7a-25ae-4d8e-bcce-95cb48f855ac button');\n",
              "      quickchartButtonEl.style.display =\n",
              "        google.colab.kernel.accessAllowed ? 'block' : 'none';\n",
              "    })();\n",
              "  </script>\n",
              "</div>\n",
              "\n",
              "    </div>\n",
              "  </div>\n"
            ],
            "application/vnd.google.colaboratory.intrinsic+json": {
              "type": "dataframe"
            }
          },
          "metadata": {},
          "execution_count": 38
        }
      ]
    },
    {
      "cell_type": "markdown",
      "source": [
        "# List Example"
      ],
      "metadata": {
        "id": "MM6JRjH2_9BF"
      }
    },
    {
      "cell_type": "markdown",
      "source": [
        "Smallest element"
      ],
      "metadata": {
        "id": "jXj4FWnzHiPV"
      }
    },
    {
      "cell_type": "code",
      "source": [
        "#input have been taken for you here\n",
        "import ast\n",
        "input_str = input()\n",
        "input_list = ast.literal_eval(input_str)\n",
        "if len(input_list) == 0:\n",
        "    print('List is empty')\n",
        "else:\n",
        "    min = input_list[0]\n",
        "    for i in input_list:\n",
        "        if i < min:\n",
        "            min = i\n",
        "    print(min)"
      ],
      "metadata": {
        "id": "WofP7biUs6da",
        "colab": {
          "base_uri": "https://localhost:8080/"
        },
        "outputId": "de70dd7b-a4aa-4d52-cbe1-d7bb43d6f4e3"
      },
      "execution_count": null,
      "outputs": [
        {
          "output_type": "stream",
          "name": "stdout",
          "text": [
            "-1,2,3,3,4,4,-9\n",
            "-9\n"
          ]
        }
      ]
    },
    {
      "cell_type": "code",
      "source": [
        "# by using inbuilt function min() we can find it out"
      ],
      "metadata": {
        "id": "X3WIDIm-H5Ph"
      },
      "execution_count": null,
      "outputs": []
    },
    {
      "cell_type": "markdown",
      "source": [
        "Above Average"
      ],
      "metadata": {
        "id": "MZ_ICLXzImQG"
      }
    },
    {
      "cell_type": "code",
      "source": [
        "\n",
        "import ast\n",
        "input_str = input()\n",
        "input_list = ast.literal_eval(input_str)\n",
        "\n",
        "#Remember how we took input in the Alarm clock Question in previous Session?\n",
        "#Lets see if you can finish taking input on your own\n",
        "\n",
        "data=input_list[0]\n",
        "check=input_list[1]\n",
        "\n",
        "#start writing your code to find if check is above average of data\n",
        "s = 0\n",
        "for item in data:\n",
        "  s = s + item\n",
        "avg = s/len(data)\n",
        "\n",
        "if check > avg:\n",
        "  print(check,'its above avg')\n",
        "else:\n",
        "  print(check,'is below avg')\n"
      ],
      "metadata": {
        "colab": {
          "base_uri": "https://localhost:8080/"
        },
        "id": "_lvTXgRGIaWS",
        "outputId": "49381625-5b6c-4734-f63b-71679edb663b"
      },
      "execution_count": null,
      "outputs": [
        {
          "output_type": "stream",
          "name": "stdout",
          "text": [
            "[1,2,3,4,5],6\n",
            "6 its above avg\n"
          ]
        }
      ]
    },
    {
      "cell_type": "markdown",
      "source": [
        "Recruit New Members\n",
        "\n",
        "Description\n",
        "Suppose you are a manager at a big firm and are looking for new members for your team. You sent out an advertisement and have received a few applications. You have a habit of scoring people on a scale of 100. You have given scores to all the members of your team and the new applications. The selection process will be very straightforward if the applicant improves the average of the team, then you hire the applicant to join the team or else you reject the application.\n",
        "\n",
        "\n",
        "\n",
        "Your objective is to write a program that gives out a list that consists of scores of the hired applicants.\n",
        "\n",
        "\n",
        "\n",
        "Remember, the order of processing applications is going to be important here.\n",
        "\n",
        "\n",
        "\n",
        "You may see this as an extension of the previous problem, which it is. You may use the code written in the previous question as a function to improve the code quality."
      ],
      "metadata": {
        "id": "PjkvES9NKcwY"
      }
    },
    {
      "cell_type": "code",
      "source": [
        "import ast\n",
        "team = ast.literal_eval(input())\n",
        "applicant = ast.literal_eval(input())\n",
        "\n",
        "def check_above_average(data, check):\n",
        "   s = 0\n",
        "   for item in data:\n",
        "      s = s + item\n",
        "   avg = s/len(data)\n",
        "   if check > avg:\n",
        "     return 1\n",
        "   else:\n",
        "     return 0\n",
        "\n",
        "for appl in applicant:\n",
        "  is_add = check_above_average(team,appl)\n",
        "  if is_add==1:\n",
        "    team.append(appl)\n",
        "\n",
        "print(team)"
      ],
      "metadata": {
        "id": "VwvAsOsVKcph",
        "colab": {
          "base_uri": "https://localhost:8080/"
        },
        "outputId": "efb6256f-bc10-4746-bf85-8840c3097642"
      },
      "execution_count": null,
      "outputs": [
        {
          "output_type": "stream",
          "name": "stdout",
          "text": [
            "[10,20,30,40,50]\n",
            "[30,60,80,40]\n",
            "[10, 20, 30, 40, 50, 60, 80]\n"
          ]
        }
      ]
    },
    {
      "cell_type": "markdown",
      "source": [
        "Calendar"
      ],
      "metadata": {
        "id": "ENDHATtjeMBT"
      }
    },
    {
      "cell_type": "markdown",
      "source": [
        "Description\n",
        "You are planning to go to your friend's wedding, and you have long events all month, lasting at least a few days. You have the start and end dates of events, and your task is to find out events overlapping with the wedding date.\n",
        "\n",
        "\n",
        "\n",
        "The code for taking input has already been written for you, please don't modify that, but do read and try to understand the way input has been taken. You will be asked to take input on your own for most of the problems here onwards. Taking data in a suitable format is an important skill for a Data Scientist."
      ],
      "metadata": {
        "id": "W6DvMIq1M2fK"
      }
    },
    {
      "cell_type": "code",
      "source": [
        "import ast\n",
        "input_str1 = input()\n",
        "input_list1 = ast.literal_eval(input_str1)\n",
        "events = input_list1\n",
        "\n",
        "wedding = int(input())\n",
        "\n",
        "clash = 0\n",
        "for event in events:\n",
        "  if wedding >= event[0] and wedding <= event[1]:\n",
        "    clash = clash + 1\n",
        "\n",
        "print(clash)"
      ],
      "metadata": {
        "id": "2Ui_KG-kKQrZ",
        "colab": {
          "base_uri": "https://localhost:8080/"
        },
        "outputId": "12f261db-a6d9-4d8e-fe01-efea5b16e2b4"
      },
      "execution_count": null,
      "outputs": [
        {
          "output_type": "stream",
          "name": "stdout",
          "text": [
            "[ [1, 4], [7, 10], [8, 8], [14, 23] ]\n",
            "26\n",
            "0\n"
          ]
        }
      ]
    },
    {
      "cell_type": "markdown",
      "source": [
        "Fenced Matrix\n"
      ],
      "metadata": {
        "id": "zzKp2ZkxOwJI"
      }
    },
    {
      "cell_type": "markdown",
      "source": [
        "input : 4,5\n",
        "\n",
        "Output\n",
        "\n",
        "     [1, 1, 1, 1, 1]\n",
        "     [1, 0, 0, 0, 1]\n",
        "     [1, 0, 0, 0, 1]\n",
        "     [1, 1, 1, 1, 1]"
      ],
      "metadata": {
        "id": "BEaPdn4CP2LO"
      }
    },
    {
      "cell_type": "markdown",
      "source": [
        "input:3,2\n",
        "\n",
        "Output:\n",
        "\n",
        "    [1, 1]\n",
        "    [1, 1]\n",
        "    [1, 1]"
      ],
      "metadata": {
        "id": "z53XRwPDQKoB"
      }
    },
    {
      "cell_type": "markdown",
      "source": [
        "You will be given two positive integers, m and n. You have to make a list of lists (which can be visualised as a matrix) of size m*n, that is, m sublists (rows), with each sublist having n integers (columns). The matrix should be such that it should have 1 on the border and 0 everywhere else. See sample input and output for more clarification."
      ],
      "metadata": {
        "id": "BaI3r5TaQZlQ"
      }
    },
    {
      "cell_type": "code",
      "source": [
        "import ast\n",
        "\n",
        "my_list = ast.literal_eval(input())\n",
        "m = my_list[0]\n",
        "n = my_list[1]\n",
        "\n",
        "final =[0]*n\n",
        "final = [list(final) for i in range(m)]\n",
        "\n",
        "\n",
        "for i in range(m):\n",
        "  for j in range(n):\n",
        "    if i==0 or i==m-1 or j==0 or j==n-1:\n",
        "      final[i][j] = 1\n",
        "\n",
        "for i in final:\n",
        "  print(i)"
      ],
      "metadata": {
        "colab": {
          "base_uri": "https://localhost:8080/"
        },
        "id": "zyLE0rFINB3k",
        "outputId": "1eccb301-ef1b-4dc1-f3b2-1572746cde53"
      },
      "execution_count": null,
      "outputs": [
        {
          "output_type": "stream",
          "name": "stdout",
          "text": [
            "4,5\n",
            "[1, 1, 1, 1, 1]\n",
            "[1, 0, 0, 0, 1]\n",
            "[1, 0, 0, 0, 1]\n",
            "[1, 1, 1, 1, 1]\n"
          ]
        }
      ]
    },
    {
      "cell_type": "markdown",
      "source": [
        "Practice Questions - I"
      ],
      "metadata": {
        "id": "bTvLWC4xS9Sg"
      }
    },
    {
      "cell_type": "markdown",
      "source": [
        "Lego Stack\n",
        "Description\n",
        "You are given a row of Lego Blocks consisting of n blocks. All the blocks given have a square base whose side length is known. You need to stack the blocks over each other and create a vertical tower. Block-1 can go over Block-2 only if sideLength(Block-2)>=sideLength(Block-1).\n",
        "\n",
        "\n",
        "\n",
        "From the row of Lego blocks, you can only pick up either the leftmost or rightmost block.\n",
        "\n",
        "Print \"Possible\" if it is possible to stack all n cubes this way or else print \"Impossible\".\n",
        "\n",
        "\n",
        "\n",
        "Input Format:\n",
        "\n",
        "The input will contain a list of n integers representing the side length of each block's base in the row starting from the leftmost.\n",
        "\n",
        "\n",
        "\n",
        "Sample Input:\n",
        "\n",
        "[5 ,4, 2, 1, 4 ,5]\n",
        "\n",
        "Sample Output:\n",
        "\n",
        "Possible"
      ],
      "metadata": {
        "id": "ZgQNVVZkkklx"
      }
    },
    {
      "cell_type": "markdown",
      "source": [
        "Question No: 02\n",
        "\n",
        "Lego Stack\n",
        "Description\n",
        "You are given a row of Lego Blocks consisting of n blocks. All the blocks given have a square base whose side length is known. You need to stack the blocks over each other and create a vertical tower. Block-1 can go over Block-2 only if sideLength(Block-2)>=sideLength(Block-1).\n",
        "\n",
        "\n",
        "\n",
        "From the row of Lego blocks, you can only pick up either the leftmost or rightmost block.\n",
        "\n",
        "Print \"Possible\" if it is possible to stack all n cubes this way or else print \"Impossible\".\n",
        "\n",
        "\n",
        "\n",
        "Input Format:\n",
        "\n",
        "The input will contain a list of n integers representing the side length of each block's base in the row starting from the leftmost.\n",
        "\n",
        "\n",
        "\n",
        "Sample Input:\n",
        "\n",
        "[5 ,4, 2, 1, 4 ,5]\n",
        "\n",
        "Sample Output:\n",
        "\n",
        "Possible"
      ],
      "metadata": {
        "id": "Qo_TOitWkz9A"
      }
    },
    {
      "cell_type": "markdown",
      "source": [
        "Question no 3\n",
        "\n",
        "Break the List\n",
        "Description\n",
        "Write a Python program to divide a given list into chunks of size k.\n",
        "\n",
        "\n",
        "\n",
        "The number of elements in the list need not be divisible by k.\n",
        "\n",
        "\n",
        "\n",
        "For example, if you want to divide the list [1,2,3,4,5,6,7] into chunk size k=4, then the first chunk will be [1,2,3,4], and the second one will have [5,6,7], i.e. the last chunk need not have k elements.\n",
        "\n",
        "\n",
        "\n",
        "The input will have two lines, the first line would have the list, and the second line would have the value of k(the code for taking input has already been written, you should not change that).\n",
        "\n",
        "\n",
        "\n",
        "The final output should have the list chunks in different lines.\n",
        "\n",
        "\n",
        "\n",
        "Sample Input:\n",
        "\n",
        "[1,2,3,4,5,6,7,8,9]\n",
        "\n",
        "3\n",
        "\n",
        "Sample Output:\n",
        "\n",
        "\n",
        "\n",
        "[1, 2, 3]\n",
        "[4, 5, 6]\n",
        "[7, 8, 9]\n",
        "\n",
        "\n",
        "A similar question was asked in a Data Analyst test."
      ],
      "metadata": {
        "id": "bm0ZkO9wk9zb"
      }
    },
    {
      "cell_type": "markdown",
      "source": [
        "Question no 4\n",
        "\n",
        "Second Maximum Number in a List\n",
        "Description\n",
        "Given a list of numbers, find the second largest number in the list.\n",
        "\n",
        "\n",
        "\n",
        "Note: There might be repeated numbers in the list. If only one number is present in the list, return 'not present'.\n",
        "\n",
        "\n",
        "\n",
        "Examples:\n",
        "\n",
        "Input 1:\n",
        "\n",
        "[7, 2, 0, 9, -1, 8]\n",
        "\n",
        "Output 1:\n",
        "\n",
        "8\n",
        "\n",
        "\n",
        "\n",
        "Input 2:\n",
        "\n",
        "[3, 1, 4, 4, 5, 5, 5, 0, 2, 2]\n",
        "\n",
        "Output 2:\n",
        "\n",
        "4\n",
        "\n",
        "\n",
        "\n",
        "Input 2:\n",
        "\n",
        "[6, 6, 6, 6, 6]\n",
        "\n",
        "Output 2:\n",
        "\n",
        "not present"
      ],
      "metadata": {
        "id": "shfdZWM6lFWW"
      }
    },
    {
      "cell_type": "markdown",
      "source": [
        "Question no 5\n",
        "\n",
        "Pattern Printing\n",
        "Description\n",
        "Given a positive integer n. Print the pattern as shown in sample outputs.\n",
        "\n",
        "A code has already been provided. You have to understand the logic of the code on your own and try and make changes to the code so that it gives the correct output.\n",
        "\n",
        "\n",
        "\n",
        "Input: A positive integer n\n",
        "\n",
        "1<= n <=9\n",
        "\n",
        "\n",
        "\n",
        "Output: Pattern as shown in examples below\n",
        "\n",
        "\n",
        "\n",
        "\n",
        "\n",
        "Sample input:\n",
        "\n",
        "4\n",
        "\n",
        "\n",
        "\n",
        "Sample output:\n",
        "\n",
        "4444444\n",
        "\n",
        "4333334\n",
        "\n",
        "4322234\n",
        "\n",
        "4321234\n",
        "\n",
        "4322234\n",
        "\n",
        "4333334\n",
        "\n",
        "4444444\n",
        "\n",
        "\n",
        "\n",
        "Sample input:\n",
        "\n",
        "5\n",
        "\n",
        "\n",
        "\n",
        "Sample output:\n",
        "\n",
        "555555555\n",
        "\n",
        "544444445\n",
        "\n",
        "543333345\n",
        "\n",
        "543222345\n",
        "\n",
        "543212345\n",
        "\n",
        "543222345\n",
        "\n",
        "543333345\n",
        "\n",
        "544444445\n",
        "\n",
        "555555555"
      ],
      "metadata": {
        "id": "x7WKi5QSlP3Z"
      }
    },
    {
      "cell_type": "code",
      "source": [
        "print(chr(51))"
      ],
      "metadata": {
        "colab": {
          "base_uri": "https://localhost:8080/"
        },
        "id": "RwsYNFV7RZN6",
        "outputId": "ad8cc348-390c-44c9-8233-691dc6c0de23"
      },
      "execution_count": null,
      "outputs": [
        {
          "output_type": "stream",
          "name": "stdout",
          "text": [
            "3\n"
          ]
        }
      ]
    },
    {
      "cell_type": "markdown",
      "source": [
        "# String Example"
      ],
      "metadata": {
        "id": "_XQEuWJ-nLwE"
      }
    },
    {
      "cell_type": "markdown",
      "source": [
        "Palindrome String"
      ],
      "metadata": {
        "id": "m6mGApb4ncHX"
      }
    },
    {
      "cell_type": "code",
      "source": [
        "s = input()\n",
        "s =s.lower()\n",
        "r = \"\"\n",
        "\n",
        "for i in s:\n",
        "  r = i + r\n",
        "\n",
        "if s == r:\n",
        "  print(\"Palindrome\")\n",
        "else:\n",
        "  print(\"Not Palindrome\")"
      ],
      "metadata": {
        "colab": {
          "base_uri": "https://localhost:8080/"
        },
        "id": "fSgZpBGEvpTX",
        "outputId": "374678b3-8da8-490b-a0f9-ddb4056e5651"
      },
      "execution_count": null,
      "outputs": [
        {
          "output_type": "stream",
          "name": "stdout",
          "text": [
            "HAnnah\n",
            "Palindrome\n"
          ]
        }
      ]
    },
    {
      "cell_type": "markdown",
      "source": [
        "Reverse Words"
      ],
      "metadata": {
        "id": "tvMLssYN4lIH"
      }
    },
    {
      "cell_type": "code",
      "source": [
        "sentance = input()\n",
        "\n",
        "words = sentance.split(' ')\n",
        "reverse_list = words[::-1]\n",
        "fianl_string = \" \".join(reverse_list)\n",
        "print(fianl_string)\n"
      ],
      "metadata": {
        "colab": {
          "base_uri": "https://localhost:8080/"
        },
        "id": "ZCJ1SWnrnUZ-",
        "outputId": "2cda3049-2917-406b-dcf4-b86719e22087"
      },
      "execution_count": null,
      "outputs": [
        {
          "output_type": "stream",
          "name": "stdout",
          "text": [
            "Harsh love Family\n",
            "Family love Harsh\n"
          ]
        }
      ]
    },
    {
      "cell_type": "code",
      "source": [
        "name=input()\n",
        "\n",
        "#reverse the words of the sentence here\n",
        "\n",
        "wordss= name.split(' ')\n",
        "wordss.reverse()\n",
        "\n",
        "print(\" \".join(wordss))"
      ],
      "metadata": {
        "colab": {
          "base_uri": "https://localhost:8080/"
        },
        "id": "WTTRqYLkvny2",
        "outputId": "51f9545a-c036-41e3-b54b-77edcf85de6e"
      },
      "execution_count": null,
      "outputs": [
        {
          "output_type": "stream",
          "name": "stdout",
          "text": [
            "python is super easy and fun\n",
            "fun and easy super is python\n"
          ]
        }
      ]
    },
    {
      "cell_type": "markdown",
      "source": [
        "No Spaces\n"
      ],
      "metadata": {
        "id": "mqhX2j1bDYiI"
      }
    },
    {
      "cell_type": "code",
      "source": [
        "s = input()\n",
        "\n",
        "s = s.lower()\n",
        "words = s.split(' ')\n",
        "final_list = [word[0].upper() + word[1:] for word in words]\n",
        "final_string = '_'.join(final_list)\n",
        "print(final_string)"
      ],
      "metadata": {
        "colab": {
          "base_uri": "https://localhost:8080/"
        },
        "id": "K3z1qdztvxMh",
        "outputId": "cfa9bec2-7b50-428e-86c2-ca70da4adcdb"
      },
      "execution_count": null,
      "outputs": [
        {
          "output_type": "stream",
          "name": "stdout",
          "text": [
            "Data scince\n",
            "Data_Scince\n"
          ]
        }
      ]
    },
    {
      "cell_type": "markdown",
      "source": [
        "Move Vowels\n"
      ],
      "metadata": {
        "id": "7cEDrf7TRfOW"
      }
    },
    {
      "cell_type": "code",
      "source": [
        "s  = input()\n",
        "vowls = \"aeiouAEIOU\"\n",
        "\n",
        "v = \"\"\n",
        "o = \"\"\n",
        "\n",
        "for i in s:\n",
        "  if i in vowls:\n",
        "    v = v + i\n",
        "  else:\n",
        "    o = o + i\n",
        "\n",
        "print(v+o)"
      ],
      "metadata": {
        "colab": {
          "base_uri": "https://localhost:8080/"
        },
        "id": "5quIPs_uNPWB",
        "outputId": "15679ab2-c617-450d-d1dc-c7407bfeb1e0"
      },
      "execution_count": null,
      "outputs": [
        {
          "output_type": "stream",
          "name": "stdout",
          "text": [
            "Harsh aade \n",
            "aaaeHrsh d \n"
          ]
        }
      ]
    },
    {
      "cell_type": "markdown",
      "source": [
        "Common Prefix"
      ],
      "metadata": {
        "id": "Tz9SeLgEXkNZ"
      }
    },
    {
      "cell_type": "code",
      "source": [
        "string1 = input()\n",
        "string2 = input()\n",
        "\n",
        "string1 = string1.lower()\n",
        "string2 = string2.lower()\n",
        "\n",
        "l1 = len(string1)\n",
        "l2 = len(string2)\n",
        "\n",
        "min_len = min(l1,l2)\n",
        "\n",
        "for i in range(min_len):\n",
        "  if string1[i] != string2[i]:\n",
        "    break\n",
        "if i == 0:\n",
        "  print(\"No Common Prefix\")\n",
        "else:\n",
        "  print(string1[:i])\n",
        "\n",
        "\n"
      ],
      "metadata": {
        "colab": {
          "base_uri": "https://localhost:8080/"
        },
        "id": "S6J6BjDwW18w",
        "outputId": "fcbb6d1f-34b3-4e10-db12-290892b7428b"
      },
      "execution_count": null,
      "outputs": [
        {
          "output_type": "stream",
          "name": "stdout",
          "text": [
            "Program\n",
            "Progress\n",
            "Progr\n"
          ]
        }
      ]
    },
    {
      "cell_type": "markdown",
      "source": [
        "Anagrams\n",
        "\n",
        "Two words are called anagrams if they have the same letters but in a different order. For example, 'night' and 'thing' are anagrams."
      ],
      "metadata": {
        "id": "JOKJ7OtVZtos"
      }
    },
    {
      "cell_type": "code",
      "source": [
        "s1 = input()\n",
        "s2 = input()\n",
        "\n",
        "def anagrams(s1,s2):\n",
        "  if len(s1) != len(s2):\n",
        "    return False\n",
        "  for i in range(len(s1)):\n",
        "    if s1.count(s1[i]) != s2.count(s1[i]):\n",
        "      return False\n",
        "  return True\n",
        "\n",
        "print(anagrams(s1,s2))\n"
      ],
      "metadata": {
        "id": "CqXLb64mZSqX",
        "colab": {
          "base_uri": "https://localhost:8080/"
        },
        "outputId": "85c85370-0d0b-4b32-c99c-68626859e333"
      },
      "execution_count": null,
      "outputs": [
        {
          "output_type": "stream",
          "name": "stdout",
          "text": [
            "thing\n",
            "night\n",
            "True\n"
          ]
        }
      ]
    },
    {
      "cell_type": "markdown",
      "source": [
        "Practice Questions 1"
      ],
      "metadata": {
        "id": "8Ko4aO-so-Zy"
      }
    },
    {
      "cell_type": "markdown",
      "source": [
        "Find Extra Character\n",
        "Description\n",
        "Given two strings, one of the strings will contain an extra character. Find the extra character. The number of all the other characters in both the strings will be the same. Check the sample input/output for more clarification.\n",
        "\n",
        "\n",
        "\n",
        "The code will be case-sensitive.\n",
        "\n",
        "\n",
        "\n",
        "----------------------------------------------------------------------\n",
        "\n",
        "Input:\n",
        "\n",
        "Two strings on two separate lines.\n",
        "\n",
        "\n",
        "\n",
        "Output:\n",
        "\n",
        "One character which is extra in one of the strings.\n",
        "\n",
        "\n",
        "\n",
        "----------------------------------------------------------------------\n",
        "\n",
        "Sample input:\n",
        "\n",
        "abcd\n",
        "\n",
        "cedab\n",
        "\n",
        "\n",
        "\n",
        "Sample output:\n",
        "\n",
        "e"
      ],
      "metadata": {
        "id": "qbnl-CUrpExB"
      }
    },
    {
      "cell_type": "markdown",
      "source": [
        "Question No 2\n"
      ],
      "metadata": {
        "id": "0xEi-rxYpG-U"
      }
    },
    {
      "cell_type": "markdown",
      "source": [
        "Integer or String\n",
        "Description\n",
        "You have been using ast.literal_eval() to take input in a suitable format. Have you thought of how it distinguishes between different data types and data structures?\n",
        "\n",
        "\n",
        "\n",
        "We will solve a similar but smaller problem here. You will be given a string as input. You will have to determine if the string can be an integer or not.\n",
        "\n",
        "\n",
        "\n",
        "This is also encountered a lot in Data Science. Upon taking a lot of data, sometimes integer values are treated as a string, and due to that, a lot of functionalities of integer data that you will learn ahead are rendered useless.\n",
        "\n",
        "\n",
        "\n",
        "----------------------------------------------------------------------\n",
        "\n",
        "Input:\n",
        "\n",
        "A single line of string.\n",
        "\n",
        "\n",
        "\n",
        "Output:\n",
        "\n",
        "INT if the input string is an integer and STR otherwise.\n",
        "\n",
        "\n",
        "\n",
        "----------------------------------------------------------------------\n",
        "\n",
        "Sample input:\n",
        "\n",
        "12\n",
        "\n",
        "\n",
        "\n",
        "Sample output:\n",
        "\n",
        "INT\n",
        "\n",
        "\n",
        "\n",
        "----------------------------------------------------------------------\n",
        "\n",
        "Sample input:\n",
        "\n",
        "12.4\n",
        "\n",
        "\n",
        "\n",
        "Sample output:\n",
        "\n",
        "STR\n",
        "\n",
        "\n",
        "\n",
        "Explanation: You only have to print INT if it's an integer; in this case, it is a float.\n",
        "\n",
        "\n",
        "\n",
        "----------------------------------------------------------------------\n",
        "\n",
        "Sample input:\n",
        "\n",
        "43a\n",
        "\n",
        "\n",
        "\n",
        "Sample output:\n",
        "\n",
        "STR"
      ],
      "metadata": {
        "id": "sr-WAVL2pXIY"
      }
    },
    {
      "cell_type": "markdown",
      "source": [
        "Question No 03"
      ],
      "metadata": {
        "id": "jYFB-cYsparH"
      }
    },
    {
      "cell_type": "markdown",
      "source": [
        "Clean Numbers\n",
        "Description\n",
        "While extracting data from different sources, numeric values often come in string format and with commas like 1,000 or 23,321 and sometimes with spaces in the start and beginning of the string. For simplicity, we will consider only integer values embedded with commas. You will take the input and print the cleaned integer without commas and spaces.\n",
        "\n",
        "\n",
        "\n",
        "----------------------------------------------------------------------\n",
        "\n",
        "Input:\n",
        "\n",
        "One line input of string, it will consist of only spaces, commas and digits.\n",
        "\n",
        "\n",
        "\n",
        "Output:\n",
        "\n",
        "Cleaned number.\n",
        "\n",
        "\n",
        "\n",
        "----------------------------------------------------------------------\n",
        "\n",
        "Sample input:\n",
        "\n",
        "     3,213\n",
        "\n",
        "\n",
        "\n",
        "Sample output:\n",
        "\n",
        "3213\n",
        "\n",
        "\n",
        "\n",
        "----------------------------------------------------------------------\n",
        "\n",
        "Sample input:\n",
        "\n",
        "4,68,72,352      \n",
        "\n",
        "\n",
        "\n",
        "Sample output:\n",
        "\n",
        "46872352"
      ],
      "metadata": {
        "id": "p82LoOVGpixR"
      }
    },
    {
      "cell_type": "markdown",
      "source": [
        "Question no 4"
      ],
      "metadata": {
        "id": "8wp2RlXKpyBA"
      }
    },
    {
      "cell_type": "markdown",
      "source": [
        "Secret Message\n",
        "Description\n",
        "You write all your passwords in a diary so that you don't forget them. But clearly, this is too risky, so you came up with a simple plan; you will simply write it by shifting all the alphabets by a certain step. For example, if you decide your step to be 3, then 'a' will become 'd', and 'k' will become 'n' and so for all alphabets. The last alphabets will simply circle back to 'a'. In this case, 'y' will become 'b' and so on. Now you just have to remember the step size, can then you can check the password anytime you want. You decided to write code to do this, now that you have learnt to code in python. Your code will take in the step size and what is written in the diary and give out the real password.\n",
        "\n",
        "\n",
        "\n",
        "----------------------------------------------------------------------\n",
        "\n",
        "Input:\n",
        "\n",
        "A list of two elements.\n",
        "\n",
        "The first element will be a string consisting of only alphabets which are taken from the diary, and the second element will be the step size.\n",
        "\n",
        "\n",
        "\n",
        "Output:\n",
        "\n",
        "A string denoting the password\n",
        "\n",
        "\n",
        "\n",
        "----------------------------------------------------------------------\n",
        "\n",
        "Sample input:\n",
        "\n",
        "['ytKveh', 4]\n",
        "\n",
        "\n",
        "\n",
        "Sample output:\n",
        "\n",
        "upGrad\n",
        "\n",
        "\n",
        "\n",
        "Explanation:\n",
        "\n",
        "The password was 'upGrad'. Upon changing it by step of 4,\n",
        "\n",
        "u became y,\n",
        "\n",
        "p became t,\n",
        "\n",
        "G became K,\n",
        "\n",
        "r became v,\n",
        "\n",
        "a became e,\n",
        "\n",
        "d became h,\n",
        "\n",
        "and thus what was written in the diary was ytKveh.\n",
        "\n",
        "\n",
        "\n",
        "----------------------------------------------------------------------\n",
        "\n",
        "Sample input:\n",
        "\n",
        "['banana', 7]\n",
        "\n",
        "\n",
        "\n",
        "Sample output:\n",
        "\n",
        "utgtgt"
      ],
      "metadata": {
        "id": "qs9MIDZIpq1c"
      }
    },
    {
      "cell_type": "markdown",
      "source": [
        "Question No 5"
      ],
      "metadata": {
        "id": "Y2680R0Rp39W"
      }
    },
    {
      "cell_type": "markdown",
      "source": [
        "A Weird Sum\n",
        "Description\n",
        "Write a program that computes the value of n+nn+nnn+nnnn+... nn...n ntimes with a given number as the value of n.\n",
        "\n",
        "\n",
        "\n",
        "For example, if n=3 , then you have to find the value of 3+33+333\n",
        "\n",
        "if n=10, then you have to find the value of 10 + 1010 + 101010 + 10101010 + 1010101010 + 101010101010 + 10101010101010 + 1010101010101010 +101010101010101010+ 10101010101010101010"
      ],
      "metadata": {
        "id": "S3biIuKepuOE"
      }
    },
    {
      "cell_type": "markdown",
      "source": [
        "Remove Duplicates\n"
      ],
      "metadata": {
        "id": "_Ot9KDX0rDd0"
      }
    },
    {
      "cell_type": "code",
      "source": [
        "import ast\n",
        "mylist = ast.literal_eval(input())\n",
        "\n",
        "d = {}\n",
        "\n",
        "for item in mylist:\n",
        "  if item not in d:\n",
        "    d[item] = 1\n",
        "\n",
        "print(list(list(d.keys())))\n",
        "\n"
      ],
      "metadata": {
        "id": "SQy14PNXqxSw",
        "colab": {
          "base_uri": "https://localhost:8080/"
        },
        "outputId": "67e87ee4-70f5-48ba-df52-3c122796ced8"
      },
      "execution_count": 13,
      "outputs": [
        {
          "output_type": "stream",
          "name": "stdout",
          "text": [
            "4, 4, 4, 4\n",
            "[4]\n"
          ]
        }
      ]
    },
    {
      "cell_type": "code",
      "source": [
        "# now lets check count of each number coming in the list\n",
        "import ast\n",
        "mylist = ast.literal_eval(input())\n",
        "\n",
        "d = {}\n",
        "\n",
        "for item in mylist:\n",
        "  if item not in d:\n",
        "    d[item] = 1\n",
        "  else:\n",
        "    d[item] = d[item] + 1\n",
        "\n",
        "a = list(list(d.keys()))\n",
        "b = list(list(d.values()))\n",
        "\n",
        "# Print like key value pair\n",
        "for i in range(len(a)):\n",
        "  print(a[i], b[i])"
      ],
      "metadata": {
        "colab": {
          "base_uri": "https://localhost:8080/"
        },
        "id": "51O7MeBv8MY6",
        "outputId": "40dc0d7d-ea2c-442b-b820-b4022be588d3"
      },
      "execution_count": 10,
      "outputs": [
        {
          "output_type": "stream",
          "name": "stdout",
          "text": [
            "8, 9, 2, 2, 3, 4, 5, 2\n",
            "8 1\n",
            "9 1\n",
            "2 3\n",
            "3 1\n",
            "4 1\n",
            "5 1\n"
          ]
        }
      ]
    },
    {
      "cell_type": "markdown",
      "source": [
        "Dictionary to List"
      ],
      "metadata": {
        "id": "d3HFN_AP-Dj2"
      }
    },
    {
      "cell_type": "markdown",
      "source": [
        "Sample input:\n",
        "\n",
        "{‘Mobile’: [‘Redmi’, ‘Samsung’, ‘Realme’],\n",
        "\n",
        "‘Laptop’: [‘Dell’, ‘HP’],\n",
        "\n",
        "‘TV’: [‘Videocon’, ‘Sony’] }\n",
        "\n",
        "\n",
        "\n",
        "Sample output:\n",
        "\n",
        "[‘Mobile_Redmi’, ‘Mobile_Samsung’, ‘Mobile_Realme’, ‘Laptop_Dell’, ‘Laptop_HP’, ‘TV_Videocon’, ‘TV_Sony’]"
      ],
      "metadata": {
        "id": "nb6TU4yu_5-B"
      }
    },
    {
      "cell_type": "markdown",
      "source": [
        "What is ast.literal_eval?\n",
        "\n",
        "      ast.literal_eval is a function in Python that can safely read and understand simple data structures, like:\n",
        "        Strings (e.g., \"hello\")\n",
        "        Numbers (e.g., 42, 3.14)\n",
        "        Lists (e.g., [1, 2, 3])\n",
        "        Dictionaries (e.g., {\"name\": \"Alice\", \"age\": 30})\n",
        "        Tuples (e.g., (1, 2, 3))\n",
        "        Sets (e.g., {1, 2, 3})\n",
        "\n",
        "     Why is ast.literal_eval useful?\n",
        "        The main benefit of using ast.literal_eval is that it's safe.\n",
        "        Unlike the regular eval() function in Python, ast.literal_eval only allows a limited set of data structures.\n",
        "        This means it won't execute any arbitrary code, which could be potentially harmful.\n",
        "\n",
        "    For example, if you have a string that contains a Python expression,\n",
        "    like \"__import__('os').system('rm -rf /')\",\n",
        "    eval() would actually run that command and delete your entire file system! But ast.\n",
        "    literal_eval would simply refuse to evaluate that, keeping your system safe.\n",
        "\n",
        "    How to use ast.literal_eval\n",
        "    You can use ast.literal_eval like this:\n",
        "    python\n",
        "    import ast\n",
        "\n",
        "    data = \"[1, 2, 3]\"\n",
        "    my_list = ast.literal_eval(data)\n",
        "    print(my_list)  # Output: [1, 2, 3]\n",
        "\n",
        "In this example, ast.literal_eval takes the string \"[1, 2, 3]\" and turns it into a Python list object.\n",
        "So, in summary, ast.literal_eval is a handy and safe way to convert simple data structures from strings into actual Python objects, without the risk of running arbitrary code."
      ],
      "metadata": {
        "id": "DnKZcPhGGobq"
      }
    },
    {
      "cell_type": "code",
      "source": [
        "import ast\n",
        "input_str = input()\n",
        "#input dictionary has been received in input_dict\n",
        "input_dict = ast.literal_eval(input_str)\n",
        "\n",
        "#start writing your code here\n",
        "\n",
        "\n",
        "l = []\n",
        "for key, value in input_dict.items():\n",
        "  for item in value:\n",
        "    l.append(key + \"_\" + item)\n",
        "\n",
        "print(l)"
      ],
      "metadata": {
        "colab": {
          "base_uri": "https://localhost:8080/"
        },
        "id": "reRf3bkf8u-8",
        "outputId": "ffbcbd61-41de-4787-80b5-0c0c1c0a750b"
      },
      "execution_count": 23,
      "outputs": [
        {
          "output_type": "stream",
          "name": "stdout",
          "text": [
            "{'Mobile': ['Redmi', 'Samsung', 'Realme'], 'Laptop': ['Dell', 'HP'], 'TV':['Videocon', 'Sony'] }\n",
            "['Mobile_Redmi', 'Mobile_Samsung', 'Mobile_Realme', 'Laptop_Dell', 'Laptop_HP', 'TV_Videocon', 'TV_Sony']\n"
          ]
        }
      ]
    },
    {
      "cell_type": "markdown",
      "source": [
        "upGrad String\n",
        "Description\n",
        "For this question, we will define something called an upGrad string. Note that this definition is not valid outside this question. A string is an upGrad string if the frequency of its characters is something like 1, 2, 3, 4,... That is a character appears only once, another appears twice, another appears thrice, and so on. For example, the string '$yrr$ssrsr' is an upGrad string since the frequency of y is 1, $ is 2, s is 3, r is 4. However, the string '$yrr$ssrsr%' will not be an upGrad string since it has two characters (y and %) with frequency 1. The frequency of characters should be of form 1, 2, 3, 4, 5... only and no two characters will have the same frequency.\n",
        "\n",
        "Given a string, can you determine if the string is an upGrad string or not?\n",
        "\n",
        "\n",
        "\n",
        "\n",
        "\n",
        "Input:\n",
        "\n",
        "A string.\n",
        "\n",
        "\n",
        "\n",
        "Output:\n",
        "\n",
        "Boolean depending whether the string is upGrad string or not\n",
        "\n",
        "\n",
        "\n",
        "\n",
        "\n",
        "Sample input:\n",
        "\n",
        "$yrr$ssrsr\n",
        "\n",
        "\n",
        "\n",
        "Sample output:\n",
        "\n",
        "True\n",
        "\n",
        "\n",
        "\n",
        "\n",
        "\n",
        "Sample input:\n",
        "\n",
        "$yrr$ssrsr%\n",
        "\n",
        "\n",
        "\n",
        "Sample output:\n",
        "\n",
        "False\n",
        "\n",
        "\n",
        "\n",
        "Sample input:\n",
        "\n",
        "ab#ab#aba\n",
        "\n",
        "\n",
        "\n",
        "Sample output:\n",
        "\n",
        "False\n",
        "\n",
        "\n",
        "\n",
        "Sample input:\n",
        "\n",
        "ab#ab#ab6a\n",
        "\n",
        "\n",
        "\n",
        "Sample output:\n",
        "\n",
        "True"
      ],
      "metadata": {
        "id": "TWeN-1iZI-6F"
      }
    },
    {
      "cell_type": "code",
      "source": [
        "s = input()\n",
        "\n",
        "#start writing your code here\n",
        "\n",
        "d = {}\n",
        "for i in s:\n",
        "  if i not in d:\n",
        "    d[i] = 1\n",
        "  else:\n",
        "    d[i] = d[i] + 1\n",
        "\n",
        "vals = d.values()\n",
        "n = len(d)\n",
        "\n",
        "def upgrad_strings(vals, n):\n",
        "    for i in range(1,n-1):\n",
        "      if i not in vals:\n",
        "        return False\n",
        "    return True\n",
        "\n",
        "print(upgrad_strings(vals, n))"
      ],
      "metadata": {
        "colab": {
          "base_uri": "https://localhost:8080/"
        },
        "id": "vVv8StQhHvni",
        "outputId": "d5f14404-a4bd-42c0-b347-7f24eaa27c3f"
      },
      "execution_count": 26,
      "outputs": [
        {
          "output_type": "stream",
          "name": "stdout",
          "text": [
            "ab#ab#ab6a\n",
            "True\n"
          ]
        }
      ]
    },
    {
      "cell_type": "markdown",
      "source": [
        "Balanced Brackets"
      ],
      "metadata": {
        "id": "G2qs3qU-Ktyu"
      }
    },
    {
      "cell_type": "markdown",
      "source": [
        "Description\n",
        "You will be given a string with a lot of brackets. You have to print if the brackets are balanced or not. Remember, there are three types of brackets: ‘( )’,  ‘{ }’ and ‘[ ]’.\n",
        "\n",
        "----------------------------------------------------------------------\n",
        "Input:\n",
        "A string\n",
        "\n",
        "Output:\n",
        "Yes, if the brackets are balanced.\n",
        "No otherwise.\n",
        "\n",
        "----------------------------------------------------------------------\n",
        "Sample input:\n",
        "){[[]]}())()\n",
        "\n",
        "Sample output:\n",
        "No\n",
        "\n",
        "----------------------------------------------------------------------\n",
        "Sample input 2:\n",
        "[](){[]()(){}}\n",
        "\n",
        "Sample output 2:\n",
        "Yes"
      ],
      "metadata": {
        "id": "YNywAK-cMC1e"
      }
    },
    {
      "cell_type": "code",
      "source": [
        "imp = input()\n",
        "\n",
        "#start writing your code here\n",
        "\n",
        "stack = []\n",
        "\n",
        "for i in imp:\n",
        "  if len(stack) == 0:\n",
        "    stack.append(i)\n",
        "  else:\n",
        "    if i == ')' and stack[-1] == '(':\n",
        "      stack.pop()\n",
        "    elif i == '}' and stack[-1] == '{':\n",
        "      stack.pop()\n",
        "    elif i == ']' and stack[-1] == '[':\n",
        "      stack.pop()\n",
        "    else:\n",
        "      stack.append(i)\n",
        "\n",
        "if stack:\n",
        "  print('No')\n",
        "else:\n",
        "  print('Yes')"
      ],
      "metadata": {
        "colab": {
          "base_uri": "https://localhost:8080/"
        },
        "id": "tYdoLoGeKKoE",
        "outputId": "35ed674d-de8a-4cef-a71f-cd5f710687d4"
      },
      "execution_count": 33,
      "outputs": [
        {
          "output_type": "stream",
          "name": "stdout",
          "text": [
            "[](){[]()(){}}\n",
            "Yes\n"
          ]
        }
      ]
    },
    {
      "cell_type": "markdown",
      "source": [
        "Question No 1"
      ],
      "metadata": {
        "id": "oaY-WAnsOT4o"
      }
    },
    {
      "cell_type": "markdown",
      "source": [
        "Cheapest Item\n",
        "Description\n",
        "You will be given a dictionary with keys as items and values as their prices. You have to print the cheapest item.\n",
        "\n",
        "\n",
        "\n",
        "----------------------------------------------------------------------\n",
        "\n",
        "Sample input:\n",
        "\n",
        "A single line non-empty dictionary.\n",
        "\n",
        "\n",
        "\n",
        "Sample output:\n",
        "\n",
        "cheapest_item name: cheapest_item_cost.\n",
        "\n",
        "\n",
        "\n",
        "----------------------------------------------------------------------\n",
        "\n",
        "Sample input:\n",
        "\n",
        "{'mobile1':10000, 'mobile2':11000, 'mobile3':13000, 'mobile4':9000, 'mobile5':15000, 'mobile6':16000, 'mobile7':17000, 'mobile8':18000, 'mobile9':19000}\n",
        "\n",
        "\n",
        "\n",
        "Sample output:\n",
        "\n",
        "mobile4: 9000\n",
        "\n",
        "\n",
        "\n",
        "Note: in the case of a tie, whichever item came first should be the output."
      ],
      "metadata": {
        "id": "9ETsGg4EOZTo"
      }
    },
    {
      "cell_type": "markdown",
      "source": [
        "Question no 2"
      ],
      "metadata": {
        "id": "l6hxVrb7ObMr"
      }
    },
    {
      "cell_type": "markdown",
      "source": [
        "Maximum Distance\n",
        "Description\n",
        "You will be given a list of repeated elements. You have to find the maximum distance between two same elements. The answer will be zero if there are no repeated elements.\n",
        "\n",
        "\n",
        "\n",
        "----------------------------------------------------------------------\n",
        "\n",
        "Input:\n",
        "\n",
        "A non-empty list of integers.\n",
        "\n",
        "\n",
        "\n",
        "Output:\n",
        "\n",
        "A single integer denoting the maximum distance between two same integers.\n",
        "\n",
        "\n",
        "\n",
        "----------------------------------------------------------------------\n",
        "\n",
        "Sample input:\n",
        "\n",
        "[1, 2, 3, 2, 5, 1, 2, 4, 6, 2, 7, 8, 6]\n",
        "\n",
        "\n",
        "\n",
        "Sample output:\n",
        "\n",
        "8\n",
        "\n",
        "\n",
        "\n",
        "Explanation:\n",
        "\n",
        "Max distance for 1: 5\n",
        "\n",
        "Max distance for 2: 8\n",
        "\n",
        "Max distance for 3: 0\n",
        "\n",
        "Max distance for 4: 0\n",
        "\n",
        "Max distance for 5: 0\n",
        "\n",
        "Max distance for 6: 4\n",
        "\n",
        "Max distance for 7: 0\n",
        "\n",
        "Max distance for 8: 0"
      ],
      "metadata": {
        "id": "lXQpdQ89Ofo0"
      }
    },
    {
      "cell_type": "markdown",
      "source": [
        "Qustion No 3"
      ],
      "metadata": {
        "id": "BWsLSzddOi0I"
      }
    },
    {
      "cell_type": "markdown",
      "source": [
        "Vote for Food\n",
        "Description\n",
        "Your team is going camping, and you are taking a vote to decide what food to pack for dinner.\n",
        "\n",
        "Everyone gets a vote, and the food item that gets at least one more than half of the votes wins. None of the items wins if nothing gets at least one more than half the votes. Assume that every person gets only one vote.\n",
        "\n",
        "The input will contain a list of food items where each occurrence of an item represents one vote. You should print the winning food item as output if there is no clear winner, print \"NOTA\".\n",
        "\n",
        "\n",
        "\n",
        "Sample Input:\n",
        "\n",
        "[\"pasta\",\"pasta\",\"pasta\",\"pasta\",\"pasta\",\"paratha\",\"paratha\",\"paratha\"]\n",
        "\n",
        "Sample Output:\n",
        "\n",
        "pasta\n",
        "\n",
        "\n",
        "\n",
        "This question was asked in a Data Analyst interview."
      ],
      "metadata": {
        "id": "CndvzvunOmGg"
      }
    },
    {
      "cell_type": "markdown",
      "source": [
        "Question no 4\n"
      ],
      "metadata": {
        "id": "rskIumPdOoVX"
      }
    },
    {
      "cell_type": "markdown",
      "source": [
        "Flatten a dictionary\n",
        "Description\n",
        "Consider a nested dictionary as follows:\n",
        "\n",
        "{'Fruit': 1, 'Vegetable': {'Cabbage': 2, 'Cauliflower': 3}, 'Spices': 4}\n",
        "\n",
        "Your task is to flatten a nested dictionary and join the nested keys with the \"_\" character. For the above dictionary, the flattened dictionary would be as follows:\n",
        "\n",
        "{'Fruit': 1, 'Vegetable_Cabbage': 2, 'Vegetable_Cauliflower': 3, 'Spices': 4}\n",
        "\n",
        "\n",
        "\n",
        "The input will have a nested dictionary.\n",
        "\n",
        "The output should have two lists. The first list will have keys, and the second list should have values. Both lists should be sorted.\n",
        "\n",
        "Sample Input:\n",
        "\n",
        "{'Fruit': 1, 'Vegetable': {'Cabbage': 2, 'Cauliflower': 3}, 'Spices': 4}\n",
        "\n",
        "Sample Output:\n",
        "\n",
        "['Fruit', 'Spices', 'Vegetable_Cabbage', 'Vegetable_Cauliflower']\n",
        "[1, 2, 3, 4]\n",
        "\n",
        "\n",
        "\n",
        "\n",
        "You will find the inbuilt function isinstance() of python quite useful here. Read more about it here."
      ],
      "metadata": {
        "id": "lLYtgweiOp_u"
      }
    },
    {
      "cell_type": "markdown",
      "source": [
        "# Question for  me\n"
      ],
      "metadata": {
        "id": "TWJy27FtP_jo"
      }
    },
    {
      "cell_type": "markdown",
      "source": [
        "1. Using Built-in Functions\n",
        "Description\n",
        "Write a Python program to find the minimum of two numbers.\n",
        "\n",
        "2. Description\n",
        "Write a Python program to insert the ‘&’ character in between every character of a string.\n",
        "\n",
        "  Hint: Make use of a certain built-in function.\n",
        "\n",
        "3. List Comprehensions\n",
        "Description\n",
        "Problem Statement\n",
        "\n",
        "  Write a Python function called 'count_even_numbers' that takes a list of integers as input and returns the count of even numbers in the list.\n",
        "\n",
        "  Function Signature\n",
        "\n",
        "  def count_even_numbers(numbers: List[int]) -> int:\n",
        "    pass\n",
        "  Write the function definition for 'count_even_numbers' that follows the specifications above.\n",
        "  Input  [1, 2, 3, 4, 5, 6, 7, 8, 9, 10]\n",
        "  Output 5"
      ],
      "metadata": {
        "id": "TBrenRu6QEKq"
      }
    },
    {
      "cell_type": "markdown",
      "source": [
        "1 . List of Names\n",
        "Description\n",
        "Perform the following operations on a list of names:\n",
        "\n",
        "- Create a list of 5 names - ‘Anil’, ‘Amol’, ‘Aditya’, ‘Avi’, ‘Alka’\n",
        "\n",
        "- Insert the name ‘Anuj’ before ‘Aditya’\n",
        "\n",
        "- Append the name ‘Zulu’\n",
        "\n",
        "- Delete ‘Avi’ from the list\n",
        "\n",
        "- Replace ‘Anil’ with ‘AnilKumar’\n",
        "\n",
        "- Sort all the names in the list\n",
        "\n",
        "- Print reversed sorted list"
      ],
      "metadata": {
        "id": "uYqDRnm1QWgt"
      }
    },
    {
      "cell_type": "markdown",
      "source": [
        "2. Average of Numbers\n",
        "Description\n",
        "You are given a list of numbers. Write a function find_average that takes the list as input and returns the average of the numbers in the list as a floating-point value.\n",
        "\n",
        "\n",
        "\n",
        "Function signature:\n",
        "\n",
        "\n",
        "\n",
        "def find_average(nums: list) -> float:\n",
        "    pass\n",
        "\n",
        "\n",
        "Input:\n",
        "\n",
        "The input parameter nums is a list of numbers. The list is guaranteed to have at least one element\n",
        "\n",
        "\n",
        "\n",
        "Output:\n",
        "\n",
        "The function should return a float value representing the average of the numbers in the list.\n",
        "\n",
        "\n",
        "\n",
        "Example:\n",
        "\n",
        "\n",
        "\n",
        "numbers = [1, 2, 3, 4, 5]\n",
        "print(find_average(numbers))\n",
        "\n",
        "\n",
        "Output:\n",
        "\n",
        "\n",
        "\n",
        "3.0"
      ],
      "metadata": {
        "id": "6z6tntvEQi2X"
      }
    },
    {
      "cell_type": "markdown",
      "source": [
        "1. Valid customer IDs\n",
        "Description\n",
        "Simon runs a pharmaceutical factory. Only customers who have been pre-approved can enter the manufacturing facility and do a quality check for their order.\n",
        "The pre-approved customers get a customer ID which needs to be validated at entrance.\n",
        "A valid customer ID:\n",
        "-It will have groups of three characters separated by \"_\".\n",
        "-Can only contain numbers 0-9 and characters a-z and A-Z.(other than \"_\")\n",
        "-Contains 12 characters excluding the \"_\"\n",
        "-A character cannot be repeated more than thrice.\n",
        "\n",
        "You have to write Python code to check for valid customer IDs.\n",
        "The input will have a customer ID and the output should say \"valid\" if the entered ID is valid otherwise it should say \"invalid\".\n",
        "\n",
        "Sample Input:\n",
        "abc_123_2ac_Adf\n",
        "\n",
        "Sample Output:\n",
        "valid\n",
        "\n",
        "Execution Time Limit"
      ],
      "metadata": {
        "id": "HRnj1gy8Qomq"
      }
    },
    {
      "cell_type": "markdown",
      "source": [
        "2. Reverse Words\n",
        "Description\n",
        "Question:\n",
        "\n",
        "You are given a string representing a sentence. Write a function reverse_words that takes the sentence as input and returns the sentence with the words reversed.\n",
        "\n",
        "\n",
        "\n",
        "Function signature:\n",
        "\n",
        "def reverse_words(sentence: str) -> str:\n",
        "    pass\n",
        "\n",
        "\n",
        "﻿Input:\n",
        "\n",
        "The input parameter sentence is a string representing a sentence. The sentence consists of words separated by a single space. The sentence may contain punctuation marks and special characters.\n",
        "\n",
        "\n",
        "\n",
        "Output:\n",
        "\n",
        "The function should return a string representing the sentence with the words reversed.\n",
        "\n",
        "\n",
        "\n",
        "Example:\n",
        "\n",
        "sentence = \"Hello, world! How are you?\"\n",
        "print(reverse_words(sentence))\n",
        "\n",
        "\n",
        "Output:\n",
        "\n",
        ",olleH !dlrow woH era ?uoy\n",
        "Execution Time Limit"
      ],
      "metadata": {
        "id": "1Wnb9TNxQrdr"
      }
    },
    {
      "cell_type": "markdown",
      "source": [
        "1,. Dictionaries\n",
        "Description\n",
        "You are given a dictionary representing the scores of students in a class. Each key-value pair in the dictionary represents a student's name and their corresponding score. Write a function 'find_top_student' that takes the dictionary as input and returns the name of the student with the highest score.\n",
        "\n",
        "\n",
        "\n",
        "Function signature:\n",
        "\n",
        "def find_top_student(scores: dict) -> str:\n",
        "    pass\n",
        "\n",
        "\n",
        "Input:\n",
        "\n",
        "\n",
        "\n",
        "The input parameter scores is a dictionary where the keys are strings (student names) and the values are integers (scores). The dictionary is guaranteed to have at least one entry.\n",
        "\n",
        "\n",
        "\n",
        "Output:\n",
        "\n",
        "\n",
        "\n",
        "The function should return a string representing the name of the student with the highest score.\n",
        "\n",
        "\n",
        "\n",
        "﻿Example:\n",
        "\n",
        "scores = {'Alice': 85, 'Bob': 92, 'Charlie': 78, 'David': 90}\n",
        "print(find_top_student(scores))\n",
        "\n",
        "\n",
        "Output:\n",
        "\n",
        "Bob"
      ],
      "metadata": {
        "id": "qFMWPPX3QvfS"
      }
    },
    {
      "cell_type": "markdown",
      "source": [
        "2. Dictionaires\n",
        "Description\n",
        "Write a Python function called \"calculate_average_grades\" that takes in a dictionary representing student grades as input and returns a dictionary containing the average grade for each student.\n",
        "\n",
        "\n",
        "\n",
        "The input dictionary will have the following format:\n",
        "\n",
        "{\n",
        "    \"student1\": [grade1, grade2, ...],\n",
        "    \"student2\": [grade1, grade2, ...],\n",
        "    ...\n",
        "}\n",
        "The output dictionary should have the following format:\n",
        "\n",
        "{\n",
        "    \"student1\": average_grade1,\n",
        "    \"student2\": average_grade2,\n",
        "    ...\n",
        "}\n",
        "Function Signature:\n",
        "\n",
        "def calculate_average_grades(grades: dict) -> dict:\n",
        "    pass\n",
        "Write the function definition for \"calculate_average_grades\" that follows the specifications above.\n",
        "\n",
        "Note: Round the average to two decimal places.\n",
        "\n",
        "\n",
        "\n",
        "Sample Test Case\n",
        "\n",
        "Input:\n",
        "\n",
        "{\"Alice\": [85, 90, 92], \"Bob\": [78, 80, 75], \"Charlie\": [92, 88, 95]}\n",
        "Output:\n",
        "\n",
        "{\"Alice\": 89.0, \"Bob\": 77.67, \"Charlie\": 91.67}"
      ],
      "metadata": {
        "id": "J2YQIXMBQyow"
      }
    },
    {
      "cell_type": "code",
      "source": [],
      "metadata": {
        "id": "-SLQpFFkMwLN"
      },
      "execution_count": 31,
      "outputs": []
    }
  ]
}